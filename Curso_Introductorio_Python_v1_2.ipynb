{
 "cells": [
  {
   "cell_type": "markdown",
   "metadata": {
    "id": "v-vMFYipu4Z2"
   },
   "source": [
    "# *Curso Introductorio de Programación en Python* - Ver 1.2\n",
    "## Ronald Delgado - Marzo, 2022\n"
   ]
  },
  {
   "cell_type": "markdown",
   "metadata": {
    "id": "RjhvB5ejvGM3"
   },
   "source": [
    "## Introducción\n",
    "\n",
    "A lo largo del presente curso realizaremos una introducción al lenguaje de programación **Python** y abordaremos de manera gradual y con ejemplos prácticos cada una de las funcionalidades básicas de dicho lenguaje. Para ello, haremos uso de lo que se conoce como **Jupyter Notebooks**, el cual es un entorno web y de código abierto que permite crear y compartir documentos que combinan código (interactivo), ecuaciones, gráficas y texto narrativo.\n",
    "\n",
    "Un *Jupyter Notebook* está compuesto principalmente por celdas que pueden ser empleadas para introducir texto, ecuaciones, imágenes, etc, así como celdas en donde se pueden escribir instrucciones, funciones y código Python en general, para luego ejecutarlo presionando *Shift-Enter*.\n",
    "\n",
    "Ejemplos de ello y demás funcionalidades de los *Jupyter Notebooks* lo veremos a lo largo del curso a medida que se vaya desarrollando.\n",
    "\n",
    "En este sentido, los tópicos a tratar en el presente curso serán:\n",
    "\n",
    "- Usando Python como una calculadora.\n",
    "- Tipos de datos en Python.\n",
    "- Listas.\n",
    "- Comentarios y estructura en la programación.\n",
    "- Control de Flujo: `if`, `for`, `while` y otras herramientas.\n",
    "  - `if`.\n",
    "  - `for`.\n",
    "  - La instrucción break.\n",
    "  - `while`.\n",
    "- Trabajando con funciones en Python.\n",
    "- Ejercicio práctico #1\n",
    "- List Comprehension.\n",
    "- Tuplas y secuencias.\n",
    "- Diccionarios.\n",
    "- Input y Output.\n",
    "- Librerías e imports.\n",
    "- Librería NumPy.\n",
    "- Librería Matplotlib.\n",
    "- Ejercicio práctico #2\n",
    "- Librería Pandas.\n",
    "- Proyecto de Análisis de Datos.\n",
    "- Conclusiones."
   ]
  },
  {
   "cell_type": "markdown",
   "metadata": {
    "id": "VGckhPr6XhM6"
   },
   "source": [
    "# Usando Python como una calculadora\n",
    "\n",
    "Una de las principales funcionalidades de Python es que puede usarse como una calculadora común y corriente. Es decir, podemos introducir operaciones matemáticas básicas en la línea de comandos y estas serán ejecutadas tal y como se espera. Por ejemplo, ejecutemos cada una de las siguientes celdas para obtener el resultado:"
   ]
  },
  {
   "cell_type": "code",
   "execution_count": null,
   "metadata": {
    "id": "nXYPpAYKYDe8"
   },
   "outputs": [],
   "source": [
    "2+2"
   ]
  },
  {
   "cell_type": "code",
   "execution_count": null,
   "metadata": {
    "id": "q0MlKtBeO6lC"
   },
   "outputs": [],
   "source": [
    "25-10*3"
   ]
  },
  {
   "cell_type": "code",
   "execution_count": null,
   "metadata": {
    "id": "nAurg68SO_jk"
   },
   "outputs": [],
   "source": [
    "(2+3*4)/8"
   ]
  },
  {
   "cell_type": "code",
   "execution_count": null,
   "metadata": {
    "id": "7G5b77i9PJQo"
   },
   "outputs": [],
   "source": [
    "2**3"
   ]
  },
  {
   "cell_type": "markdown",
   "metadata": {
    "id": "uFHocgB6PVHp"
   },
   "source": [
    "En este último caso, nótese que el operador para \"elevar\" un número a otro es doble asterísco **."
   ]
  },
  {
   "cell_type": "markdown",
   "metadata": {
    "id": "R_4obGbJP5HA"
   },
   "source": [
    "Por otro lado, el signo igual = puede ser utilizado para asignar un valor a una variable:"
   ]
  },
  {
   "cell_type": "code",
   "execution_count": null,
   "metadata": {
    "id": "sn66jz68QDJ5"
   },
   "outputs": [],
   "source": [
    "base = 10.5\n",
    "altura = 2.5\n",
    "area_triangulo = (base*altura)/2\n",
    "print(area_triangulo)"
   ]
  },
  {
   "cell_type": "markdown",
   "metadata": {
    "id": "YtekjfrsQcIo"
   },
   "source": [
    "En este caso, hemos usado la función `print()` de Python para mostrar el resultado final de la operación. A lo largo del curso veremos distintas funciones de utilidad que forman parte del lenguaje y cuyo conocimiento y uso se recomienda.\n",
    "\n",
    "Si una variable no está definida y se intenta usar, el sistema generará un error de ejecución:"
   ]
  },
  {
   "cell_type": "code",
   "execution_count": null,
   "metadata": {
    "id": "xc_VWCg7RJV4"
   },
   "outputs": [],
   "source": [
    "ancho = 23.65\n",
    "area_rectangulo = ancho*alto\n",
    "print(area_rectangulo)"
   ]
  },
  {
   "cell_type": "markdown",
   "metadata": {
    "id": "Us8am9NpRfGj"
   },
   "source": [
    "De modo que es importante hacer seguimiento de las variables definidas y estar seguros de que se emplean de la manera correcta:"
   ]
  },
  {
   "cell_type": "code",
   "execution_count": null,
   "metadata": {
    "id": "23kQ7gfwRmhC"
   },
   "outputs": [],
   "source": [
    "ancho = 23.65\n",
    "alto = 12.30\n",
    "area_rectangulo = ancho*alto\n",
    "print(area_rectangulo)"
   ]
  },
  {
   "cell_type": "markdown",
   "metadata": {
    "id": "pfsBh9hfR763"
   },
   "source": [
    "# Tipos de datos en Python"
   ]
  },
  {
   "cell_type": "markdown",
   "metadata": {
    "id": "JgfSDRlER-Vb"
   },
   "source": [
    "En Python se usan fundamentalmente 4 tipos de datos: enteros (`int`), decimales o de *punto flotante* (`float`), booleanos (`bool`) y caracteres o cadenas de caracteres (`string`). Por defecto también es posible definir números complejos, aunque en este curso no trabajaremos con ellos."
   ]
  },
  {
   "cell_type": "markdown",
   "metadata": {
    "id": "AeXmbkEfTL6w"
   },
   "source": [
    "En el caso de los `int` se trata, por supuesto, de cualquier número entero (positivo o negativo):"
   ]
  },
  {
   "cell_type": "code",
   "execution_count": null,
   "metadata": {
    "id": "I417orVITUCv"
   },
   "outputs": [],
   "source": [
    "print(1253254)"
   ]
  },
  {
   "cell_type": "code",
   "execution_count": null,
   "metadata": {
    "id": "vXrm1RaiTgX3"
   },
   "outputs": [],
   "source": [
    "numero = -1256878\n",
    "print(numero)"
   ]
  },
  {
   "cell_type": "code",
   "execution_count": null,
   "metadata": {
    "id": "RW-fFENjTnpN"
   },
   "outputs": [],
   "source": [
    "print(type(numero))"
   ]
  },
  {
   "cell_type": "markdown",
   "metadata": {
    "id": "xWgt_NMLTq_4"
   },
   "source": [
    "Como se puede ver, con la función `type()` podemos conocer el tipo de dato de un número o variable dado."
   ]
  },
  {
   "cell_type": "markdown",
   "metadata": {
    "id": "xnc6MgKCT32R"
   },
   "source": [
    "Los números decimales o `float` se especifican colocando un punto decimal:"
   ]
  },
  {
   "cell_type": "code",
   "execution_count": null,
   "metadata": {
    "id": "decHINYhUDit"
   },
   "outputs": [],
   "source": [
    "print(125.0)"
   ]
  },
  {
   "cell_type": "code",
   "execution_count": null,
   "metadata": {
    "id": "9Sm5zUH6UIVa"
   },
   "outputs": [],
   "source": [
    "decimal = 125.0\n",
    "print(decimal)\n",
    "print(type(decimal))"
   ]
  },
  {
   "cell_type": "markdown",
   "metadata": {
    "id": "uOuRR8FgUhDz"
   },
   "source": [
    "Es importante mencionar que al realizar operaciones matemáticas entre números enteros y decimales, Python siempre convertirá el resultado a un número tipo `float`:"
   ]
  },
  {
   "cell_type": "code",
   "execution_count": null,
   "metadata": {
    "id": "ADaXhuogUrGJ"
   },
   "outputs": [],
   "source": [
    "a = 10\n",
    "print(a)\n",
    "print(type(a))\n",
    "b = 3.1416\n",
    "print(b)\n",
    "print(type(b))\n",
    "c = a+b\n",
    "print(c)\n",
    "print(type(c))"
   ]
  },
  {
   "cell_type": "markdown",
   "metadata": {
    "id": "A_h-MyHdVUOB"
   },
   "source": [
    "Como podemos ver, el resultado de la operación anterior es de tipo `float`."
   ]
  },
  {
   "cell_type": "markdown",
   "metadata": {
    "id": "PmBvgIyqVhPs"
   },
   "source": [
    "En el caso de los números booleanos, estos solo pueden tomar valores de *Verdadero* o *Falso*:"
   ]
  },
  {
   "cell_type": "code",
   "execution_count": null,
   "metadata": {
    "id": "lN2s8oq0VpdP"
   },
   "outputs": [],
   "source": [
    "condicion = True\n",
    "print(condicion)\n",
    "print(type(condicion))\n",
    "\n",
    "nueva_condicion = False\n",
    "print(nueva_condicion)\n",
    "print(type(nueva_condicion))"
   ]
  },
  {
   "cell_type": "markdown",
   "metadata": {
    "id": "xWWKe1ArWR7z"
   },
   "source": [
    "Los números booleanos tienen formas particulares de ser usados y pueden ser de mucha utilidad dependiendo del problema que se desee resolver o bien el programa a desarrollar. A lo largo del curso conoceremos un poco más sobre sus usos y bondades."
   ]
  },
  {
   "cell_type": "markdown",
   "metadata": {
    "id": "ubT_xuU_W0ZE"
   },
   "source": [
    "Por último, los caracteres o `string` se refieren a variables compuestas, por supuesto, por caracteres o cadenas de caracteres. Estos deben ser definidos haciendo uso de las comillas dobles \" o bien las comillas simples ', como vemos a continuación:"
   ]
  },
  {
   "cell_type": "code",
   "execution_count": null,
   "metadata": {
    "id": "DS9DktrAXTTU"
   },
   "outputs": [],
   "source": [
    "print(\"Esto es un string\")"
   ]
  },
  {
   "cell_type": "code",
   "execution_count": null,
   "metadata": {
    "id": "jJwxmx_MXY32"
   },
   "outputs": [],
   "source": [
    "cadena = 'Esto tambien es un string'\n",
    "print(cadena)\n",
    "print(type(cadena))"
   ]
  },
  {
   "cell_type": "markdown",
   "metadata": {
    "id": "cCzj9IhxYRQg"
   },
   "source": [
    "A diferencia de las variables numéricas, las cadenas de caracteres están *indexadas*, es decir, cada elemento del `string` tiene asociado un índice que identifica cada símbolo de la cadena, es decir:"
   ]
  },
  {
   "cell_type": "code",
   "execution_count": null,
   "metadata": {
    "id": "cS2fVr2iYxMO"
   },
   "outputs": [],
   "source": [
    "texto = 'Python'\n",
    "print(texto[0])\n",
    "print(texto[3])"
   ]
  },
  {
   "cell_type": "markdown",
   "metadata": {
    "id": "ZVbORj4XZCBg"
   },
   "source": [
    "En este caso, usamos los corchetes [] después del nombre de la variable `texto` para indicar el índice o la posición de la letra a la que queremos acceder. Nótese que en Python la *indexación* comienza en cero.\n",
    "\n",
    "También es posible indicar el índice en sentido contrario usando el signo menos:"
   ]
  },
  {
   "cell_type": "code",
   "execution_count": null,
   "metadata": {
    "id": "BFYxTYApZjrb"
   },
   "outputs": [],
   "source": [
    "print(texto[-2])\n",
    "print(texto[-4])"
   ]
  },
  {
   "cell_type": "markdown",
   "metadata": {
    "id": "oq2K-VGmZ2kU"
   },
   "source": [
    "He incluso podemos tomar una sección del `string` indicando de cuál índice al otro queremos extraer:"
   ]
  },
  {
   "cell_type": "code",
   "execution_count": null,
   "metadata": {
    "id": "l8sBsxcPaCa-"
   },
   "outputs": [],
   "source": [
    "seccion = texto[0:3]\n",
    "print(seccion)"
   ]
  },
  {
   "cell_type": "markdown",
   "metadata": {
    "id": "4BCruoXAaJqt"
   },
   "source": [
    "Nótese que Python tomará para la sección los caracteres que van desde el primer índice tomado (0 en el caso anterior) hasta el último excluído. Es decir, en nuestro ejemplo tomará los caracteres 0, 1 y 2, excluyendo la posición 3. Veamos otro ejemplo:"
   ]
  },
  {
   "cell_type": "code",
   "execution_count": null,
   "metadata": {
    "id": "jIQsW5ByaoC6"
   },
   "outputs": [],
   "source": [
    "nombre = \"Pedro Perez Fernandez\"\n",
    "corte = nombre[5:14]\n",
    "print(corte)"
   ]
  },
  {
   "cell_type": "markdown",
   "metadata": {
    "id": "LV5CThb5bD7B"
   },
   "source": [
    "A partir del ejemplo, ¿puede indicar qué índices deben colocarse para seleccionar solamente la palabra *Fernandez*?\n",
    "\n",
    "Veamos:"
   ]
  },
  {
   "cell_type": "code",
   "execution_count": null,
   "metadata": {
    "id": "rL-D5jXvbVh_"
   },
   "outputs": [],
   "source": [
    "apellido = nombre[12:21]\n",
    "print(apellido)"
   ]
  },
  {
   "cell_type": "markdown",
   "metadata": {
    "id": "Y5ZtELqNbicr"
   },
   "source": [
    "Pero también podríamos haber hecho lo siguiente:"
   ]
  },
  {
   "cell_type": "code",
   "execution_count": null,
   "metadata": {
    "id": "ymc_tKJGbmlj"
   },
   "outputs": [],
   "source": [
    "apellido = nombre[-10:21]\n",
    "print(apellido)"
   ]
  },
  {
   "cell_type": "markdown",
   "metadata": {
    "id": "MljgXFs7b7zP"
   },
   "source": [
    "He incluso, podemos tomar cualquier secuencia de caracteres desde un punto hasta el final de la cadena dejando en blanco el segundo índice:"
   ]
  },
  {
   "cell_type": "code",
   "execution_count": null,
   "metadata": {
    "id": "sPLxK045cNFm"
   },
   "outputs": [],
   "source": [
    "apellido = nombre[6:]\n",
    "print(apellido)"
   ]
  },
  {
   "cell_type": "markdown",
   "metadata": {
    "id": "sEpqK8AzcXJg"
   },
   "source": [
    "O bien desde el principio de la cadena hasta cualquier valor intermedio:"
   ]
  },
  {
   "cell_type": "code",
   "execution_count": null,
   "metadata": {
    "id": "vbSBJqircbmp"
   },
   "outputs": [],
   "source": [
    "nombreyapellido = nombre[:11]\n",
    "print(nombreyapellido)"
   ]
  },
  {
   "cell_type": "markdown",
   "metadata": {
    "id": "85eFPjMNc1ca"
   },
   "source": [
    "Por último, es valioso conocer que los `string` pueden ser concatenados usando el operador + de la siguiente manera:"
   ]
  },
  {
   "cell_type": "code",
   "execution_count": null,
   "metadata": {
    "id": "6ohxCXg_c-pc"
   },
   "outputs": [],
   "source": [
    "print('Py'+'thon')"
   ]
  },
  {
   "cell_type": "code",
   "execution_count": null,
   "metadata": {
    "id": "sPeCL1aOcWK6"
   },
   "outputs": [],
   "source": [
    "primera = 'Py'\n",
    "segunda = 'thon'\n",
    "tercera = primera + segunda\n",
    "print(tercera)\n",
    "print(type(tercera))"
   ]
  },
  {
   "cell_type": "markdown",
   "metadata": {
    "id": "52RnzX4QennD"
   },
   "source": [
    "# Listas"
   ]
  },
  {
   "cell_type": "markdown",
   "metadata": {
    "id": "QArx1oJVg-hl"
   },
   "source": [
    "Una de las estructuras de datos más comunes y usadas en Python son las *listas*. Una lista no es más que un conjunto de valores que se escriben entre corchetes, y separados por coma. Las listas pueden contener elementos de tipos de dato distintos, aunque lo más frecuente es que sean del mismo tipo de datos:"
   ]
  },
  {
   "cell_type": "code",
   "execution_count": null,
   "metadata": {
    "id": "DVou7ZYNeoPl"
   },
   "outputs": [],
   "source": [
    "lista = [2, 4, 6, 8, 10, 12]\n",
    "lista"
   ]
  },
  {
   "cell_type": "markdown",
   "metadata": {
    "id": "oN7dE9YmhsfL"
   },
   "source": [
    "Nótese que en este caso no hicimos uso de la función `print()` para observar el contenido de la lista. En general, esto puede hacerse para cualquier tipo de dato en Python."
   ]
  },
  {
   "cell_type": "markdown",
   "metadata": {
    "id": "p-iSGn1aivL6"
   },
   "source": [
    "Como se mencionó, las listas pueden contener tipos de datos distintos:"
   ]
  },
  {
   "cell_type": "code",
   "execution_count": null,
   "metadata": {
    "id": "o7jqbwoCidzl"
   },
   "outputs": [],
   "source": [
    "elementos = [1, 4, 56.9, 0, 'A', 'Fernandez', True]\n",
    "elementos"
   ]
  },
  {
   "cell_type": "markdown",
   "metadata": {
    "id": "7bU6-ObAi_Xp"
   },
   "source": [
    "Aunque trabajar este tipo de estructuras no es muy común ni recomendado, sobre todo porque existen otros tipo de objetos en Python especialmente diseñados para ella (como veremos más adelante cuando hablemos de los Pandas).\n",
    "\n",
    "Al igual que con los `string`, las listas son objetos indexados, de modo que podemos acceder a cada uno de sus elementos de la misma manera que en el caso de las cadenas de caracteres:"
   ]
  },
  {
   "cell_type": "code",
   "execution_count": null,
   "metadata": {
    "id": "4qcGaQ1pi-TV"
   },
   "outputs": [],
   "source": [
    "valores = [3, 6, 9, 12, 16, 23]\n",
    "valores[2]"
   ]
  },
  {
   "cell_type": "code",
   "execution_count": null,
   "metadata": {
    "id": "WLSYUQ_yjoW6"
   },
   "outputs": [],
   "source": [
    "valores[-2]"
   ]
  },
  {
   "cell_type": "markdown",
   "metadata": {
    "id": "yYdmKBLwj0gu"
   },
   "source": [
    "También podemos tomar secciones de una lista tal y como lo hacemos con los `string`:"
   ]
  },
  {
   "cell_type": "code",
   "execution_count": null,
   "metadata": {
    "id": "AbwwyiDtjvMr"
   },
   "outputs": [],
   "source": [
    "vals = valores[0:3]\n",
    "vals"
   ]
  },
  {
   "cell_type": "code",
   "execution_count": null,
   "metadata": {
    "id": "dSq7oCAgkLpz"
   },
   "outputs": [],
   "source": [
    "vals = valores[:2]\n",
    "vals"
   ]
  },
  {
   "cell_type": "code",
   "execution_count": null,
   "metadata": {
    "id": "MsWMQXYekQj5"
   },
   "outputs": [],
   "source": [
    "vals = valores[-3:]\n",
    "vals"
   ]
  },
  {
   "cell_type": "markdown",
   "metadata": {
    "id": "nPHnf2eokqve"
   },
   "source": [
    "Y además, también es posible concatenar listas:"
   ]
  },
  {
   "cell_type": "code",
   "execution_count": null,
   "metadata": {
    "id": "QPeS6PT-kYpY"
   },
   "outputs": [],
   "source": [
    "lista1 = [1, 2, 3, 4]\n",
    "lista2 = [0, 9, 8, 7, 6]\n",
    "lista3 = lista1 + lista2\n",
    "lista3"
   ]
  },
  {
   "cell_type": "markdown",
   "metadata": {
    "id": "YUipyBIuk6ts"
   },
   "source": [
    "Para conocer la dimensión o el número de elementos que contiene cualquier lista, podemos hacer uso de la función `len()`:"
   ]
  },
  {
   "cell_type": "code",
   "execution_count": null,
   "metadata": {
    "id": "3bqhGkKXk3_A"
   },
   "outputs": [],
   "source": [
    "len(lista1)"
   ]
  },
  {
   "cell_type": "code",
   "execution_count": null,
   "metadata": {
    "id": "8Co2exdwlCPX"
   },
   "outputs": [],
   "source": [
    "len(lista3)"
   ]
  },
  {
   "cell_type": "markdown",
   "metadata": {
    "id": "Dnqmrpr-laE8"
   },
   "source": [
    "A diferencia de los `string`, que son tipos de datos *inmutables* (esto es, que los elementos o caracteres no pueden ser modificados), las listas sí son *mutables*. Es decir, pueden modificarse los elementos individuales:"
   ]
  },
  {
   "cell_type": "code",
   "execution_count": null,
   "metadata": {
    "id": "Z1vvKNGplFk-"
   },
   "outputs": [],
   "source": [
    "elems = [2, 4, 6, 8, 10, 12]\n",
    "elems"
   ]
  },
  {
   "cell_type": "code",
   "execution_count": null,
   "metadata": {
    "id": "o5t_SDwxlsbe"
   },
   "outputs": [],
   "source": [
    "elems[2] = 35\n",
    "elems"
   ]
  },
  {
   "cell_type": "markdown",
   "metadata": {
    "id": "hIIRbyYMl7GT"
   },
   "source": [
    "Por lo que es importante tener esto en cuenta cuando se trabajan con listas a fin de no cometer errores de asignación de valores cuando se desarrolle un programa."
   ]
  },
  {
   "cell_type": "markdown",
   "metadata": {
    "id": "4RsByUfJmZ8l"
   },
   "source": [
    "Al mismo tiempo, es posible agregar elementos al final de una lista haciendo uso de la función `append()`. En este caso, se debe escribir el nombre de la lista a la cual se le quiere incluir el nuevo elemento, seguido de un punto y luego la función:"
   ]
  },
  {
   "cell_type": "code",
   "execution_count": null,
   "metadata": {
    "id": "Ho4Nf18Rlyin"
   },
   "outputs": [],
   "source": [
    "elems"
   ]
  },
  {
   "cell_type": "code",
   "execution_count": null,
   "metadata": {
    "id": "BM5riBg7m5gt"
   },
   "outputs": [],
   "source": [
    "elems.append(256)\n",
    "elems"
   ]
  },
  {
   "cell_type": "markdown",
   "metadata": {
    "id": "SBx8AFLmnsYI"
   },
   "source": [
    "Mientras que podemos modificar o asignar elementos de una lista directamente haciendo uso de los índices:"
   ]
  },
  {
   "cell_type": "code",
   "execution_count": null,
   "metadata": {
    "id": "XBJiaUYnn9HZ"
   },
   "outputs": [],
   "source": [
    "letras = ['a', 'b', 'c', 'd', 'e', 'f', 'g', 'h']\n",
    "letras"
   ]
  },
  {
   "cell_type": "code",
   "execution_count": null,
   "metadata": {
    "id": "w4IfskjToDpi"
   },
   "outputs": [],
   "source": [
    "letras[2:5] = ['C', 'D', 'E']\n",
    "letras"
   ]
  },
  {
   "cell_type": "markdown",
   "metadata": {
    "id": "OZZWsPXfoTQ8"
   },
   "source": [
    "O bien podemos eliminar elementos de una lista haciendo uso de los corchetes vacios:"
   ]
  },
  {
   "cell_type": "code",
   "execution_count": null,
   "metadata": {
    "id": "_i38RnY9oZeY"
   },
   "outputs": [],
   "source": [
    "letras[2:5] = []\n",
    "letras"
   ]
  },
  {
   "cell_type": "markdown",
   "metadata": {
    "id": "XfNpqhw8ovCs"
   },
   "source": [
    "Por último, es importante mencionar que pueden crearse listas *anidadas*, es decir, listas de listas:"
   ]
  },
  {
   "cell_type": "code",
   "execution_count": null,
   "metadata": {
    "id": "RWmWBlEJo2gg"
   },
   "outputs": [],
   "source": [
    "nombres = ['Maria', 'Pedro', 'Ana', 'Nelson']\n",
    "edades = [22, 34, 16, 56]\n",
    "datos = [nombres, edades]\n",
    "datos"
   ]
  },
  {
   "cell_type": "markdown",
   "metadata": {
    "id": "EsUbRgixpNu7"
   },
   "source": [
    "Y el acceso a sus valores se hace, del mismo modo, a través de los índices:"
   ]
  },
  {
   "cell_type": "code",
   "execution_count": null,
   "metadata": {
    "id": "9QLUf2l6pSRP"
   },
   "outputs": [],
   "source": [
    "datos[0]"
   ]
  },
  {
   "cell_type": "code",
   "execution_count": null,
   "metadata": {
    "id": "EP424OKKpTy_"
   },
   "outputs": [],
   "source": [
    "datos[0][0]"
   ]
  },
  {
   "cell_type": "code",
   "execution_count": null,
   "metadata": {
    "id": "ElVRHzeKpWbA"
   },
   "outputs": [],
   "source": [
    "datos[0][2]"
   ]
  },
  {
   "cell_type": "code",
   "execution_count": null,
   "metadata": {
    "id": "M8-YDqwfpZNP"
   },
   "outputs": [],
   "source": [
    "datos[1][0]"
   ]
  },
  {
   "cell_type": "code",
   "execution_count": null,
   "metadata": {
    "id": "UJamXxn1pbG3"
   },
   "outputs": [],
   "source": [
    "datos[1][3]"
   ]
  },
  {
   "cell_type": "markdown",
   "metadata": {
    "id": "wgtcjHVCpdw0"
   },
   "source": [
    "Sin embargo, obsérvese que con el primer par de corchetes se acceden a cada una de las listas separadas, y con el siguiente par de corchetes se acceden a los elementos individuales de dichas listas."
   ]
  },
  {
   "cell_type": "markdown",
   "metadata": {
    "id": "yGbvyVpmqS5b"
   },
   "source": [
    "# Comentarios y estructura en la programación"
   ]
  },
  {
   "cell_type": "markdown",
   "metadata": {
    "id": "tHOmFbR2qaZJ"
   },
   "source": [
    "Ya que conocemos los primeros elementos básicos de la programación en Python, resulta valioso hacer un breve inciso sobre la importancia del uso de *comentarios* cuando se escribe código, así como el mantener orden y estructura en los programas.\n",
    "\n",
    "En Python, los comentarios son líneas de código que nunca se ejecutan, y que sirven para agregar explicaciones o señalar detalles relevantes del código a fin de que cualquier otra persona que lea el programa (o incluso el propio programador) tenga una mejor idea de lo que hace o pretende hacer el código en cuestión, o bien sirva como guía para entender toda la lógica del programa.\n",
    "\n",
    "Los comentarios en Python se introducen colocando un signo de # al principio de cualquier línea:"
   ]
  },
  {
   "cell_type": "code",
   "execution_count": null,
   "metadata": {
    "id": "nSH5wgERpctX"
   },
   "outputs": [],
   "source": [
    "# Esto es un comentario\n",
    "A = 12.4\n",
    "B = 10.3\n",
    "print(A*B)"
   ]
  },
  {
   "cell_type": "markdown",
   "metadata": {
    "id": "p2kNUaDYriUJ"
   },
   "source": [
    "Como se observa, al ejecutar la celda anterior no se produce ningún error pues la primera línea está comentada, así que se ejecutan las siguientes y se muestra el resultado final sin inconvenientes.\n",
    "\n",
    "Es importante, entonces, que cualquier código incluya comentarios pertinentes al problema que se quiere resolver, y que además se estructure el código de una manera adecuada que facilite su posterior lectura y comprensión. Por ejemplo:"
   ]
  },
  {
   "cell_type": "code",
   "execution_count": null,
   "metadata": {
    "id": "3ETtO_q9rZmv"
   },
   "outputs": [],
   "source": [
    "# Programa para calcular el area de un triangulo\n",
    "\n",
    "# En primer lugar, definimos los valores de la base B y la altura h\n",
    "B = 25.32\n",
    "h = 12.3\n",
    "# Imprimimos el resultado en pantalla\n",
    "print('La base del triangulo es: '+str(B))\n",
    "print('La altura del triangulo es: '+str(h))\n",
    "\n",
    "# Luego, calcularmos el area segun la formula Area = (B*h)/2 e imprimos el resultado\n",
    "area = (B*h/2.0)\n",
    "print('El area del triangulo es: '+str(area))"
   ]
  },
  {
   "cell_type": "markdown",
   "metadata": {
    "id": "CAHgCfEXtwnG"
   },
   "source": [
    "En este caso, hemos empleado la función `print()` de manera conveniente para mostrar, primero, un texto descriptivo de la variable que se imprime (siempre entre comillas) y luego dicho texto se concatena con los valores de las variables presentadas, pero no sin antes convertir sus valores numéricos a `string` usando la función `str()`.\n",
    "\n",
    "Así, al combinar tanto comentarios como formas convenientes de usar las funciones propias de Python, es posible escribir algoritmos o rutinas claras y que puedan ser comprendidas por cualquiera que lea el código."
   ]
  },
  {
   "cell_type": "markdown",
   "metadata": {
    "id": "0GDBSEkRvrw4"
   },
   "source": [
    "# Control de Flujo: `if`, `for`, `while` y otras herramientas"
   ]
  },
  {
   "cell_type": "markdown",
   "metadata": {
    "id": "U5w6Ntxm0RfV"
   },
   "source": [
    "En programación, las estructuras de control se refieren a todas esas funciones u objetos que permiten modificar el flujo de ejecución de las instrucciones de un programa. Es decir, ejecutar una parte de un código u otra dependiendo de una condición, ejecutar sentencias mientras se cumpla otra condición, o ejecutar instrucciones una cantidad determinada de veces o hasta cumplirse, de nuevo, alguna condición particular. A continuación haremos una revisión de las principales estructuras de control presentes en Python:"
   ]
  },
  {
   "cell_type": "markdown",
   "metadata": {
    "id": "-IoobeIQ4zL2"
   },
   "source": [
    "## `if`\n",
    "\n",
    "La instrucción `if` (léase \"si\") permite seleccionar entre un grupo de instrucciones si se cumple una condición dada. Por ejemplo:"
   ]
  },
  {
   "cell_type": "code",
   "execution_count": null,
   "metadata": {
    "id": "s1ldUqdhvDzB"
   },
   "outputs": [],
   "source": [
    "# Ejemplo de uso del if en control de flujo\n",
    "\n",
    "miNumero = 56\n",
    "\n",
    "if miNumero > 0:\n",
    "  print('El número es mayor que cero')\n",
    "elif miNumero == 0:\n",
    "  print('El número es igual a cero')\n",
    "else:\n",
    "  print('El número es menor que cero')"
   ]
  },
  {
   "cell_type": "markdown",
   "metadata": {
    "id": "fXT92fZ3iT6g"
   },
   "source": [
    "En este caso, observe el código escrito y entienda el flujo del código. En palabras, este programa en primer lugar asigna el valor de 56 a la variable `miNumero`. Luego, se hace uso del `if` para aplicar condiciones a lo que se muestra en pantalla, dependiendo de si el valor de la variable es mayor que cero, igual a cero, o menor que cero.\n",
    "\n",
    "Sobre la misma celda, modifique el valor de la variable y escriba 0. Ejecute la celda y observe cómo la salida del programa cambia. Una vez más, modifique el valor de la variable y coloque un número negativo. Ejecute de nuevo la celda para obtener la nueva salida.\n",
    "\n",
    "La instrucción `elif` representa una contracción de `else if`, y se debe usar siempre que se introducen más de dos condiciones entre las posibles a seleccionar. Es decir, si sólo se necesitan dos condiciones (por ejemplo, tomar una decision dependiendo de si un número es positivo o negativo) se puede escribir:"
   ]
  },
  {
   "cell_type": "code",
   "execution_count": null,
   "metadata": {
    "id": "2XkVC-KdiDQB"
   },
   "outputs": [],
   "source": [
    "# Uso de if con solo dos condiciones\n",
    "\n",
    "miNumero = -75\n",
    "\n",
    "if miNumero >= 0:\n",
    "  print('El número es positivo')\n",
    "else:\n",
    "  print('El número es negativo')"
   ]
  },
  {
   "cell_type": "markdown",
   "metadata": {
    "id": "KLl4m1_JkCiE"
   },
   "source": [
    "Obsérvese que en este caso, la condición para positivo se tomó mayor o igual a cero.\n",
    "\n",
    "La instrucción `if` puede, por supuesto, emplearse para tomar acciones dependiendo de condiciones en cualquier tipo de variable, no solo las numéricas, de modo que también es posible escribir un código como el siguiente:"
   ]
  },
  {
   "cell_type": "code",
   "execution_count": null,
   "metadata": {
    "id": "Cd5tI1s5jzfz"
   },
   "outputs": [],
   "source": [
    "# ¿Cual es el nombre de la persona almacenada en la variable?\n",
    "\n",
    "suNombre = 'Pedro'\n",
    "\n",
    "if suNombre == 'Ana':\n",
    "  print('Su nombre es Ana')\n",
    "else:\n",
    "  print('No es Ana, es '+str(suNombre))"
   ]
  },
  {
   "cell_type": "markdown",
   "metadata": {
    "id": "9RokzsgVl5Nd"
   },
   "source": [
    "Ahora sustituya Pedro por Ana en el nombre del a variable y vuelva a ejecutar la celda (note que el signo de comparación entre variables es doble igual == ). De esta manera, se observa que las condiciones pueden aplicarse tanto a números, como a caracteres y variables booleanas.\n",
    "\n",
    "**Nota**: en Python la *indentación* es importante. La *indentación* se refiere al sangrado o espacio que existe de una línea a la otra cuando se aplican instrucciones de tipo bucle, de control de flujo, cuando se declaran funciones, etc. En el caso de los ejemplos anteriores, note que luego de la instrucción `if` y sus respectivos : todo lo que se escriba justo después debe colocarse dejando una sangría (cuatro espacios de la barra espaciadora) con el fin de que el código \"entienda\" que esa sección de instrucciones pertenecen a esa condición. Esto podrá verse con mayor claridad a medida que avancemos en los ejemplos, pero lo relevante acá es resaltar que la *indentación* del código debe respetarse y, de hecho, los *Jupyter Notebooks* aplican la *indentación* de manera automática a medida que se escribe el código. Sin embargo, es importante siempre estar atento a ello y verificar, en caso de presentarse un error, de que no se deba a problemas con la *indentación*."
   ]
  },
  {
   "cell_type": "markdown",
   "metadata": {
    "id": "JNBLkw3dmMPn"
   },
   "source": [
    "## for\n",
    "\n",
    "La instrucción `for` es quizá la herramienta de control de flujo más usada y que, por su utilidad, conviene aprender a usar con claridad. A diferencia de otros lenguajes de programación (como C o Pascal), la instrucción `for` en Python no permite *iterar* en una progresión de números desde un prinpicio y un fin determinado, sino que permite iterar a lo largo de cualquier secuencia (una lista o un `string`, por ejemplo), en el orden en el que los elementos aparecen en la secuencia.\n",
    "\n",
    "A fin de entender mejor este concepto, veamos algunos ejemplos."
   ]
  },
  {
   "cell_type": "markdown",
   "metadata": {
    "id": "LUl_x-kFn5fB"
   },
   "source": [
    "Definamos, en primer lugar, una lista de números, como la que ya hemos trabajado antes:"
   ]
  },
  {
   "cell_type": "code",
   "execution_count": null,
   "metadata": {
    "id": "hEUEQpDZln9O"
   },
   "outputs": [],
   "source": [
    "edades = [12, 16, 22, 54, 18, 79, 42, 7, 21]\n",
    "print(edades)"
   ]
  },
  {
   "cell_type": "markdown",
   "metadata": {
    "id": "0xcoE0EHo7oX"
   },
   "source": [
    "Nótese que al imprimir la variable, Python nos devuelve el objeto entero con todos sus elementos. ¿Pero cómo haríamos si necesitácemos revisar el contenido de la lista elemento por elemento? Esto es lo que se conoce como un proceso *iterativo*, es decir, repetir la misma operación de manera sucesiva sobre una secuencia de datos.\n",
    "\n",
    "En este caso, hacemos uso del `for` de la siguiente manera:"
   ]
  },
  {
   "cell_type": "code",
   "execution_count": null,
   "metadata": {
    "id": "Mq2LN1kboKI9"
   },
   "outputs": [],
   "source": [
    "# Ejemplo de iteracion con for sobre una lista\n",
    "\n",
    "for e in edades:\n",
    "  print(e)"
   ]
  },
  {
   "cell_type": "markdown",
   "metadata": {
    "id": "qtUPxxBUqNYI"
   },
   "source": [
    "En este caso, la variable \"e\" después del `for` adquirirá el valor de cada uno de los elementos de la lista `edades` en cada iteración, que luego imprimiremos por pantalla haciendo uso del `print()`. Como resultado, el programa muestra, línea por línea, cada número que contiene la lista.\n",
    "\n",
    "El nombre de la variable iterativa puede ser cualquiera, pero la recomendación es que ésta refleje de alguna manera el contenido de lo que se desea iterar. Por ejemplo:"
   ]
  },
  {
   "cell_type": "code",
   "execution_count": null,
   "metadata": {
    "id": "fXSUi2YOqCeL"
   },
   "outputs": [],
   "source": [
    "personas = ['Jose', 'Ana', 'Maria', 'Jesus', 'Esther', 'Eduardo']\n",
    "\n",
    "for nombres in personas:\n",
    "  print(nombres)"
   ]
  },
  {
   "cell_type": "markdown",
   "metadata": {
    "id": "xuGfWGnJrvJ5"
   },
   "source": [
    "Del mismo modo, la iteración puede hacerse sobre una variable de tipo `string`:"
   ]
  },
  {
   "cell_type": "code",
   "execution_count": null,
   "metadata": {
    "id": "oHXuUdv1rPwi"
   },
   "outputs": [],
   "source": [
    "# Ejemplo de iteracion con for sobre un string\n",
    "\n",
    "miTexto = \"Hola Mundo!\"\n",
    "\n",
    "for letras in miTexto:\n",
    "  print(letras)"
   ]
  },
  {
   "cell_type": "markdown",
   "metadata": {
    "id": "9Mhj2mUItH3o"
   },
   "source": [
    "En este caso, la iteración se hace letra por letra sobre la cadena original completa, de modo que cada una de ellas se imprime en una línea distinta, como se observa tras ejecutar la celda."
   ]
  },
  {
   "cell_type": "markdown",
   "metadata": {
    "id": "oRHP45-Lnvva"
   },
   "source": [
    "Ahora bien, si necesitamos iterar una secuencia de números para, por ejemplo, recorrer un `string` o una lista a partir de sus índices, podemos hacer uso de la función `range()`:"
   ]
  },
  {
   "cell_type": "code",
   "execution_count": null,
   "metadata": {
    "id": "wEFFow0or4m9"
   },
   "outputs": [],
   "source": [
    "# Iterar secuencias de números con range()\n",
    "\n",
    "for i in range(5):\n",
    "  print(i)"
   ]
  },
  {
   "cell_type": "markdown",
   "metadata": {
    "id": "ap7ByHfhoLbA"
   },
   "source": [
    "Nótese que en esta oportunidad se incrementa un número seguido del otro a partir de cero y terminando en cuatro (es decir, cinco iteraciones en total, como se especificó en `range(5)`).\n",
    "\n",
    "Así, podemos usar entonces esta secuencia numérica para iterar a partir de los índices de una lista o una cadena de caracteres de la siguiente manera:"
   ]
  },
  {
   "cell_type": "code",
   "execution_count": null,
   "metadata": {
    "id": "KUsJb5hfn_b8"
   },
   "outputs": [],
   "source": [
    "# Iterar una lista usando range y los indices\n",
    "\n",
    "# Retomemos de nuevo la lista edades\n",
    "edades = [12, 16, 22, 54, 18, 79, 42, 7, 21]\n",
    "\n",
    "# Para conocer la cantidad de elementos que hay en la lista, podemos usar la \n",
    "# funcion len()\n",
    "longitud = len(edades)\n",
    "print('La lista edades tiene '+str(longitud)+' elementos...')\n",
    "\n",
    "# Ahora iteramos como elementos tenemos\n",
    "print('Las edades son:')\n",
    "for i in range(longitud):\n",
    "  print(edades[i])"
   ]
  },
  {
   "cell_type": "markdown",
   "metadata": {
    "id": "X-Ok9Y9gqDfF"
   },
   "source": [
    "Como se observa, se recorre entonces la lista `edades` elemento por elemento, pero haciendo referencia al índice durante cada iteración.\n",
    "\n",
    "Del mismo modo, podemos aplicarlo para un `string`:"
   ]
  },
  {
   "cell_type": "code",
   "execution_count": null,
   "metadata": {
    "id": "xSkP-JENox1U"
   },
   "outputs": [],
   "source": [
    "frase = 'Erase una vez...'\n",
    "\n",
    "for i in range(len(frase)):\n",
    "  print(frase[i])"
   ]
  },
  {
   "cell_type": "markdown",
   "metadata": {
    "id": "pQV9yKIHqm2Z"
   },
   "source": [
    "¿Observa cómo se incorporó la función `len()` dentro de la función `range()`? En general, esto es posible para cualquier función o grupo de funciones en Python, aunque se recomienda no abusar de este tipo de estructuras para no afectar la claridad y legibilidad del código.\n",
    "\n",
    "A modo de práctica, complete la celda siguiente a fin de iterar la lista:"
   ]
  },
  {
   "cell_type": "code",
   "execution_count": null,
   "metadata": {
    "id": "2WzsqTcGqkMG"
   },
   "outputs": [],
   "source": [
    "# Complete el codigo para iterar la lista usando las funciones len() y range()\n",
    "\n",
    "participantes = ['Nelson', 'Jessica', 'Armando', 'Helena', 'Natalia', 'Ricardo']\n",
    "\n",
    "# Almacene en una variable la longitud de la lista\n",
    "\n",
    "# Itere la lista a fin de mostrar cada uno de los elementos de la lista a partir\n",
    "# de sus indices\n"
   ]
  },
  {
   "cell_type": "markdown",
   "metadata": {
    "id": "f4aa3vM-sm9g"
   },
   "source": [
    "## La instrucción `break`\n",
    "\n",
    "Esta instrucción se emplea para detener la ejecución del `for` que le precede. Veamos:"
   ]
  },
  {
   "cell_type": "code",
   "execution_count": null,
   "metadata": {
    "id": "zq3wE_64rf_w"
   },
   "outputs": [],
   "source": [
    "# Ejemplo de utilizacion del comando break\n",
    "\n",
    "# Definimos una lista\n",
    "lista = [2, 4, 6, 8, 10, 12, 14, 16]\n",
    "\n",
    "# Iteramos a lo largo de la lista pero, si alguno de los valores de la lista\n",
    "# es igual a 10, detenemos las iteraciones y salimos del for\n",
    "for l in lista:\n",
    "  print('El numero es '+str(l))\n",
    "  if l == 10:\n",
    "    break"
   ]
  },
  {
   "cell_type": "markdown",
   "metadata": {
    "id": "Xr9puEt1uF0D"
   },
   "source": [
    "En este caso, no solo empleamos una instrucción `if` dentro de un `for`, sino que lo hicimos para detener la ejecución de dicho `for` si se consigue la condición, es decir, si algún elemento de la lista es igual a 10. "
   ]
  },
  {
   "cell_type": "markdown",
   "metadata": {
    "id": "JEnckTXRvyKP"
   },
   "source": [
    "En general, es posible incorporar bucles `for` e instrucciones `if` las unas dentro de las otras, lo que se conoce como estructuras *anidadas*. Por ejemplo:"
   ]
  },
  {
   "cell_type": "code",
   "execution_count": null,
   "metadata": {
    "id": "USFdZu71uFnl"
   },
   "outputs": [],
   "source": [
    "# Definamos una lista de listas\n",
    "dobleLista = [[0, 1, 2], [6, 7, 8], [10, 12, 14]]\n",
    "print('dobleLista es: ')\n",
    "print(dobleLista)\n",
    "\n",
    "# Iteremos, primero, a lo largo de los elementos de la lista principal\n",
    "print('Las listas internas son: ')\n",
    "for elems in dobleLista:\n",
    "  print(elems)\n",
    "  print('Los elementos son: ')\n",
    "  for n in elems:\n",
    "    print(n)"
   ]
  },
  {
   "cell_type": "markdown",
   "metadata": {
    "id": "URxDhdVU0dai"
   },
   "source": [
    "Vemos que, en efecto, el primer bucle itera a lo largo de los elementos de la lista principal, y el segundo a lo largo de cada uno de los elementos de las sublistas. Luego, podemos incluir un comando `break` si se cumple una condición `if` dada:"
   ]
  },
  {
   "cell_type": "code",
   "execution_count": null,
   "metadata": {
    "id": "pIVnFPSK0sYv"
   },
   "outputs": [],
   "source": [
    "# Detengamos la iteracion sobre los elementos internos si encontramos el numero\n",
    "# 7 entre ellos\n",
    "\n",
    "print('Las listas internas son: ')\n",
    "for elems in dobleLista:\n",
    "  print(elems)\n",
    "  print('Los elementos son: ')\n",
    "  for n in elems:\n",
    "    print(n)\n",
    "    if n == 7:\n",
    "      print('Encontramos un 7!')\n",
    "      break"
   ]
  },
  {
   "cell_type": "markdown",
   "metadata": {
    "id": "VT5b2Jsm1Dpo"
   },
   "source": [
    "Obsérvese que en este código, una vez que se encuentra el número 7 no se ejecuta la siguiente instrucción (es decir, la que mostraría el número 8) pero sí se ejecuta el siguiente bucle, correspondiente al de la lista principal. Como se mencionó, el comando `break` solo interrumpe la ejecución del `for` precedente inmediato."
   ]
  },
  {
   "cell_type": "markdown",
   "metadata": {
    "id": "fcbxKIfL1z-V"
   },
   "source": [
    "## `while`\n",
    "\n",
    "La instrucción `while` viene a ser equivalente al bucle `for`, solo que las iteraciones se realizan \"mientras\" se cumpla una cierta condición. Veamos el siguiente código:"
   ]
  },
  {
   "cell_type": "code",
   "execution_count": null,
   "metadata": {
    "id": "6ncT1eef2GJS"
   },
   "outputs": [],
   "source": [
    "# Ejemplo de uso de la instruccion while\n",
    "\n",
    "# Definamos una variable t igual a cero\n",
    "t = 0\n",
    "\n",
    "# Mientras la variable t valga menos que 10, iteramos e incrementamos en 1 la variable\n",
    "while t < 10:\n",
    "  print('El valor de t es: '+str(t))\n",
    "  t = t+1"
   ]
  },
  {
   "cell_type": "markdown",
   "metadata": {
    "id": "ZxpD1W3t22HH"
   },
   "source": [
    "Como se observa en el código, la variable inicializada como cero se irá incrementando en cada iteración \"mientras\" sea menor que cero, que fue lo que se colocó como condición del `while`. Una vez se hace igual a cero, la ejecución del código termina.\n",
    "\n",
    "Cuando se trata de la función `while` hay que tener mucho cuidado al usarla, porque se corre el riesgo de caer en un \"bucle infinito\" si la condición no se escribe o se cumple de manera correcta. Por ejemplo, ¿qué pasaría si en el código anterior nunca incrementamos en 1 el valor de la variable t y, por lo tanto, nunca será mayor o igual a 10?.\n",
    "\n",
    "En este caso, el bucle interior se repetirá de manera infinita, y como nunca se cumple la condición, el programa seguirá corriendo de manera indefinida y se bloqueará la máquina.\n",
    "\n",
    "Si lo desea, puede hacer la prueba en una nueva celda, pero si es así, tendrá luego que intentar detener la ejecución de la celda haciendo clic en el símbolo de \"detener\" que aparece a la izquierda de la celda, y si la computadora no responde tendrá que insistir hasta que el *Notebook* muestre el mensaje de \"Reiniciar el entorno de ejecución\".\n",
    "\n",
    "Esta es una de las razones por la cual la instrucción `while` no suele usarse tanto como el `for`."
   ]
  },
  {
   "cell_type": "markdown",
   "metadata": {
    "id": "eTr-cvy21nRF"
   },
   "source": [
    "# Trabajando con funciones en Python\n",
    "\n",
    "En programación, podemos entender las funciones como objetos que convierten una entrada en una salida de otro tipo de la misma forma que las funciones matemáticas de tipo $y = f(x)$. En este caso, $x$ representa un dato de entrada al cual, tras aplicársele una función $f()$, se obtiene un dato distinto $y$.\n",
    "\n",
    "En este sentido, las funciones en Python se construyen con la idea de facilitar cálculos o rutinas que pueden repetirse varias veces a lo largo de un programa, o bien para crear código más compacto, modular y fácil de leer y trabajar.\n",
    "\n",
    "Volviendo al ejemplo anterior del cálculo del área de un triángulo, ya vimos que una manera válida de realizar dicho cálculo es la siguiente:"
   ]
  },
  {
   "cell_type": "code",
   "execution_count": null,
   "metadata": {
    "id": "PicMU7Uw0vWe"
   },
   "outputs": [],
   "source": [
    "# Calculo del area de un triangulo\n",
    "\n",
    "# Datos\n",
    "base = 10.245\n",
    "altura = 25.45\n",
    "\n",
    "# Formula A = (b*h/2)\n",
    "area_triangulo = (base*altura)/2\n",
    "\n",
    "print(area_triangulo)"
   ]
  },
  {
   "cell_type": "markdown",
   "metadata": {
    "id": "1rljEU1qbuxw"
   },
   "source": [
    "Ahora bien, si a lo largo de nuestro programa necesitácemos calcular el área de 100 triángulos, no tendría sentido repetir este mismo código cien veces y modificar los datos cada vez que tengamos un nuevo triángulo. Para ello, es preferible escribir una función que calcule el área del triángulo, y luego aplicar dicha función sobre los datos distintos cada vez. Por ejemplo, dicha función podría ser:"
   ]
  },
  {
   "cell_type": "code",
   "execution_count": null,
   "metadata": {
    "id": "qgiTBRhObtMw"
   },
   "outputs": [],
   "source": [
    "# Funcion para calcular el area de un triangulo dadas su base y su altura\n",
    "\n",
    "def area_triangulo(b, h):\n",
    "  area = (b*h)/2\n",
    "  return area"
   ]
  },
  {
   "cell_type": "markdown",
   "metadata": {
    "id": "NXm3f0iycR7x"
   },
   "source": [
    "(Recuerde ejecutar la celda anterior. En este caso no se obtiene salida, pero igual debe ejecutar la celda a fin de definir la función de manera correcta). \n",
    "\n",
    "Obsérvese que el nombre de la función es `area_triangulo()` y los *argumentos* de la función son la base y la altura, que deben ser colocados dentro de la función separados por coma como se observa. Dentro de la función se calcula el área según la fórmula conocida, y con el comando `return` se especifica el resultado que *devuelve* la función.\n",
    "\n",
    "Una vez que se cuenta con dicha función, podemos emplearla cada vez que necesitemos calcular dicha área, por ejemplo:"
   ]
  },
  {
   "cell_type": "code",
   "execution_count": null,
   "metadata": {
    "id": "LrGrV__VcRWG"
   },
   "outputs": [],
   "source": [
    "# Primer ejemplo\n",
    "\n",
    "nuevaBase = 102.3\n",
    "nuevaAltura = 8.7\n",
    "\n",
    "nuevaArea = area_triangulo(nuevaBase, nuevaAltura)\n",
    "\n",
    "print(nuevaArea)"
   ]
  },
  {
   "cell_type": "code",
   "execution_count": null,
   "metadata": {
    "id": "4w4k_V_5dAFS"
   },
   "outputs": [],
   "source": [
    "# Segundo ejemplo\n",
    "\n",
    "otraArea = area_triangulo(33.5, 105.6)\n",
    "print(otraArea)"
   ]
  },
  {
   "cell_type": "markdown",
   "metadata": {
    "id": "BB5QUfjsdRy1"
   },
   "source": [
    "Como se puede ver, es posible colocar directamente como argumento de la función los valores numéricos, o bien se pueden emplear variables. Además, es posible utilizar funciones, por ejemplo, dentro de bucles de control:"
   ]
  },
  {
   "cell_type": "code",
   "execution_count": null,
   "metadata": {
    "id": "l21HV86FdOij"
   },
   "outputs": [],
   "source": [
    "# Ejemplo de uso de funciones dentro de bucles\n",
    "\n",
    "# Definimos vectores que almacenan las bases y las alturas\n",
    "bases = [2, 4, 6, 8, 10]\n",
    "alturas = [10, 12, 14, 16, 18]\n",
    "\n",
    "# Definimos un vector vacio que almacenara el resultado de las areas para cada par\n",
    "# base y altura\n",
    "areasTriangulos = []\n",
    "\n",
    "# Obtenemos la cantidad de areas a calcular\n",
    "elementos = len(bases)\n",
    "\n",
    "# Iteramos a lo largo de la cantidad de elementos, es decir triangulos a calcular\n",
    "# sus bases\n",
    "for elems in range(elementos):\n",
    "  b = bases[elems]\n",
    "  a = alturas[elems]\n",
    "  areas = area_triangulo(b, a)\n",
    "\n",
    "  areasTriangulos.append(areas)\n",
    "\n",
    "# Observamos el resultado de las areas\n",
    "print(areasTriangulos) \n"
   ]
  },
  {
   "cell_type": "markdown",
   "metadata": {
    "id": "mVgEZTfQfPC0"
   },
   "source": [
    "Vemos que el vector resultante contiene las áreas correctas en cada uno de sus elementos.\n",
    "\n",
    "Es importante mencionar que el mismo código de iteración pudiera haberse escrito de la siguiente manera:"
   ]
  },
  {
   "cell_type": "code",
   "execution_count": null,
   "metadata": {
    "id": "R2qEfyszeQdj"
   },
   "outputs": [],
   "source": [
    "# Vamos a almacenarlos en un nuevo vector\n",
    "nuevosTriangulos = []\n",
    "\n",
    "# Iteramos a lo largo de la cantidad de elementos, es decir triangulos a calcular\n",
    "# sus bases\n",
    "for elems in range(elementos):\n",
    "  nuevosTriangulos.append(area_triangulo(bases[elems], alturas[elems]))\n",
    "\n",
    "print(nuevosTriangulos)\n",
    "  "
   ]
  },
  {
   "cell_type": "markdown",
   "metadata": {
    "id": "zgDtH7DpgiVb"
   },
   "source": [
    "En este caso, estamos colocando todas las instrucciones necesarias en una sola línea dentro del bucle. Observe que el resultado final de las áreas es el mismo que el anterior.\n",
    "\n",
    "De cualquier modo, la ventaja de trabajar con funciones es que simplifica la ejecución de cálculos repetitivos además de que permite modularizar y escribir de una manera más ordenada y natural un programa, sobre todo cuando éste es muy extenso. Dependiendo del tipo de problema, además, podemos darle nombre a nuestras funciones de tal modo que nos permitan entender mejor lo que se hace a lo largo del mismo.\n",
    "\n",
    "Las funciones, por supuesto, aceptan argumentos de todo tipo, por lo que se recomienda estudiar sus múltiples utilidades:"
   ]
  },
  {
   "cell_type": "code",
   "execution_count": null,
   "metadata": {
    "id": "TLMHYqLug-nr"
   },
   "outputs": [],
   "source": [
    "# Ejemplo de funcion con argumentos tipo lista\n",
    "\n",
    "# Funcion para mostrar usuarios almacenados en lista\n",
    "def mostrar_usuarios(usrs):\n",
    "  for elems in usrs:\n",
    "    print(\"Nombre de Usuario: \"+elems)\n",
    "\n",
    "registro = ['Hector', 'Yolanda', 'Sofia', 'Alejandro', 'Eva', 'Victor']\n",
    "\n",
    "# Usamos la función sobre la variable registro\n",
    "mostrar_usuarios(registro)"
   ]
  },
  {
   "cell_type": "markdown",
   "metadata": {
    "id": "3mJWERS7kFQw"
   },
   "source": [
    "# Ejercicio práctico #1\n",
    "\n",
    "Ahora que ya conoce los fundamentos más básicos de programación en Python, vamos a realizar un primer ejercicio práctico que le permita aplicar parte de lo que ha aprendido hasta el momento.\n",
    "\n",
    "En este caso, escribirá un programa para indicar si los valores de los elementos de un vector son menores, mayores o iguales a cero, y almacenar dichos resultados en un segundo vector de caracteres. Luego, escribirá una función que haga lo mismo de tal forma que pueda usarlo cada vez que sea necesario."
   ]
  },
  {
   "cell_type": "markdown",
   "metadata": {
    "id": "IP2_kN-0kFDS"
   },
   "source": [
    "En primer lugar, defina un vector llamado `cantidades` que contenga los siguientes elementos en el mismo orden: -1, 12, 19, -50.3, 14, 0, 17, 8, -45, -3 y muéstrelos por pantalla:\n"
   ]
  },
  {
   "cell_type": "code",
   "execution_count": null,
   "metadata": {
    "id": "fHnXbg34i3Z0"
   },
   "outputs": [],
   "source": [
    "# Defina el vector cantidades y luego imprimalo en pantalla\n"
   ]
  },
  {
   "cell_type": "markdown",
   "metadata": {
    "id": "wWfLeQsWlerD"
   },
   "source": [
    "Ahora defina un vector vacío llamado `resultados` en donde almacenará los resultados finales:"
   ]
  },
  {
   "cell_type": "code",
   "execution_count": null,
   "metadata": {
    "id": "BNc1UzUhl5K2"
   },
   "outputs": [],
   "source": [
    "# Defina el vector resultados como vacio\n"
   ]
  },
  {
   "cell_type": "markdown",
   "metadata": {
    "id": "LIfbh_aNl-Dl"
   },
   "source": [
    "Ahora, determine la longitud del vector `cantidades` y luego escriba un bucle que itere a lo largo de todos los elementos de dicho vector y agregue al vector `resultados` el caracter `Mayor` si el valor numérico es mayor que cero, `Menor` si el valor numérico es menor que cero, e `Igual` si el valor numérico es igual a cero. Para ello, haga uso de las funciones `len()`, `for`, `range()`, `if` y `append()` de la manera adecuada:"
   ]
  },
  {
   "cell_type": "code",
   "execution_count": null,
   "metadata": {
    "id": "lZQ9bbo1l8Wq"
   },
   "outputs": [],
   "source": [
    "# Determine la longitud del vector de cantidades\n",
    "\n",
    "# Haciendo uso de for y range, itere a lo largo de los elementos del vector cantidades\n",
    "\n",
    "  # Haciendo uso de if, elif y else, aplique las condiciones descritas sobre los indices\n",
    "  # del vector cantidades de la manera apropiada, y almacene el string resultante (Mayor, Menor, Igual) \n",
    "  # sobre el vector resultados usando append()\n"
   ]
  },
  {
   "cell_type": "markdown",
   "metadata": {
    "id": "yj02MS_qnyZT"
   },
   "source": [
    "Por último, imprima en pantalla cada uno de los elementos del vector `resultados` usando un `for`:"
   ]
  },
  {
   "cell_type": "code",
   "execution_count": null,
   "metadata": {
    "id": "mk8kTpcsnvFZ"
   },
   "outputs": [],
   "source": [
    "# Imprima los elementos del vector de resultados usando un for\n"
   ]
  },
  {
   "cell_type": "markdown",
   "metadata": {
    "id": "TD7NyLNToNSo"
   },
   "source": [
    "Finalizado el ejercicio, la salida de dicho último paso debería ser:\n",
    "\n",
    "Menor\n",
    "\n",
    "Mayor\n",
    "\n",
    "Mayor\n",
    "\n",
    "Menor\n",
    "\n",
    "Mayor\n",
    "\n",
    "Igual\n",
    "\n",
    "Mayor\n",
    "\n",
    "Mayor\n",
    "\n",
    "Menor\n",
    "\n",
    "Menor"
   ]
  },
  {
   "cell_type": "markdown",
   "metadata": {
    "id": "-iGc_LBsoV-R"
   },
   "source": [
    "Ahora, escriba una función llamada `MayorMenorQue()` que tome como argumento un vector de cantidades y devuelva una lista como la resultante anterior. \n",
    "\n",
    "Por último, aplique dicha función sobre el vector $x = [-0.5, 12, 0, -30, 100, 12, -3, 3, 4, 0, -5, -47]$ y valide el resultado obtenido."
   ]
  },
  {
   "cell_type": "code",
   "execution_count": null,
   "metadata": {
    "id": "GznD3caqsYAN"
   },
   "outputs": [],
   "source": [
    "# Funcion MayorMenorQue()\n"
   ]
  },
  {
   "cell_type": "markdown",
   "metadata": {
    "id": "aZoU1ovz60Wk"
   },
   "source": [
    "# Comprensión de Listas (List Comprehension)\n",
    "\n",
    "La comprensión de listas es una técnica *sintáctica* de Python que permite la creación de listas de una forma rápida de escribir, legible y eficiente. Es recomendable el estudio detenido de este recurso ya que, aunque al principio resulta un tanto complicado de entender, su uso en el lenguaje es muy común y con frecuencia lo encontramos en códigos empleados para resolver cualquier variedad de problemas.\n",
    "\n",
    "A fin de entender el concepto, partamos de un ejemplo: supongamos que deseamos crear una lista de los cuadrados de una secuencia de números. Considerando lo que ya hemos aprendido con anterioridad, podríamos crear dicha lista con el siguiente código:"
   ]
  },
  {
   "cell_type": "code",
   "execution_count": null,
   "metadata": {
    "id": "AEMX74jH63Gs"
   },
   "outputs": [],
   "source": [
    "# Creacion de lista de cuadrados de numeros\n",
    "\n",
    "cuadrados = []\n",
    "for x in range(10):\n",
    "  cuadrados.append(x**2)\n",
    "\n",
    "print(cuadrados)"
   ]
  },
  {
   "cell_type": "markdown",
   "metadata": {
    "id": "NTYVaYFK9BwI"
   },
   "source": [
    "Podemos ver que, ya que el rango del bucle es 10, entonces se crea una lista del cuadrado de los números de 0 a 9 (es decir, $0^2, 1^2, 2^2, 3^2,...,9^2$).\n",
    "\n",
    "Ahora bien, se puede crear la misma lista usando *comprensión de listas* de la siguiente manera:"
   ]
  },
  {
   "cell_type": "code",
   "execution_count": null,
   "metadata": {
    "id": "GeyqRV669VBZ"
   },
   "outputs": [],
   "source": [
    "cuadrados_por_comprension = [x**2 for x in range(10)]\n",
    "print(cuadrados_por_comprension)"
   ]
  },
  {
   "cell_type": "markdown",
   "metadata": {
    "id": "Rx7amDbq96cO"
   },
   "source": [
    "Así, toda comprensión de lista está estructurada con unos corchetes [ ] que contienen una *expresión*, seguida de un `for`, y luego ninguna o más de una instrucción `for` o `if`. "
   ]
  },
  {
   "cell_type": "markdown",
   "metadata": {
    "id": "lYVdEBaL_cac"
   },
   "source": [
    "Veamos otro ejemplo. Tomando un caso similar al trabajado anteriormente, supongamos que tenemos una lista de números tanto negativos como positivos, y queremos, a partir de ella, construir otra lista pero seleccionando solo los números negativos. Esto podríamos realizarlo con el siguiente código:"
   ]
  },
  {
   "cell_type": "code",
   "execution_count": null,
   "metadata": {
    "id": "Bds8CzRj_sba"
   },
   "outputs": [],
   "source": [
    "# Seleccion de numeros negativos de una lista\n",
    "\n",
    "numeros = [10, 2, -3, -4, 0, 14, -57, 6, 16, -20]\n",
    "\n",
    "negativos = []\n",
    "for i in numeros:\n",
    "  if i<0:\n",
    "    negativos.append(i)\n",
    "\n",
    "print(negativos)"
   ]
  },
  {
   "cell_type": "markdown",
   "metadata": {
    "id": "Jc6z2QIxAFsQ"
   },
   "source": [
    "Este mismo cálculo se puede escribir con comprensión de listas de la siguiente manera:"
   ]
  },
  {
   "cell_type": "code",
   "execution_count": null,
   "metadata": {
    "id": "ck8caFJT-77c"
   },
   "outputs": [],
   "source": [
    "# Seleccion de numeros negativos de una lista usando comprensión de listas\n",
    "\n",
    "numeros = [10, 2, -3, -4, 0, 14, -57, 6, 16, -20]\n",
    "\n",
    "negativos_por_comprension = [i for i in numeros if i<0]\n",
    "\n",
    "print(negativos_por_comprension)"
   ]
  },
  {
   "cell_type": "markdown",
   "metadata": {
    "id": "Hk6N2rsTAbNr"
   },
   "source": [
    "A fin de reforzar la idea, veamos otro ejemplo: consideremos la siguiente lista de strings:"
   ]
  },
  {
   "cell_type": "code",
   "execution_count": null,
   "metadata": {
    "colab": {
     "base_uri": "https://localhost:8080/"
    },
    "id": "s5SBs2pl_X2P",
    "outputId": "4459d857-1866-4676-b6dd-1e9c51db23ff"
   },
   "outputs": [
    {
     "name": "stdout",
     "output_type": "stream",
     "text": [
      "['python', 'r', 'c++', 'matlab', 'java']\n"
     ]
    }
   ],
   "source": [
    "lenguajes = ['python', 'r', 'c++', 'matlab', 'java']\n",
    "print(lenguajes)"
   ]
  },
  {
   "cell_type": "markdown",
   "metadata": {
    "id": "OFINHh6xAxSv"
   },
   "source": [
    "Vamos a crear una nueva lista a partir de la anterior, pero transformando a mayúscula la primera letra de cada string:"
   ]
  },
  {
   "cell_type": "code",
   "execution_count": null,
   "metadata": {
    "id": "-aT0Ks4GAtkc"
   },
   "outputs": [],
   "source": [
    "# Conversion a mayuscula de la primera letra de cada string\n",
    "\n",
    "lenguajes_mayuscula = []\n",
    "for items in lenguajes:\n",
    "  lenguajes_mayuscula.append(items.capitalize())\n",
    "\n",
    "print(lenguajes_mayuscula)\n"
   ]
  },
  {
   "cell_type": "markdown",
   "metadata": {
    "id": "kLBADTr9BljP"
   },
   "source": [
    "En este ejemplo, hemos usado la función `capitalize()` aplicable a tipos de dato `string` a fin de convertir a mayúsculas la primera letra.\n",
    "\n",
    "Ahora bien, el mismo código puede escribirse de una manera más concisa usando comprensión de listas:"
   ]
  },
  {
   "cell_type": "code",
   "execution_count": null,
   "metadata": {
    "colab": {
     "base_uri": "https://localhost:8080/"
    },
    "id": "7ZxE8nkMBezz",
    "outputId": "ffa5cec8-29e9-4eaa-b2ab-7e0d6fe60ef7"
   },
   "outputs": [
    {
     "name": "stdout",
     "output_type": "stream",
     "text": [
      "['Python', 'R', 'C++', 'Matlab', 'Java']\n"
     ]
    }
   ],
   "source": [
    "# Conversion a mayuscula de la primera letra de cada string usando comprension\n",
    "# de listas\n",
    "\n",
    "lenguajes_mayuscula_por_comprension = [items.capitalize() for items in lenguajes]\n",
    "\n",
    "print(lenguajes_mayuscula_por_comprension)"
   ]
  },
  {
   "cell_type": "markdown",
   "metadata": {
    "id": "zaEfLeX2ChJW"
   },
   "source": [
    "Por supuesto, la comprensión de listas también puede emplearse para crear listas anidadas. Observemos el siguiente código:"
   ]
  },
  {
   "cell_type": "code",
   "execution_count": null,
   "metadata": {
    "id": "5qNi2fShCR_S"
   },
   "outputs": [],
   "source": [
    "# Dados dos vectores que tienen elementos comunes, creemos una lista de listas\n",
    "# que incluyen los elementos no comunes != (diferente de)\n",
    "\n",
    "vector1 = [1, 2, 3]\n",
    "vector2 = [3, 1, 4]\n",
    "\n",
    "distintos = []\n",
    "for x in vector1:\n",
    "  for y in vector2:\n",
    "    if x != y:\n",
    "      distintos.append([x, y])\n",
    "\n",
    "print(distintos)"
   ]
  },
  {
   "cell_type": "markdown",
   "metadata": {
    "id": "nkdB3GNyHH0X"
   },
   "source": [
    "En este caso se observa que el primer bucle recorre el `vector1` y va comparado su valor actual con cada uno de los elementos del `vector2`. Si los valores son distintos, los almacena como una lista `[x, y]`.\n",
    "\n",
    "Usando comprensión de listas, esto mismo puede escribirse así:\n"
   ]
  },
  {
   "cell_type": "code",
   "execution_count": null,
   "metadata": {
    "id": "SbFgWgULDLf_"
   },
   "outputs": [],
   "source": [
    "distintos_por_comprension = [[x,y] for x in vector1 for y in vector2 if x != y]\n",
    "print(distintos_por_comprension)"
   ]
  },
  {
   "cell_type": "markdown",
   "metadata": {
    "id": "DnakdEG6IFkD"
   },
   "source": [
    "En función de esto, haga el siguiente ejercicio - a partir del código:"
   ]
  },
  {
   "cell_type": "code",
   "execution_count": null,
   "metadata": {
    "id": "4O6GdLp7Htx5"
   },
   "outputs": [],
   "source": [
    "# Ejercicio 1 de comprension de listas\n",
    "\n",
    "secuencia = [12, -3, 0, 45, 3, 0, 4, 0, -21, 0, 18, 0]\n",
    "\n",
    "no_cero = []\n",
    "for i in secuencia:\n",
    "  if i != 0:\n",
    "    no_cero.append(i)\n",
    "\n",
    "print(no_cero)"
   ]
  },
  {
   "cell_type": "markdown",
   "metadata": {
    "id": "AHL9unGPIrqL"
   },
   "source": [
    "Escriba a continuación el mismo algoritmo pero usando comprensión de listas:"
   ]
  },
  {
   "cell_type": "code",
   "execution_count": null,
   "metadata": {
    "id": "a_7vjjrhIpru"
   },
   "outputs": [],
   "source": [
    "# Resolver Ejercicio 1 usando comprension de listas\n",
    "\n"
   ]
  },
  {
   "cell_type": "markdown",
   "metadata": {
    "id": "l5BLeqgyI5go"
   },
   "source": [
    "Ahora, convierta el siguiente código a su versión con comprensión de listas:"
   ]
  },
  {
   "cell_type": "code",
   "execution_count": null,
   "metadata": {
    "id": "OVbRXGhpI-Or"
   },
   "outputs": [],
   "source": [
    "# Ejercicio 2 de comprension de listas\n",
    "\n",
    "nombres1 = ['Maria', 'Pedro', 'Ana', 'Nelson']\n",
    "nombres2 = ['Jose', 'Ana', 'Manuel', 'Pedro']\n",
    "\n",
    "iguales = []\n",
    "for x in nombres1:\n",
    "  for y in nombres2:\n",
    "    if x == y:\n",
    "      iguales.append([x, y, 'Iguales'])\n",
    "\n",
    "print(iguales)"
   ]
  },
  {
   "cell_type": "code",
   "execution_count": null,
   "metadata": {
    "id": "BZGY0K3zJaSU"
   },
   "outputs": [],
   "source": [
    "# Resolver Ejercicio 2 usando comprension de listas\n"
   ]
  },
  {
   "cell_type": "markdown",
   "metadata": {
    "id": "WnhIebNQL-vL"
   },
   "source": [
    "# Tuplas y Secuencias\n",
    "\n",
    "En Python, tanto las listas como la secuencias numéricas que surgen al aplicar la función `range()` se consideran dentro del lenguaje como tipos de datos en forma de Secuencias. Ahora bien, una característica fundamental de, por ejemplo, las listas, es que sus elementos son *mutables*, es decir, pueden ser modificados sus valores:"
   ]
  },
  {
   "cell_type": "code",
   "execution_count": null,
   "metadata": {
    "id": "_ugyKS0DL3Hr"
   },
   "outputs": [],
   "source": [
    "miLista = [1, 2, 3, 4, 5, 6]\n",
    "print(miLista)\n",
    "\n",
    "miLista[4] = 25\n",
    "print(miLista)"
   ]
  },
  {
   "cell_type": "markdown",
   "metadata": {
    "id": "_Gk040LirN4B"
   },
   "source": [
    "Las *tuplas*, por su parte, consisten en una secuencia de número *inmutables*, que se definen separados por comas:"
   ]
  },
  {
   "cell_type": "code",
   "execution_count": null,
   "metadata": {
    "id": "hWQs6B-lrDoi"
   },
   "outputs": [],
   "source": [
    "miTupla = 1, 2, 3, 4, 5, 6\n",
    "print(miTupla)"
   ]
  },
  {
   "cell_type": "markdown",
   "metadata": {
    "id": "utoDBPgMr_zZ"
   },
   "source": [
    "En este caso, se observa que el resultado coloca la secuencia de números entre paréntesis, lo que funciona como manera para distinguir listas de tuplas.\n",
    "\n",
    "Podemos hacer referencia a los elementos de la tupla por su índice:"
   ]
  },
  {
   "cell_type": "code",
   "execution_count": null,
   "metadata": {
    "id": "2K2q4SlrrYoM"
   },
   "outputs": [],
   "source": [
    "print(miTupla[0])\n",
    "\n",
    "print(miTupla[4])"
   ]
  },
  {
   "cell_type": "markdown",
   "metadata": {
    "id": "5C_om08UsdoX"
   },
   "source": [
    "Pero no podemos modificar el valor de un elemento:"
   ]
  },
  {
   "cell_type": "code",
   "execution_count": null,
   "metadata": {
    "id": "BgOvkG5MsIm7"
   },
   "outputs": [],
   "source": [
    "miTupla[3] = 14\n",
    "print(miTupla)"
   ]
  },
  {
   "cell_type": "markdown",
   "metadata": {
    "id": "bg01-SQgssl2"
   },
   "source": [
    "Las tuplas pueden contener elementos de distinto tipo, y también pueden definirse tuplas de tuplas:"
   ]
  },
  {
   "cell_type": "code",
   "execution_count": null,
   "metadata": {
    "id": "PXbROe7Qsikf"
   },
   "outputs": [],
   "source": [
    "tupla1 = 1, 2, 3, 'Maria'\n",
    "tupla2 = 'Python', 'C++', True\n",
    "\n",
    "tupla3 = (tupla1, tupla2)\n",
    "print(tupla3)"
   ]
  },
  {
   "cell_type": "markdown",
   "metadata": {
    "id": "p_940BMItKNW"
   },
   "source": [
    "Y el acceso a sus elementos puede hacerse con corchetes de la misma manera que las listas:"
   ]
  },
  {
   "cell_type": "code",
   "execution_count": null,
   "metadata": {
    "id": "a9wBKIn4s7pa"
   },
   "outputs": [],
   "source": [
    "print(tupla3[0][2])\n",
    "\n",
    "print(tupla3[1][2])"
   ]
  },
  {
   "cell_type": "markdown",
   "metadata": {
    "id": "fo0pZJpYtd0d"
   },
   "source": [
    "Aunque parecen similares a las listas, las tuplas suelen emplearse cuando se trabajan con secuencias de datos que no cambian su valor a lo largo de la ejecución de un programa entero, o bien cuando se desea garantizar que una cantidad relevante permanezca *inmutable* en todo el algoritmo (por ejemplo, una secuencia de constantes matemáticas), por lo que es importante conocerlas como uno de los tipos de datos presentes en Python a fin de no caer en confusiones cuando nos encontramos con una de ellas o bien cuando comparamos con las listas tradicionales."
   ]
  },
  {
   "cell_type": "markdown",
   "metadata": {
    "id": "wP_75bWfuTNm"
   },
   "source": [
    "# Diccionarios\n",
    "Los diccionarios suelen conocerse en otros lenguajes de programación como *memorias asociativas* o *arreglos asociativos*. A diferencia de las secuencias, que son indexadas a partir de rangos numéricos, los diccionarios son indexados con \"claves\" o *keys*.\n",
    "\n",
    "Una manera de entender a los diccionarios es como una secuencia de pares *clave*:*valor* o bien *key*:*value*, con el requisito de que las *keys* deben ser siempre únicas dentro de un mismo diccionario. Veamos algunos ejemplos de su uso:"
   ]
  },
  {
   "cell_type": "code",
   "execution_count": null,
   "metadata": {
    "id": "cvQ_AsS9s-Ma"
   },
   "outputs": [],
   "source": [
    "# Definicion de diccionarios\n",
    "\n",
    "clientes = {'Maria': 33, 'Jose': 25, 'Ana': 21}\n",
    "print(clientes)"
   ]
  },
  {
   "cell_type": "markdown",
   "metadata": {
    "id": "Yb7ZdKitvwFp"
   },
   "source": [
    "Nótese que para definir un diccionario se deben emplear llaves {}, y que cada elemento (par key:value) va separado por comas. En este caso, los *keys* del diccionario `clientes` son los nombres, mientras que los valores de cada uno son las edades.\n",
    "De modo que, si deseamos saber las edades de los clientes individuales, no hacemos referencia a su índice, sino a su *key*:"
   ]
  },
  {
   "cell_type": "code",
   "execution_count": null,
   "metadata": {
    "id": "TUN6Q7P-vujm"
   },
   "outputs": [],
   "source": [
    "print(clientes['Maria'])\n",
    "\n",
    "print(clientes['Ana'])"
   ]
  },
  {
   "cell_type": "markdown",
   "metadata": {
    "id": "AfJtJz8owdwY"
   },
   "source": [
    "Si deseamos agregar un nuevo elemento al diccionario, basta con incorporarlo de la siguiente manera:"
   ]
  },
  {
   "cell_type": "code",
   "execution_count": null,
   "metadata": {
    "id": "tDjMwVucwPK7"
   },
   "outputs": [],
   "source": [
    "clientes['Nelson'] = 64\n",
    "clientes['Patricia'] = 42\n",
    "print(clientes)"
   ]
  },
  {
   "cell_type": "markdown",
   "metadata": {
    "id": "uyR3gA0GwuN_"
   },
   "source": [
    "Si deseamos eliminar un registro del diccionario, usamos la función `del`:"
   ]
  },
  {
   "cell_type": "code",
   "execution_count": null,
   "metadata": {
    "id": "jQmdKf9bwlzk"
   },
   "outputs": [],
   "source": [
    "del clientes['Nelson']\n",
    "print(clientes)"
   ]
  },
  {
   "cell_type": "markdown",
   "metadata": {
    "id": "aYITr3vtxGMW"
   },
   "source": [
    "Si aplicamos la función `list()` a un diccionario, nos devuelve las *keys* en el orden en el que fueron creadas:"
   ]
  },
  {
   "cell_type": "code",
   "execution_count": null,
   "metadata": {
    "id": "sYTRIZibw3xj"
   },
   "outputs": [],
   "source": [
    "list(clientes)"
   ]
  },
  {
   "cell_type": "markdown",
   "metadata": {
    "id": "6QjxEQv9xPZ-"
   },
   "source": [
    "Y si usamos la función `sorted()`, nos devuelve las *keys* en orden alfabético o numérico:"
   ]
  },
  {
   "cell_type": "code",
   "execution_count": null,
   "metadata": {
    "id": "14THgFBlxNRa"
   },
   "outputs": [],
   "source": [
    "sorted(clientes)"
   ]
  },
  {
   "cell_type": "markdown",
   "metadata": {
    "id": "P8KnKNOFxdOm"
   },
   "source": [
    "Podemos saber si una *key* forma parte o no de un diccionario usando los operadores `in` o `not in`:"
   ]
  },
  {
   "cell_type": "code",
   "execution_count": null,
   "metadata": {
    "id": "4MHTHeZexXFL"
   },
   "outputs": [],
   "source": [
    "# ¿Esta Ana en clientes?\n",
    "'Ana' in clientes"
   ]
  },
  {
   "cell_type": "code",
   "execution_count": null,
   "metadata": {
    "id": "mg5GJHgNxnUZ"
   },
   "outputs": [],
   "source": [
    "# ¿Esta Nelson en clientes?\n",
    "'Nelson' in clientes"
   ]
  },
  {
   "cell_type": "code",
   "execution_count": null,
   "metadata": {
    "id": "ZlYAtiS8xraM"
   },
   "outputs": [],
   "source": [
    "# ¿No esta Nelson en clientes?\n",
    "'Nelson' not in clientes"
   ]
  },
  {
   "cell_type": "code",
   "execution_count": null,
   "metadata": {
    "id": "sTAdTymyxu4B"
   },
   "outputs": [],
   "source": [
    "# ¿No esta Maria en clientes?\n",
    "'Maria' not in clientes"
   ]
  },
  {
   "cell_type": "markdown",
   "metadata": {
    "id": "zfiPDoKvyEoB"
   },
   "source": [
    "Por otro lado, la función `dict()` permite crear diccionarios directamente de tuplas de valores:"
   ]
  },
  {
   "cell_type": "code",
   "execution_count": null,
   "metadata": {
    "id": "5aiEOACJxwoJ"
   },
   "outputs": [],
   "source": [
    "# Creacion de diccionario a partir de tuplas\n",
    "\n",
    "miDiccionario = dict([('Primer',102),('Segundo', 201),('Tercero', 45)])\n",
    "print(miDiccionario)"
   ]
  },
  {
   "cell_type": "markdown",
   "metadata": {
    "id": "BzC--qWYyoQs"
   },
   "source": [
    "Y además, es posible crear un diccionario usando comprensión de listas:"
   ]
  },
  {
   "cell_type": "code",
   "execution_count": null,
   "metadata": {
    "id": "22Vwx55hyj3w"
   },
   "outputs": [],
   "source": [
    "# Diccionario a partir de una comprension de listas\n",
    "\n",
    "cubos = {x:x**3 for x in range(10)}\n",
    "print(cubos)"
   ]
  },
  {
   "cell_type": "markdown",
   "metadata": {
    "id": "MRIDdg4Zz-dq"
   },
   "source": [
    "Con los diccionarios también es posible hacer bucles para obtener tanto sus *keys* como sus *values* de manera simultánea, y para ello se utiliza la función `items()`:"
   ]
  },
  {
   "cell_type": "code",
   "execution_count": null,
   "metadata": {
    "id": "T3fZh_DUy79n"
   },
   "outputs": [],
   "source": [
    "# Bucles con los diccionarios\n",
    "\n",
    "correos = {'Maria': 'mariab@correo.com', 'Nelson': 'nramirez@python.com', 'Patricia': 'patri32@coding.com'}\n",
    "print(correos)\n",
    "\n",
    "for k,v in correos.items():\n",
    "  print('El correo de '+k+' es '+v)"
   ]
  },
  {
   "cell_type": "markdown",
   "metadata": {
    "id": "f1B-mxwO1PRX"
   },
   "source": [
    "**Nota**: para el caso de las listas, también es posible realizar un bucle que arroje tanto el índice como el valor del elemento de manera simultánea, usando la función `enumerate()`:"
   ]
  },
  {
   "cell_type": "code",
   "execution_count": null,
   "metadata": {
    "id": "ovi-hvSa0m2r"
   },
   "outputs": [],
   "source": [
    "# Ejemplo de uso de la funcion enumerate()\n",
    "\n",
    "apellidos = ['Ramirez', 'Gonzalez', 'Paredes', 'Guerra']\n",
    "\n",
    "for i,v in enumerate(apellidos):\n",
    "  print('Indice='+str(i)+' Apellido: '+v)"
   ]
  },
  {
   "cell_type": "markdown",
   "metadata": {
    "id": "2_xDBGx42FG1"
   },
   "source": [
    "La utilidad de los diccionarios está muy relacionada con el tipo de programa o aplicación que se desarrolla o bien el problema que se resuelve. Dadas sus características, los diccionarios son ideales cuando se desean almacenar datos que puedan referenciarse, por ejemplo, por un nombre (en este caso, las *keys*) y cuyo valor sea una cantidad numérica o algún otro dato que se necesite a efectos de realizar un algoritmo. Por ejemplo:"
   ]
  },
  {
   "cell_type": "code",
   "execution_count": null,
   "metadata": {
    "id": "5-GZw-Gp1wAt"
   },
   "outputs": [],
   "source": [
    "# Diccionario de constantes matemáticas\n",
    "\n",
    "constantes = {'Pi': 3.1415, 'e': 2.71828, 'c': 299792.5}\n",
    "\n",
    "print('La velocidad de la luz es '+str(constantes['c'])+' Km/s')\n",
    "print('El número Pi es '+str(constantes['Pi']))\n",
    "print('La constante de Euler es '+str(constantes['e']))\n",
    "\n",
    "multiplicacion = constantes['Pi']*constantes['c']\n",
    "print('La multiplicacion de Pi*c es '+str(multiplicacion))"
   ]
  },
  {
   "cell_type": "markdown",
   "metadata": {
    "id": "ntUSzlch32yc"
   },
   "source": [
    "# Input y Output\n"
   ]
  },
  {
   "cell_type": "markdown",
   "metadata": {
    "id": "aTzPg1993-Nv"
   },
   "source": [
    "## Output\n",
    "Como vimos en ejemplos pasados, cuando se escribe código en Python y se desea imprimir en pantalla el resultado de una operación o bien algún tipo de texto que combine caracteres y números, es posible hacerlo del modo siguiente:"
   ]
  },
  {
   "cell_type": "code",
   "execution_count": null,
   "metadata": {
    "id": "EAeUIpcY3Aa9"
   },
   "outputs": [],
   "source": [
    "# Salida por pantalla\n",
    "\n",
    "variable = 256\n",
    "print('El valor de la variable es '+str(variable))"
   ]
  },
  {
   "cell_type": "markdown",
   "metadata": {
    "id": "pHxRoZAg6ZH_"
   },
   "source": [
    "Sin embago, es posible darle mayor control y calidad a las salidas por pantalla si se hace uso del método `str.format()` propio de Python. Veamos algunos ejemplos:"
   ]
  },
  {
   "cell_type": "code",
   "execution_count": null,
   "metadata": {
    "id": "v05bryhh5me_"
   },
   "outputs": [],
   "source": [
    "# Ejemplos del uso de str.format()\n",
    "\n",
    "print('El valor de la variable es {}'.format(variable))"
   ]
  },
  {
   "cell_type": "markdown",
   "metadata": {
    "id": "0Tri08V97hGb"
   },
   "source": [
    "Obsérvese que se usa el {} dentro del string para indicar que allí se colocará el valor de `variable`. Esto puede emplearse para mostrar múltiples resultados:"
   ]
  },
  {
   "cell_type": "code",
   "execution_count": null,
   "metadata": {
    "id": "iqmPldNU7PaI"
   },
   "outputs": [],
   "source": [
    "print('El valor de la constante {} es {}'.format('Pi', 3.1415))"
   ]
  },
  {
   "cell_type": "markdown",
   "metadata": {
    "id": "aEZKm5Iz8y55"
   },
   "source": [
    "También pueden emplearse argumentos posicionales:"
   ]
  },
  {
   "cell_type": "code",
   "execution_count": null,
   "metadata": {
    "id": "jVh_5QsG73v_"
   },
   "outputs": [],
   "source": [
    "# El indice hace referencia a cual de los valores del .format() se muestra primero\n",
    "\n",
    "print('Primero viene el {0} y luego el {1}'.format('Uno', 'Dos'))\n",
    "print('Primero viene el {1} y luego el {0}'.format('Uno', 'Dos'))"
   ]
  },
  {
   "cell_type": "markdown",
   "metadata": {
    "id": "CCYrBRn4-dY3"
   },
   "source": [
    "También puede establecerse la cantidad de números decimales (precisión) a mostrar en un resultado:"
   ]
  },
  {
   "cell_type": "code",
   "execution_count": null,
   "metadata": {
    "id": "cwAHiunp88qN"
   },
   "outputs": [],
   "source": [
    "# Solo mostrar 3 valores decimales del resultado\n",
    "\n",
    "resultado = 25.1215418\n",
    "print('Resultado es {:.3f}'.format(resultado))"
   ]
  },
  {
   "cell_type": "markdown",
   "metadata": {
    "id": "PxUV-evz--rc"
   },
   "source": [
    "En este caso, `:.3f` significa muestra hasta 3 valores decimales de una variable tipo float."
   ]
  },
  {
   "cell_type": "markdown",
   "metadata": {
    "id": "7YHTG1jO0JH3"
   },
   "source": [
    "Ahora bien, a partir de la versión de Python 3.6, se introdujo además lo que se conoce como *f-strings*, que son una forma equivalente de darle formato a las salidas de texto y hacerlas un poco más legibles.\n",
    "\n",
    "Para usar los f-strings, basta con colocar una f al principio de la cadena de caracteres que se quiere escribir, y luego un {} con la variable a desplegar en su interior. Veamos un ejemplo:"
   ]
  },
  {
   "cell_type": "code",
   "execution_count": null,
   "metadata": {
    "colab": {
     "base_uri": "https://localhost:8080/"
    },
    "id": "KEt4Jiwv0sia",
    "outputId": "d19cf96a-79dc-450d-875b-26db86b000bf"
   },
   "outputs": [
    {
     "name": "stdout",
     "output_type": "stream",
     "text": [
      "El valor de la variable es 1024\n"
     ]
    }
   ],
   "source": [
    "# Salida por pantalla con f-string\n",
    "\n",
    "variable = 1024\n",
    "print(f'El valor de la variable es {variable}')"
   ]
  },
  {
   "cell_type": "markdown",
   "metadata": {
    "id": "5okC2DKB03hz"
   },
   "source": [
    "Obsérvese como, en efecto, el comando resulta más sencillo pues la variable toma la posición en donde será desplegada, y solo basta agregar la f al principio del string para que funcione. Veamos otros ejemplos similares a los anteriores:"
   ]
  },
  {
   "cell_type": "code",
   "execution_count": null,
   "metadata": {
    "colab": {
     "base_uri": "https://localhost:8080/"
    },
    "id": "UjZT7t461IkG",
    "outputId": "465d19a7-86d8-46cf-eec9-3295656d16cc"
   },
   "outputs": [
    {
     "name": "stdout",
     "output_type": "stream",
     "text": [
      "El valor de la constante Pi es 3.1415, el valor de la constante de Euler es 2.718\n"
     ]
    }
   ],
   "source": [
    "# Multiples f-strings\n",
    "Pi = 3.1415\n",
    "Euler = 2.718\n",
    "print(f'El valor de la constante Pi es {Pi}, el valor de la constante de Euler es {Euler}')"
   ]
  },
  {
   "cell_type": "markdown",
   "metadata": {
    "id": "_jLvobUO2D1N"
   },
   "source": [
    "Del mismo modo, también es posible incluir en los f-string la cantidad de cifras a representar:"
   ]
  },
  {
   "cell_type": "code",
   "execution_count": null,
   "metadata": {
    "colab": {
     "base_uri": "https://localhost:8080/"
    },
    "id": "HVdTm4JZ2AWM",
    "outputId": "f8a153e0-b92d-4d38-a98e-0cb1b07d20fa"
   },
   "outputs": [
    {
     "name": "stdout",
     "output_type": "stream",
     "text": [
      "Resultado es 252.65\n"
     ]
    }
   ],
   "source": [
    "# Decimales con f-strings\n",
    "resultado = 252.648188\n",
    "print(f'Resultado es {resultado:.2f}')"
   ]
  },
  {
   "cell_type": "markdown",
   "metadata": {
    "id": "apsKCm_b_pk0"
   },
   "source": [
    "## Input\n",
    "\n",
    "Cuando se desea realizar introducción de información a partir del teclado, se trabaja entonces con la función `input()`. En este caso, al ejecutar la función en una celda de un Jupyter Notebook, la misma se quedará esperando hasta que se introduzca la información requerida y se presione *Enter*, como vemos a continuación:"
   ]
  },
  {
   "cell_type": "code",
   "execution_count": null,
   "metadata": {
    "id": "0YU0H4449lgx"
   },
   "outputs": [],
   "source": [
    "# Uso de la función input()\n",
    "\n",
    "nombre = input('Por favor introduzca su Nombre: ')"
   ]
  },
  {
   "cell_type": "code",
   "execution_count": null,
   "metadata": {
    "id": "iy8KTyrp_h51"
   },
   "outputs": [],
   "source": [
    "edad = input('Por favor introduzca su Edad: ')"
   ]
  },
  {
   "cell_type": "code",
   "execution_count": null,
   "metadata": {
    "id": "j5QSwrKA_lfg"
   },
   "outputs": [],
   "source": [
    "print('La edad de {} es {}'.format(nombre, edad))"
   ]
  },
  {
   "cell_type": "markdown",
   "metadata": {
    "id": "Czu17VroddSM"
   },
   "source": [
    "**Nota**: Siempre que se introduzca un número en una función `input()`, éste la tomará como un `string`, de modo que si se quiere utilizar dicho número para un cálculo posterior, hay que convertirlo a su tipo de dato correcto, es decir: "
   ]
  },
  {
   "cell_type": "code",
   "execution_count": null,
   "metadata": {
    "id": "Jsgs8mykdyRs"
   },
   "outputs": [],
   "source": [
    "# El tipo de dato de edad es string\n",
    "type(edad)\n",
    "\n",
    "# Para usarlo como numero luego, hay que convertirlo\n",
    "edad = int(edad) # Tambien puede ser float() dependiendo del caso y naturaleza de la variable\n",
    "type(edad)\n",
    "\n",
    "# Ahora puede ser, por ejemplo, sumado o multiplicado con otro número\n",
    "print(edad+10)"
   ]
  },
  {
   "cell_type": "markdown",
   "metadata": {
    "id": "r_T4YEy5AgGK"
   },
   "source": [
    "Por último, es importante conocer las funciones existentes en Python para escribir y leer en archivos, a fin de contar con mayores herramientas y versatilidad a la hora de cargar y guardar información. Para ello, veamos el cómo se utilizan las funciones `write()` y `read()`.\n",
    "\n",
    "En primer lugar, antes de leer o guardar en cualquier archivo, es necesario crear un objeto de tipo *archivo* con la función `open()`:"
   ]
  },
  {
   "cell_type": "code",
   "execution_count": null,
   "metadata": {
    "id": "ca-3nYgwAQ-_"
   },
   "outputs": [],
   "source": [
    "# Creacion de un objeto tipo archivo\n",
    "\n",
    "f = open('miarchivo.txt', 'w')"
   ]
  },
  {
   "cell_type": "markdown",
   "metadata": {
    "id": "tpywt9-6BeEB"
   },
   "source": [
    "Al ejecutar esta instrucción, se está creando el objeto `f` que es de tipo archivo. El primer argumento de la función es el nombre que llevará el archivo creado, y el segundo es el modo de operación. En este caso `w` se refiere a solo escritura, `r` se refiere a solo lectura, y `a` se refiere a agregar datos sin borrar lo anterior.\n",
    "\n",
    "Sin embargo, la función `open()` solo crea el objeto. Todavía no hemos escrito nada en dicho archivo. Para ello, se utiliza la función `write()`:\n"
   ]
  },
  {
   "cell_type": "code",
   "execution_count": null,
   "metadata": {
    "id": "JXjSpRAWBctF"
   },
   "outputs": [],
   "source": [
    "# Escritura en el archivo\n",
    "\n",
    "string = 'Voy a guardar este string en el archivo miarchivo.txt\\nEsta es la segunda linea del archivo.'\n",
    "          # El caracter \\n indica el final de una linea\n",
    "\n",
    "# Ahora voy a llamar a la funcion write sobre el objeto f creado previamente.\n",
    "# El argumento sera el string o el dato a almacenar\n",
    "f.write(string)\n",
    "\n",
    "# Luego cierro el archivo\n",
    "f.close()"
   ]
  },
  {
   "cell_type": "markdown",
   "metadata": {
    "id": "y0QSQRxeC2VF"
   },
   "source": [
    "Para ahora leer la información de dicho archivo, se emplea la función `read()`:"
   ]
  },
  {
   "cell_type": "code",
   "execution_count": null,
   "metadata": {
    "id": "E3dEn8ZJCpVd"
   },
   "outputs": [],
   "source": [
    "# Leer del archivo ya creado\n",
    "\n",
    "# Creo una string vacia\n",
    "nueva_string = ''\n",
    "print(nueva_string)\n",
    "\n",
    "# Creo el objeto tipo archivo en solo lectura\n",
    "# El primer argumento debe tener el nombre del archivo a leer\n",
    "# Y el archivo debe estar copiado en la misma carpeta que el Notebook\n",
    "f = open('miarchivo.txt', 'r')\n",
    "\n",
    "# Leo la informacion del archivo y lo guardo en la variable nueva_string\n",
    "nueva_string =f.read()\n",
    "\n",
    "# Cierro el archivo\n",
    "f.close()\n",
    "\n",
    "# Imprimo lo leido\n",
    "print(nueva_string)"
   ]
  },
  {
   "cell_type": "markdown",
   "metadata": {
    "id": "UAlSnwqWIOzk"
   },
   "source": [
    "También es posible leer el archivo línea por línea:"
   ]
  },
  {
   "cell_type": "code",
   "execution_count": null,
   "metadata": {
    "id": "1HyLCtDeISH8"
   },
   "outputs": [],
   "source": [
    "# Leer el archivo linea por linea\n",
    "\n",
    "# Creo el objeto tipo archivo en solo lectura\n",
    "f = open('miarchivo.txt', 'r')\n",
    "\n",
    "# Muestro la informacion de la primera linea\n",
    "print(f.readline())\n",
    "\n",
    "# Muestro la información de la segunda linea\n",
    "print(f.readline())\n",
    "\n",
    "# Cierro el archivo\n",
    "f.close()"
   ]
  },
  {
   "cell_type": "markdown",
   "metadata": {
    "id": "ipXgzDXlIogy"
   },
   "source": [
    "O incluso puede hacerse un bucle sobre cada linea del archivo:"
   ]
  },
  {
   "cell_type": "code",
   "execution_count": null,
   "metadata": {
    "id": "fU49H-wcIsmT"
   },
   "outputs": [],
   "source": [
    "# Creo el objeto tipo archivo en solo lectura\n",
    "f = open('miarchivo.txt', 'r')\n",
    "\n",
    "# Bucle a lo largo del archivo\n",
    "for line in f:\n",
    "  print(line)\n",
    "\n",
    "# Cierro el archivo\n",
    "f.close()"
   ]
  },
  {
   "cell_type": "markdown",
   "metadata": {
    "id": "ODc-hC_pGgsH"
   },
   "source": [
    "Finalmente, si se desea guardar el archivo creado, es necesario *importar* una librería específica (lo veremos más adelante) de Google Colab, y luego llamar a la función `download` de dicha librería.\n",
    "\n",
    "Solo a modo de ejemplo, ejecutar el siguiente código:"
   ]
  },
  {
   "cell_type": "code",
   "execution_count": null,
   "metadata": {
    "id": "SnyhesjZEPv_"
   },
   "outputs": [],
   "source": [
    "# Creo el objeto tipo archivo en solo lectura\n",
    "f = open('miarchivo.txt', 'r')\n",
    "\n",
    "# Leo el archivo\n",
    "f.read()\n",
    "\n",
    "# Cargar librería de Google Colab y descargar archivo\n",
    "from google.colab import files\n",
    "files.download('miarchivo.txt')"
   ]
  },
  {
   "cell_type": "markdown",
   "metadata": {
    "id": "uS1a97bMG4ju"
   },
   "source": [
    "Esto levantará una ventana de \"Guardar como\" donde podrá seleccionar el lugar donde guardar el archivo creado. "
   ]
  },
  {
   "cell_type": "markdown",
   "metadata": {
    "id": "hGQOLs4mHSEF"
   },
   "source": [
    "# Librerías e *imports*\n",
    "En Python, las librerías son un conjunto de módulos, funciones o métodos que amplian las capacidades del lenguaje y que ofrecen la posibilidad de llevar a cabo una gran cantidad de cálculos y operaciones especiales o específicas sin necesidad de escribir un código particular para cada una de ellas. Estas capacidades van desde librerías estándar para, por ejemplo, incorporar funciones matemáticas a los códigos escritos, o bien otras para el cálculo numérico avanzado, procesamiento digital de imágenes, base de datos, desarrollo web, inteligencia artificial, entre muchos otros (para la fecha, solamente el módulo estándar de Python tiene más de 200 librerías, y existen muchas otras más desarrolladas por terceros en modalidad open-source).\n",
    "\n",
    "Para \"llamar\" a una librería en Python, se usa el comando `import`, esto significa que al escribir dicha palabra y luego el nombre de la librería, se estarán cargando todos los módulos y funciones asociadas a la misma y, por lo tanto, se podrán usar en nuestro programa.\n",
    "\n",
    "Por ejemplo, supongamos que deseamos desarrollar una aplicación que requiera el cálculo de funciones matemáticas y trigonométricas como el seno, coseno, tangente, etc. Para ello, Python cuenta con la librería `math`, a la cual accedemos de la manera siguiente:"
   ]
  },
  {
   "cell_type": "code",
   "execution_count": null,
   "metadata": {
    "id": "Yz4eyhiXFyez"
   },
   "outputs": [],
   "source": [
    "# Importamos la librería math\n",
    "import math\n",
    "\n",
    "# Una vez importada, podemos usar sus funciones\n",
    "print('Pi: '+str(math.pi))\n",
    "\n",
    "x = 0.12458\n",
    "seno = math.sin(x)\n",
    "\n",
    "print('El seno de {} es {}'.format(x, seno))\n",
    "\n",
    "y = 12.12515\n",
    "log = math.log(y, 2)\n",
    "\n",
    "print('El logaritmo base 2 de {} es {}'.format(y, log))"
   ]
  },
  {
   "cell_type": "markdown",
   "metadata": {
    "id": "M6UtYjozGbWI"
   },
   "source": [
    "Nótese que siempre que se quiere usar alguna de las funciones que forman parte de la librería, se debe escribir el nombre de la librería seguida de punto: `math.pi`, `math.cos()`, etc. Veamos otros ejemplos:"
   ]
  },
  {
   "cell_type": "code",
   "execution_count": null,
   "metadata": {
    "id": "x4CVOTe-Fam4"
   },
   "outputs": [],
   "source": [
    "# Importamos la libreria random\n",
    "import random\n",
    "\n",
    "# Definimos una lista\n",
    "nombres = ['Ana', 'Jose', 'Maria', 'Patricia', 'Nelson']\n",
    "\n",
    "# Hacemos selecciones al azar dentro de la lista usando la funcion choice de la librería random\n",
    "seleccion = random.choice(nombres)\n",
    "print('El elegido fue {}'.format(seleccion))\n",
    "\n",
    "# Podemos hacer un muestreo al azar sin reemplazo\n",
    "# En este caso, tomamos 10 muestras al azar en un rango que va de 0 a 100\n",
    "muestra = random.sample(range(100), 10)\n",
    "print(muestra)"
   ]
  },
  {
   "cell_type": "markdown",
   "metadata": {
    "id": "eYJ05j2GHsfF"
   },
   "source": [
    "Ejecute esta última celda varias veces para observar cómo en cada caso tanto la selección como el vector de muestras cambia, ya que se toman al azar cada vez.\n",
    "\n",
    "Gracias a las librerías podemos, por ejemplo, realizar operaciones estadísticas sobre conjuntos de datos sin necesidad de escribir código propio:"
   ]
  },
  {
   "cell_type": "code",
   "execution_count": null,
   "metadata": {
    "id": "iOELe_BfHNU5"
   },
   "outputs": [],
   "source": [
    "# Importamos la libreria statistics\n",
    "import statistics\n",
    "\n",
    "# Definimos una data\n",
    "data1 = [2.75, 1.75, 1.25, 0.25, 0.5, 1.25, 3.5]\n",
    "\n",
    "# Calculamos estadistica de la data\n",
    "media = statistics.mean(data1)\n",
    "mediana = statistics.median(data1)\n",
    "variancia = statistics.variance(data1)\n",
    "desviacionstd = statistics.stdev(data1)\n",
    "\n",
    "print('La media es {}\\nla mediana es {}\\nla variacia es {}\\nla desviacion estandar es {}'.format(media, mediana, variancia, desviacionstd))"
   ]
  },
  {
   "cell_type": "markdown",
   "metadata": {
    "id": "Sg_QslOGJD4G"
   },
   "source": [
    "Adicionalmente, es posible otorgar un *alias* al cargar las librerías a fin de facilitar un poco la escritura y la legibilidad del código, sobre todo cuando las librerías tienen nombres muy largos. Por ejemplo, podemos otorgar el alias `stats` a la librería `statistics`:"
   ]
  },
  {
   "cell_type": "code",
   "execution_count": null,
   "metadata": {
    "id": "PW5tlZTYIauH"
   },
   "outputs": [],
   "source": [
    "# Importamos la libreria y le otorgamos el alias\n",
    "import statistics as stats # Lease \"importar statistics como stats\"\n",
    "\n",
    "# Usamos las funciones del mismo modo pero empleando el alias\n",
    "data2 = [0.75, -1.75, 10.25, 0.02, -0.5, 0.25, 13.5]\n",
    "\n",
    "media_data2 = stats.mean(data2)\n",
    "variancia_data2 = stats.variance(data2)\n",
    "desv_data2 = stats.stdev(data2)\n",
    "\n",
    "print('La media es {}\\nla variacia es {}\\nla desviacion estandar es {}'.format(media_data2, variancia_data2, desv_data2))"
   ]
  },
  {
   "cell_type": "markdown",
   "metadata": {
    "id": "cw3rIoYFKk7I"
   },
   "source": [
    "Y por otro lado, también es posible importar funciones específicas de una librería dada (cuando se usa solo import + nombre de la librería, se están importando todas las funciones de dicha librería) usando el comando `from`:"
   ]
  },
  {
   "cell_type": "code",
   "execution_count": null,
   "metadata": {
    "id": "yeyAHq4BJ2-1"
   },
   "outputs": [],
   "source": [
    "# Importar una funcion específica de una librería\n",
    "from datetime import date # Lease \"de la libreria datetime importar date\"\n",
    "\n",
    "# Pedimos la fecha de hoy\n",
    "fecha_hoy = date.today()\n",
    "\n",
    "# Imprimimos el resultado\n",
    "print('La fecha de hoy es {}'.format(fecha_hoy))\n",
    "\n",
    "# Definimos una fecha de nacimiento\n",
    "nacimiento = date(1970, 12, 22)\n",
    "\n",
    "# Calculamos la diferencia entre la fecha de hoy y la de nacimiento\n",
    "edad = fecha_hoy-nacimiento\n",
    "\n",
    "# Mostramos la cantidad de dias desde el nacimiento\n",
    "print('Los dias desde el nacimiento son {}'.format(edad.days))"
   ]
  },
  {
   "cell_type": "markdown",
   "metadata": {
    "id": "8EW3LZ60UX5t"
   },
   "source": [
    "A fin de conocer las funciones incluidas en una librería dada y cómo se utilizan cada una, es necesario recurrir a su documentación específica, que siempre puede conseguirse en internet. La documentación para la librería estándar de Python se encuentra disponible en el siguiente [link](https://docs.python.org/3/library/)"
   ]
  },
  {
   "cell_type": "markdown",
   "metadata": {
    "id": "3ir-vQWeVLDM"
   },
   "source": [
    "# Librería NumPy\n",
    "NumPy es la principal librería para cálculo científico existente en Python. Esta ofrece la capacidad de crear arreglos multidimensionales con alto redimiento, así como las herramientas para poder trabajar con ellos de manera eficiente. En esta sección veremos una serie importante de ejemplos y usos de la librería, pues gran cantidad de otras librerías y algoritmos desarrollados en Python se valen de las funcionalidades de NumPy o bien la usan como base en lo que a manipulación de escalares, vectores y matrices se refiere.\n",
    "\n",
    "Por convención, la manera de importar y darle *alias* a NumPy es:\n"
   ]
  },
  {
   "cell_type": "code",
   "execution_count": null,
   "metadata": {
    "id": "Ygjjr8JZK_hF"
   },
   "outputs": [],
   "source": [
    "# Importar NumPy\n",
    "\n",
    "import numpy as np"
   ]
  },
  {
   "cell_type": "markdown",
   "metadata": {
    "id": "tvKds5Qg2E3p"
   },
   "source": [
    "En general, NumPy permite definir y trabajar con arreglos de 1D, 2D y 3D, usando la función `array()`, como veremos a continuación:"
   ]
  },
  {
   "cell_type": "code",
   "execution_count": null,
   "metadata": {
    "id": "YRNgnOqo1FMg"
   },
   "outputs": [],
   "source": [
    "# Definicion de un arreglo unidimensional con NumPy\n",
    "\n",
    "a = np.array([1, 2, 3, 4, 5])\n",
    "\n",
    "print('Esto es un arreglo 1D de NumPy: ')\n",
    "print(a)"
   ]
  },
  {
   "cell_type": "markdown",
   "metadata": {
    "id": "mEp4YAt67fMF"
   },
   "source": [
    "Como vemos, dentro de la función `array()` se colocan los elementos del arreglo tal y como se trataran de una lista. Y del mismo modo que con las listas, a los elementos del arreglo se le puede acceder usando sus índices:"
   ]
  },
  {
   "cell_type": "code",
   "execution_count": null,
   "metadata": {
    "id": "HsKFDOE-7Re5"
   },
   "outputs": [],
   "source": [
    "# Acceso a los elementos de un arreglo\n",
    "\n",
    "print(a[1])\n",
    "print(a[4])"
   ]
  },
  {
   "cell_type": "markdown",
   "metadata": {
    "id": "0cESvEce8K1b"
   },
   "source": [
    "Y también es posible iterar a lo largo de los elementos del arreglo, o bien usando índices:"
   ]
  },
  {
   "cell_type": "code",
   "execution_count": null,
   "metadata": {
    "id": "5u8vp6pl7w2I"
   },
   "outputs": [],
   "source": [
    "# Iterando un arreglo de NumPy\n",
    "\n",
    "print('Iterando por Elementos: ')\n",
    "for elems in a:\n",
    "  print(elems)\n",
    "\n",
    "print('Iterando por indices: ')\n",
    "for i in range(len(a)):\n",
    "  print(a[i])"
   ]
  },
  {
   "cell_type": "markdown",
   "metadata": {
    "id": "JxC5aADM8vWc"
   },
   "source": [
    "Para definir un arreglo bidimensional, se hace lo siguiente:"
   ]
  },
  {
   "cell_type": "code",
   "execution_count": null,
   "metadata": {
    "id": "K7If7JEb76q4"
   },
   "outputs": [],
   "source": [
    "# Definicion de un arreglo bidimensional con NumPy\n",
    "\n",
    "b = np.array([[2, 4, 6], [1, 3, 5]]) # Note el uso de los corchetes\n",
    "\n",
    "print('Esto es un arreglo 2D de NumPy: ')\n",
    "print(b)"
   ]
  },
  {
   "cell_type": "markdown",
   "metadata": {
    "id": "ISj5pEUj9Z-K"
   },
   "source": [
    "De nuevo, se define el arreglo como si se tratase de una lista de listas, en donde cada lista interna se trata de una fila. Así, se pueden acceder a los elementos del arreglo usando índices como siempre:"
   ]
  },
  {
   "cell_type": "code",
   "execution_count": null,
   "metadata": {
    "id": "su1ZkDwt9Hod"
   },
   "outputs": [],
   "source": [
    "# Para acceder a los elementos a partir de sus indices\n",
    "\n",
    "print('Elemento en primera fila, segunda columna: ')\n",
    "print(b[0][1])\n",
    "\n",
    "print('Elemento en segunda fila, tercera columna: ')\n",
    "print(b[1][2])"
   ]
  },
  {
   "cell_type": "markdown",
   "metadata": {
    "id": "nHEsybmx931J"
   },
   "source": [
    "Recuerde que en Python los índices comienzan en cero, y que el orden en el que se representan los datos en los corchetes es filas-columnas.\n",
    "\n",
    "Para iterar arreglos de dos o más dimensiones, es recomendable hacerlo a partir de sus índices. Sin embargo, es necesario primero conocer las dimensiones del arreglo a fin de saber por cuántas filas y columnas realizar las iteraciones. Para eso, se usa la función `shape`:"
   ]
  },
  {
   "cell_type": "code",
   "execution_count": null,
   "metadata": {
    "id": "9uv-fYBA90zx"
   },
   "outputs": [],
   "source": [
    "# Para conocer las dimensiones (forma) del arreglo\n",
    "\n",
    "print('Las dimensiones del arreglo son: ')\n",
    "print(b.shape)\n",
    "\n",
    "filas = b.shape[0]\n",
    "columnas = b.shape[1]\n",
    "\n",
    "print('El arreglo tiene {} filas y {} columnas'.format(filas, columnas))\n",
    "\n",
    "print('Podemos iterar a lo largo de filas y columnas:')\n",
    "for f in range(filas):\n",
    "  for c in range(columnas):\n",
    "    print(b[f][c])"
   ]
  },
  {
   "cell_type": "markdown",
   "metadata": {
    "id": "iomAHuxo_qKY"
   },
   "source": [
    "Nótese que la iteración primero recorre las filas y luego las columnas, es decir, para la primera fila, se imprimen en pantalla todas sus columnas (2, 4, 6), y luego para la segunda fila, se imprimen todas sus columnas (1, 3, 5).\n",
    "\n",
    "Para conocer el número de elementos presentes en el arreglo:"
   ]
  },
  {
   "cell_type": "code",
   "execution_count": null,
   "metadata": {
    "id": "t1CQossh-IoP"
   },
   "outputs": [],
   "source": [
    "# Numero de elementos en el arreglo\n",
    "\n",
    "num_elems = b.size\n",
    "print('El arreglo tiene {} elementos'.format(num_elems))"
   ]
  },
  {
   "cell_type": "markdown",
   "metadata": {
    "id": "HTIPUJlsANsM"
   },
   "source": [
    "Y para conocer el tipo de dato almacenado en el arreglo:"
   ]
  },
  {
   "cell_type": "code",
   "execution_count": null,
   "metadata": {
    "id": "t50EFHdBAJ0B"
   },
   "outputs": [],
   "source": [
    "# Tipo de dato en arreglo\n",
    "print(b.dtype)"
   ]
  },
  {
   "cell_type": "markdown",
   "metadata": {
    "id": "Olhv-0pUAads"
   },
   "source": [
    "Los tipos de datos básicos para los arreglos son `int64`, `float32`, `bool` y `string_`.\n",
    "\n",
    "En el caso anterior, al crearse al arreglo este tomó para sus tipo `int64`, pero es posible definir el tipo de dato al momento de crear el arreglo:"
   ]
  },
  {
   "cell_type": "code",
   "execution_count": null,
   "metadata": {
    "id": "jRiSouwbATn_"
   },
   "outputs": [],
   "source": [
    "# Arreglo 2D con datos tipo float\n",
    "\n",
    "c = np.array([[0.3, 3.4, 1.1], [-1.5, 0.54, 5.4]], dtype=np.float32)\n",
    "\n",
    "print('Este arreglo es de tipo float: ')\n",
    "print(c)\n",
    "print(c.dtype)"
   ]
  },
  {
   "cell_type": "markdown",
   "metadata": {
    "id": "EctokeCdBXdi"
   },
   "source": [
    "El caso de un arreglo de 3 dimensiones puede entenderse como una matriz con \"profundidad\":"
   ]
  },
  {
   "cell_type": "code",
   "execution_count": null,
   "metadata": {
    "id": "QPz2BbGzBEym"
   },
   "outputs": [],
   "source": [
    "# Arreglo de 3 D\n",
    "\n",
    "d = np.array([[[0, 1], [2, 3]], [[10, 11], [12, 13]]])\n",
    "\n",
    "print('Esto es un arreglo 3D en NumPy: ')\n",
    "print(d)\n",
    "\n",
    "print('Las dimensiones del arreglo son: ')\n",
    "print(d.shape)\n",
    "\n",
    "profundidad = d.shape[0]\n",
    "filas = d.shape[1]\n",
    "columnas = d.shape[2]\n",
    "\n",
    "print('El arreglo tiene {} filas, {} columnas y {} de profundidad'.format(filas, columnas, profundidad))"
   ]
  },
  {
   "cell_type": "markdown",
   "metadata": {
    "id": "Ozvw2QLbEdi9"
   },
   "source": [
    "Nótese que, en el caso de tres dimensiones, el primer índice hace referencia a la profundidad, y los dos siguientes a las filas y columnas. De este modo, ¿cómo puede iterarse a lo largo del arreglo tridimensional? Veamos:"
   ]
  },
  {
   "cell_type": "code",
   "execution_count": null,
   "metadata": {
    "id": "AVanSzHIB4Ox"
   },
   "outputs": [],
   "source": [
    "# Iterar en un arreglo tridimensional\n",
    "\n",
    "for p in range(profundidad):\n",
    "  for f in range(filas):\n",
    "    for c in range(columnas):\n",
    "      print(d[p][f][c])"
   ]
  },
  {
   "cell_type": "markdown",
   "metadata": {
    "id": "SjKZQifpE-Kk"
   },
   "source": [
    "¿Puede interpretar el resultado obtenido? ¿Es correcto según la lógica de ordenación de profundidad, filas y columnas?\n",
    "\n",
    "Con NumPy, también es posible definir con facilidad arreglos predefinidos que suelen ser de uso frecuente, por ejemplo:"
   ]
  },
  {
   "cell_type": "code",
   "execution_count": null,
   "metadata": {
    "id": "Fx5F53RyMNw1"
   },
   "outputs": [],
   "source": [
    "# Creacion de un arreglo lleno de ceros\n",
    "\n",
    "ceros = np.zeros([3, 3]) # [3, 3] se refiere a 3 filas y 3 columnas\n",
    "print('Arreglo de Ceros: ')\n",
    "print(ceros)"
   ]
  },
  {
   "cell_type": "code",
   "execution_count": null,
   "metadata": {
    "id": "ICrysCfAMQTH"
   },
   "outputs": [],
   "source": [
    "# Creacion de un arreglo lleno de unos\n",
    "\n",
    "unos = np.ones([5, 4]) # [5, 4] se refiere a 5 filas y 4 columnas\n",
    "print('Arreglo de Unos: ')\n",
    "print(unos)"
   ]
  },
  {
   "cell_type": "code",
   "execution_count": null,
   "metadata": {
    "id": "TJPD9wd6MS8Q"
   },
   "outputs": [],
   "source": [
    "# Creacion de una matriz identidad\n",
    "\n",
    "identidad = np.eye(3) # 3 se refiere a 3 filas y 3 columnas\n",
    "print('Matriz Identidad: ')\n",
    "print(identidad)"
   ]
  },
  {
   "cell_type": "code",
   "execution_count": null,
   "metadata": {
    "id": "tJxJUE3LMVtn"
   },
   "outputs": [],
   "source": [
    "# Creacion de una matriz con valores al azar entre 0 y 1 con distribucion uniforme\n",
    "\n",
    "azar = np.random.random([3, 2])\n",
    "print('Matriz al Azar: ')\n",
    "print(azar)"
   ]
  },
  {
   "cell_type": "code",
   "execution_count": null,
   "metadata": {
    "id": "IU3xotQtMX6W"
   },
   "outputs": [],
   "source": [
    "# Creacion de un vector con valores igualmente espaciados\n",
    "\n",
    "espaciado = np.arange(10, 55, 5) # Se refiere a que el vector va desde 10, hasta 55, de 5 en 5\n",
    "print('Vector espaciado: ')\n",
    "print(espaciado)"
   ]
  },
  {
   "cell_type": "code",
   "execution_count": null,
   "metadata": {
    "id": "XvoO7_hdMZ8L"
   },
   "outputs": [],
   "source": [
    "# Creacion de un vector con valores igualmente espaciados, pero entre una cantidad de muestras\n",
    "\n",
    "espaciado_muestras = np.linspace(0, 3, 7) # Se refiere a que el vector va desde 0 hasta 3, dividido entre 7 muestras\n",
    "print('Vector espaciado entre muestras: ')\n",
    "print(espaciado_muestras)"
   ]
  },
  {
   "cell_type": "markdown",
   "metadata": {
    "id": "9J6lArXZJSyS"
   },
   "source": [
    "A su vez, es posible realizar cortes o seleccionar subconjuntos de los arreglos de una manera similar a la aprendida con las listas:"
   ]
  },
  {
   "cell_type": "code",
   "execution_count": null,
   "metadata": {
    "id": "8MnUzUqDFgEX"
   },
   "outputs": [],
   "source": [
    "# Seleccion de cortes o subcojuntos en arreglos\n",
    "\n",
    "matriz = np.array([[14.6, 8.1, -2.5],\n",
    "                   [0.8, 3.2, 1.1],\n",
    "                   [-3.0, 2.4, 6.5]])\n",
    "\n",
    "print('La matriz es: ')\n",
    "print(matriz)\n",
    "\n",
    "# Seleccionamos un subconjunto de la matriz\n",
    "subconjunto1 = matriz[1:, 0:2] # De la fila 1 hasta la ultima, y de la columnas 0 a las 1 (0:2 = 0, 1)\n",
    "\n",
    "print('El subconjunto 1 es: ')\n",
    "print(subconjunto1)\n",
    "\n",
    "# Seleccionamos otro subconjunto\n",
    "subconjunto2 = matriz[:, 1] # Todas las filas de la columna 1\n",
    "\n",
    "print('El subconjunto 2 es: ')\n",
    "print(subconjunto2)"
   ]
  },
  {
   "cell_type": "markdown",
   "metadata": {
    "id": "FlqCwPbQXsj7"
   },
   "source": [
    "Por supuesto, al tratarse los arreglos de vectores y matrices, es posible realizar operaciones aritméticas con ellos. Veamos lo siguiente:"
   ]
  },
  {
   "cell_type": "code",
   "execution_count": null,
   "metadata": {
    "id": "ZACKh2SMYBIC"
   },
   "outputs": [],
   "source": [
    "# Suma y Resta de vectores y matrices\n",
    "\n",
    "vector1 = np.array([9, 8, 7, 6])\n",
    "vector2 = np.array([3, 5, 8, 9])\n",
    "\n",
    "# Suma de vectores con el operador +\n",
    "print('Suma de vectores usando +: ')\n",
    "print(vector1+vector2)\n",
    "\n",
    "# Suma de vectores usando la funcion add()\n",
    "print('Suma de vectores usando np.add(): ')\n",
    "print(np.add(vector1, vector2))\n",
    "\n",
    "# Resta con de vectores con el operador -\n",
    "print('Resta de vectores usando -: ')\n",
    "print(vector1-vector2)\n",
    "\n",
    "# Resta de vectores usando la funcion subtract()\n",
    "print('Resta de vectores usando np.subtract(): ')\n",
    "print(np.subtract(vector1, vector2))"
   ]
  },
  {
   "cell_type": "markdown",
   "metadata": {
    "id": "8ypR8f8SxAfH"
   },
   "source": [
    "Es importante resaltar que tanto para este tipo de operaciones, como para las operaciones de división y multiplicación que veremos a continuación, los vectores (y matrices) deben tener las mismas dimensiones. Como se ve, las operaciones se realizan elemento a elemento entre los objetos:"
   ]
  },
  {
   "cell_type": "code",
   "execution_count": null,
   "metadata": {
    "id": "As37YOz5YURV"
   },
   "outputs": [],
   "source": [
    "# Division y multiplicacion de vectores\n",
    "\n",
    "# Division de vectores con el operador /\n",
    "print('Division de vectores usando /: ')\n",
    "print(vector1/vector2)\n",
    "\n",
    "# Division de vectores usando la funcion divide()\n",
    "print('Division de vectores usando np.divide(): ')\n",
    "print(np.divide(vector1, vector2))\n",
    "\n",
    "# Multiplicacion de vectores con el operador *\n",
    "print('Multiplicacion de vectores usando *: ')\n",
    "print(vector1*vector2)\n",
    "\n",
    "# Multiplicacion de vectores usando la funcion multiply()\n",
    "print('Division de vectores usando np.multiply(): ')\n",
    "print(np.divide(vector1, vector2))"
   ]
  },
  {
   "cell_type": "markdown",
   "metadata": {
    "id": "HdLSQjXfyJ1S"
   },
   "source": [
    "En el caso de las matrices, se pueden emplear, del mismo modo, tanto los operadores como las funciones de NumPy específicas:"
   ]
  },
  {
   "cell_type": "code",
   "execution_count": null,
   "metadata": {
    "id": "e42hyh-1xJS_"
   },
   "outputs": [],
   "source": [
    "# Operaciones aritméticas con matrices\n",
    "\n",
    "A = np.array([[3, 8, -2],\n",
    "              [8, 2, 1],\n",
    "              [5, 6, 10]])\n",
    "\n",
    "B = np.array([[1, 6, 3],\n",
    "              [5, 4, -1],\n",
    "              [3, 3, 2]])\n",
    "\n",
    "# Suma de matrices con +\n",
    "print('Suma de matrices con +: ')\n",
    "print(A+B)\n",
    "\n",
    "# Suma de matrices con add()\n",
    "print('Suma de matrices con np.add(): ')\n",
    "print(np.add(A, B))\n",
    "\n",
    "# Resta de matrices con -\n",
    "print('Resta de matrices: ')\n",
    "print(A-B)\n",
    "\n",
    "# Resta de matrices con subtract\n",
    "print('Resta de matrices con np.subtract(): ')\n",
    "print(np.subtract(A, B))\n",
    "\n",
    "# Divisiones de matrices\n",
    "print('Division con /: ')\n",
    "print(A/B)\n",
    "\n",
    "# Operaciones combinadas\n",
    "print('Operaciones combinadas: ')\n",
    "print((B/A)-B*A)"
   ]
  },
  {
   "cell_type": "markdown",
   "metadata": {
    "id": "8_WXWpUL0FM_"
   },
   "source": [
    "Como se observa, todos estos casos son operaciones elemento a elemento. Si, en su lugar, necesitamos calcular el *producto interno* de las matrices o los vectores con las matrices, entonces se debe usar el operador `dot()`:"
   ]
  },
  {
   "cell_type": "code",
   "execution_count": null,
   "metadata": {
    "id": "uY5J3GZYzV_l"
   },
   "outputs": [],
   "source": [
    "# Producto interno de matrices del mismo tamaño\n",
    "\n",
    "# Existen dos maneras de calcular el producto interno entre A y B en Python\n",
    "\n",
    "# Manera 1\n",
    "print('Producto interno usando np.dot(): ')\n",
    "print(np.dot(A, B))\n",
    "\n",
    "# Manera 2\n",
    "print('Producto interno usando A.dot(B): ')\n",
    "print(A.dot(B))"
   ]
  },
  {
   "cell_type": "markdown",
   "metadata": {
    "id": "uxXjSIdV1I5-"
   },
   "source": [
    "Sin embargo, cuando se desea calcular el producto interno entre matrices de distintos tamaños, es importante verificar que se cumplen las condiciones de dimensionalidad entre ellas antes de realizar el cálculo. Es decir, si tenemos una matriz 2x3, esta solo puede ser multiplicada con producto interno con otra matriz que tenga un número de filas igual al número de columnas de la anterior, es decir 3 (por ejemplo, 2x3x3x4 = 2x4). Veamos:"
   ]
  },
  {
   "cell_type": "code",
   "execution_count": null,
   "metadata": {
    "id": "VkDGbwJH01Dp"
   },
   "outputs": [],
   "source": [
    "# Producto interno de matrices de distintos tamaños\n",
    "\n",
    "A = np.array([[1, 2], [3, 4], [5, 6]]) # Matriz 3x2\n",
    "print('Matriz A: ')\n",
    "print(A)\n",
    "\n",
    "B = np.array([[2], [4]]) # Matriz 2x1\n",
    "print('Matriz B: ')\n",
    "print(B)\n",
    "\n",
    "# El producto interno seria 3x2x2x1 = 3x1\n",
    "C = A.dot(B)\n",
    "print('Matriz C: ')\n",
    "print(C)"
   ]
  },
  {
   "cell_type": "markdown",
   "metadata": {
    "id": "ei-Do1IEVoEa"
   },
   "source": [
    "Veamos otro ejemplo:"
   ]
  },
  {
   "cell_type": "code",
   "execution_count": null,
   "metadata": {
    "id": "pOr3UpZsVqTE"
   },
   "outputs": [],
   "source": [
    "E = np.array([[1, 2, 3], [4, 5, 6], [7, 8, 9], [10, 11, 12]]) # Matriz 4x3\n",
    "print('Matriz E: ')\n",
    "print(E)\n",
    "\n",
    "F = np.array([[2, 7], [1, 2], [3, 6]]) # Matriz 3x2\n",
    "print('Matriz F: ')\n",
    "print(F)\n",
    "\n",
    "# El producto interno seria 4x3x3x2 = 4x2\n",
    "G = E.dot(F)\n",
    "print('Matriz G: ')\n",
    "print(G)"
   ]
  },
  {
   "cell_type": "markdown",
   "metadata": {
    "id": "eTF4SH_sWLFw"
   },
   "source": [
    "De modo que es posible obtener directamente resultados de producto interno entre matrices trabajando con cuidado sus dimensiones y el cómo se realiza la multiplicación.\n",
    "\n",
    "Otra de las funcionalidades disponibles en NumPy son las de *agregación*, esto es, la posibilidad de realizar operaciones comunes sobre los datos ofreciendo un resultado acumulado. Veamos algunos ejemplos:"
   ]
  },
  {
   "cell_type": "code",
   "execution_count": null,
   "metadata": {
    "id": "Nq1r7ffKWbXj"
   },
   "outputs": [],
   "source": [
    "# Definamos una matriz de 1 columna y 4 filas\n",
    "\n",
    "Mat = np.array([[3], [2], [6], [4]])\n",
    "\n",
    "print('Matriz Mat: ')\n",
    "print(Mat)\n",
    "\n",
    "# Podemos calcular la suma de los elementos de la columna\n",
    "suma = Mat.sum()\n",
    "print('La suma de las columnas da {}'.format(suma))\n",
    "\n",
    "# Podemos calcular el valor maximo y minimo de la columna\n",
    "max = Mat.max()\n",
    "min = Mat.min()\n",
    "print('El máximo es {} y el mínimo es {}'.format(max, min))\n",
    "\n",
    "# Podemos calcular el promedio y la desviacion estandar de la columna\n",
    "mean = Mat.mean()\n",
    "stdev = Mat.std()\n",
    "print('El promedio es {} y la desviación estándar es {}'.format(mean, stdev))"
   ]
  },
  {
   "cell_type": "markdown",
   "metadata": {
    "id": "j8AK34Meda1-"
   },
   "source": [
    "Ahora veamos lo que ocurre si aplicamos las mismas funciones a una matriz de varias filas y columnas:"
   ]
  },
  {
   "cell_type": "code",
   "execution_count": null,
   "metadata": {
    "id": "Xt0woJiPYAv0"
   },
   "outputs": [],
   "source": [
    "# Definamos una matriz de 4 filas y 3 columnas\n",
    "\n",
    "NuevaMat = np.array([[2, 3, 4], [6, 8, 9], [3, 2, 1], [5, 1, 5]])\n",
    "print('Matriz NuevaMat: ')\n",
    "print(NuevaMat)\n",
    "\n",
    "# Ahora calculemos la suma de los elementos\n",
    "sumacol = NuevaMat.sum(axis=0) # En este caso, axis=0 se refiere a que la suma la va a hacer a lo largo de las filas\n",
    "print('La suma de los elementos de las columnas es: ')\n",
    "print(sumacol)"
   ]
  },
  {
   "cell_type": "markdown",
   "metadata": {
    "id": "g1dMII1lKD_L"
   },
   "source": [
    "Realicemos ahora la misma operación, pero cambiando la indicación del índice:"
   ]
  },
  {
   "cell_type": "code",
   "execution_count": null,
   "metadata": {
    "id": "fpLMohIoM--P"
   },
   "outputs": [],
   "source": [
    "# Calculemos la suma de los elementos por filas\n",
    "\n",
    "sumafil = NuevaMat.sum(axis=1)\n",
    "print('La suma de los elementos de las filas es: ')\n",
    "print(sumafil)"
   ]
  },
  {
   "cell_type": "markdown",
   "metadata": {
    "id": "sKxtpYmzOKD0"
   },
   "source": [
    "Nótese que el resultado es un vector que contiene las sumas de los elementos de cada fila. En general, esto es aplicable a cualquiera de las funciones que vimos antes. Veamos:"
   ]
  },
  {
   "cell_type": "code",
   "execution_count": null,
   "metadata": {
    "id": "TtVM65jdOUD8"
   },
   "outputs": [],
   "source": [
    "# Obtengamos los maximos, minimos, promedios y desviaciones estandar de la matriz\n",
    "# tanto por filas como por columnas\n",
    "\n",
    "maxcol = NuevaMat.max(axis=0)\n",
    "print('Valores máximos por columnas: ')\n",
    "print(maxcol)\n",
    "\n",
    "mincol = NuevaMat.min(axis=0)\n",
    "print('Valores mínimos por columnas: ')\n",
    "print(mincol)\n",
    "\n",
    "meancol = NuevaMat.mean(axis=0)\n",
    "print('Valores promedio por columnas: ')\n",
    "print(meancol)\n",
    "\n",
    "stdcol = NuevaMat.std(axis=0)\n",
    "print('Desviación estándar por columnas: ')\n",
    "print(stdcol)\n",
    "\n",
    "maxfil = NuevaMat.max(axis=1)\n",
    "print('Valores máximos por filas: ')\n",
    "print(maxfil)\n",
    "\n",
    "minfil = NuevaMat.min(axis=1)\n",
    "print('Valores mínimos por filas: ')\n",
    "print(minfil)\n",
    "\n",
    "meanfil = NuevaMat.mean(axis=1)\n",
    "print('Valores promedio por filas: ')\n",
    "print(meanfil)\n",
    "\n",
    "stdfil = NuevaMat.std(axis=1)\n",
    "print('Desviación estándar por filas: ')\n",
    "print(stdfil)"
   ]
  },
  {
   "cell_type": "markdown",
   "metadata": {
    "id": "1xUTg7scPkfL"
   },
   "source": [
    "Adicionalmente, también podemos usar la función `sort()` de NumPy para ordenar los arreglos tanto a lo largo de sus filas como por sus columnas. Por ejemplo:"
   ]
  },
  {
   "cell_type": "code",
   "execution_count": null,
   "metadata": {
    "id": "8zUc3wLkPwRt"
   },
   "outputs": [],
   "source": [
    "# Matriz Original\n",
    "Mat = np.array([[2, 3, 4], [6, 8, 9], [3, 2, 1], [5, 1, 5]])\n",
    "print('Matriz Original: ')\n",
    "print(Mat)\n",
    "\n",
    "# Matriz Ordenada por filas (ordena en el sentido de las filas)\n",
    "print('Matriz Ordenada por Filas: ')\n",
    "Mat.sort(axis=0)\n",
    "print(Mat)\n",
    "\n",
    "# Matriz Ordenada por columnas (ordena en el sentido de las columnas)\n",
    "print('Matriz Ordenada por Columnas: ')\n",
    "Mat.sort(axis=1)\n",
    "print(Mat)"
   ]
  },
  {
   "cell_type": "markdown",
   "metadata": {
    "id": "ET5-VkpURlQe"
   },
   "source": [
    "Por último, veamos otras funciones adicionales de manipulación de arreglos que es posible hacer con NumPy:\n",
    "\n"
   ]
  },
  {
   "cell_type": "code",
   "execution_count": null,
   "metadata": {
    "id": "70rq78_kRsgG"
   },
   "outputs": [],
   "source": [
    "# Definimos el arreglo\n",
    "Arreglo1 = np.array([[0, 1, -3], [2, 3, 8], [-3, 2, -4], [5, 10, 12]])\n",
    "print('Arreglo1: ')\n",
    "print(Arreglo1)\n",
    "\n",
    "# Calculemos la traspuesta\n",
    "Arreglo1_Tras = Arreglo1.T\n",
    "print('La traspuesta es: ')\n",
    "print(Arreglo1_Tras)\n",
    "\n",
    "# Podemos modificar las dimensiones de un arreglo\n",
    "print('Modifiquemos el arreglo a 2 filas y 6 columnas: ')\n",
    "Arreglo2 = Arreglo1.reshape(2, 6)\n",
    "print(Arreglo2)\n",
    "\n",
    "# Podemos agregar elementos al arreglo\n",
    "Columna = np.array([[10], [12], [14], [16]])\n",
    "print('Matriz Columna: ')\n",
    "print(Columna)\n",
    "\n",
    "Arreglo3 = np.append(Arreglo1, Columna, axis=1) # axis=1 porque se va a incluir una columna\n",
    "print('El nuevo Arreglo es: ')\n",
    "print(Arreglo3)\n",
    "\n",
    "# Podemos eliminar elementos a un arreglo\n",
    "Arreglo4 = np.delete(Arreglo3, [1], axis=0) # axis=0 para eliminar fila\n",
    "print('Si eliminamos la segunda fila del arreglo anterior: ')\n",
    "print(Arreglo4)\n",
    "\n",
    "# Podemos combinar arreglos\n",
    "Arreglo5 = np.concatenate((Arreglo1_Tras, Arreglo4), axis=0)\n",
    "print('Vamos a concatenar la traspuesta de Arreglo1 con el arreglo anterior: ')\n",
    "print(Arreglo5)\n",
    "\n",
    "Arreglo6 = np.concatenate((Arreglo1, Arreglo3), axis=1)\n",
    "print('Concatenando Arreglo1 con Arreglo3: ')\n",
    "print(Arreglo6)\n",
    "\n",
    "# Podemos \"Aplanar\" un arreglo según sus filas o columnas\n",
    "AplanadoCol = Arreglo6.ravel(order='F') # order='F' es convencion de la funcion ravel para aplanar por columnas\n",
    "print('Aplanando por Columnas: ')\n",
    "print(AplanadoCol)\n",
    "\n",
    "AplanandoFil = Arreglo6.ravel(order='C') # order='C' es convencion de la funcion ravel para aplanar por filas\n",
    "print('Aplanando por Filas: ')\n",
    "print(AplanandoFil)"
   ]
  },
  {
   "cell_type": "markdown",
   "metadata": {
    "id": "UfBbM4ShWSJE"
   },
   "source": [
    "Un último detalle que es importante mencionar cuando se trabaja con arreglos en general: supongamos que estamos trabajando con una matriz dada y en algún momento queremos copiarla o duplicarla para \"almacenar\" la original y luego modificarla. Podríamos pensar entonces en hacer lo siguiente:"
   ]
  },
  {
   "cell_type": "code",
   "execution_count": null,
   "metadata": {
    "id": "ouk17IqLR6LO"
   },
   "outputs": [],
   "source": [
    "# Definimos la matriz original\n",
    "Original = np.array([[4,6], [8, 7]])\n",
    "print('Matriz Original: ')\n",
    "print(Original)\n",
    "\n",
    "# Creamos una matriz copia igual a la Original\n",
    "Copia = Original\n",
    "print('Matriz Copia: ')\n",
    "print(Copia)\n",
    "\n",
    "# Ahora, vamos a modificar un valor de la matriz original\n",
    "Original[1][1] = 27\n",
    "print('Matriz Modificada: ')\n",
    "print(Original)"
   ]
  },
  {
   "cell_type": "markdown",
   "metadata": {
    "id": "gTMjUfE5YEUn"
   },
   "source": [
    "Como podemos ver, en efecto la matriz original fue modificada, y podríamos llegar a pensar que la matriz copia no se modificó porque no cambiamos ningún valor de ella, pero al hacer `print` sobre la matriz copia, tenemos:"
   ]
  },
  {
   "cell_type": "code",
   "execution_count": null,
   "metadata": {
    "id": "t5HrWX5vWezW"
   },
   "outputs": [],
   "source": [
    "# Veamos ahora el contenido de la matriz Copia\n",
    "print('Matriz Copia: ')\n",
    "print(Copia)"
   ]
  },
  {
   "cell_type": "markdown",
   "metadata": {
    "id": "bqcTyDBxYhAu"
   },
   "source": [
    "Es decir, que al aplicar la instrucción `Copia = Original` no se está creando una nueva matriz, sino en realidad es una nueva variable que \"apunta a la misma dirección en memoria que la matriz original\". Esto significa que las variables asignadas de esta manera se modificarán si se modifica la original (por cierto, esto también aplica para listas).\n",
    "\n",
    "Para realizar una verdadera copia del arreglo, es necesario entonces usar la función `copy()` de la siguiente manera:"
   ]
  },
  {
   "cell_type": "code",
   "execution_count": null,
   "metadata": {
    "id": "9c3p8nPrYU3C"
   },
   "outputs": [],
   "source": [
    "# Definimos la matriz original\n",
    "Original = np.array([[4,6], [8, 7]])\n",
    "print('Matriz Original: ')\n",
    "print(Original)\n",
    "\n",
    "# Creamos una verdadera copia de la matriz Original\n",
    "VerdaderaCopia = Original.copy()\n",
    "print('Verdadera Copia: ')\n",
    "print(VerdaderaCopia)\n",
    "\n",
    "# Modificamos la matriz Original\n",
    "Original[1][1] = 27\n",
    "print('Original Modificada: ')\n",
    "print(Original)\n",
    "\n",
    "# Veamos ahora la Copia\n",
    "print('Verdadera Copia: ')\n",
    "print(VerdaderaCopia)"
   ]
  },
  {
   "cell_type": "markdown",
   "metadata": {
    "id": "FaB2qSAKZgvT"
   },
   "source": [
    "Es decir, ahora al modificar el arreglo original no se altera la copia pues se tratan de objetos totalmente distintos. Cuando se trabaja con arreglos es importante tener esto claro para evitar resultados inesperados producto de crear copias de los arreglos de la manera incorrecta."
   ]
  },
  {
   "cell_type": "markdown",
   "metadata": {
    "id": "SWCXDJytbHaH"
   },
   "source": [
    "# Librería Matplotlib\n",
    "\n",
    "Matplotlib es la librería fundamental de graficación en 2D para Python. Esta permite la generación de gráficas con \"calidad de publicación\" en una gran variedad de formatos de salida además de con ambientes interactivos en varias plataformas. Una de las ventajas de Matplotlib es su facilidad de uso y su carácter intuitivo, además de la versatilidad para modificar, ajustar y personalizar los elementos que componen las gráficas.\n",
    "\n",
    "En esta sección veremos una serie de ejemplos de uso de Matplotlib y se presentarán sus funcionalidades básicas. Por supuesto, no se abarcarán todas las funcionalidades de la librería, pero se cubrirá lo suficiente como para poder entender la filosofía de uso de Matplotlib y la utilidad de la misma.\n",
    "\n",
    "En primer lugar, el alias por convención que existe para llamar a la librería es el siguiente:"
   ]
  },
  {
   "cell_type": "code",
   "execution_count": null,
   "metadata": {
    "id": "pHXHjLkXcqPF"
   },
   "outputs": [],
   "source": [
    "# Importamos el modulo pyplot de la libreria Matplotlib como plt\n",
    "# Tambien importemos NumPy\n",
    "import matplotlib.pyplot as plt\n",
    "import numpy as np"
   ]
  },
  {
   "cell_type": "markdown",
   "metadata": {
    "id": "dfjaP6imQbcU"
   },
   "source": [
    "Ahora que ya hemos cargado la librería, vamos a comenzar a conocer las funcionalidades de Matplotlib a partir de una serie de ejemplos prácticos. En primer lugar, vamos a crear un vector de 100 elementos entre 0 y 2 igualmente espaciados:"
   ]
  },
  {
   "cell_type": "code",
   "execution_count": null,
   "metadata": {
    "id": "9_C2zsqcQL9y"
   },
   "outputs": [],
   "source": [
    "# Vector de 100 elementos entre 0 y 2\n",
    "\n",
    "x = np.linspace(0, 2, 100)"
   ]
  },
  {
   "cell_type": "markdown",
   "metadata": {
    "id": "oujLAIMas9nu"
   },
   "source": [
    "Este vector `x` los tomaremos como los términos independientes de una función matemática, por ejemplo $y=x^2$ o $y=x^3$. Ahora, creemos los términos dependientes `y` para estas ecuaciones:"
   ]
  },
  {
   "cell_type": "code",
   "execution_count": null,
   "metadata": {
    "id": "vUVUJMAes2SH"
   },
   "outputs": [],
   "source": [
    "# Cuadrados de x\n",
    "y1 = x**2\n",
    "\n",
    "# Cubos de x\n",
    "y2 = x**3"
   ]
  },
  {
   "cell_type": "markdown",
   "metadata": {
    "id": "FZjkAiW3tsaO"
   },
   "source": [
    "Ahora, tenemos un conjunto de datos que corresponden a puntos en el eje cartesiano $(x,y)$, de modo que podemos graficar a $y$ como una función de $x$. Para ello, hagamos uso de la función `plot()`:"
   ]
  },
  {
   "cell_type": "code",
   "execution_count": null,
   "metadata": {
    "id": "idw4vZ7Vs25H"
   },
   "outputs": [],
   "source": [
    "# Vamos a graficar cada funcion primero por separado\n",
    "# Grafico de y = x**2\n",
    "\n",
    "plt.plot(x, y1)\n",
    "plt.show()"
   ]
  },
  {
   "cell_type": "markdown",
   "metadata": {
    "id": "tInV5LBquFxi"
   },
   "source": [
    "Como se puede observar, para llamar a las funciones de Matplotlib hay que hacer uso del alias `plt` seguido de la función que se desea utilizar. En el caso de `plot()`, esta toma como argumentos mínimos el conjunto de valores x y el conjunto de valores y correspondiente. Luego, se debe escribir la función `.show()` para visualizar el gráfico creado. Vamos a graficar los valores al cubo:"
   ]
  },
  {
   "cell_type": "code",
   "execution_count": null,
   "metadata": {
    "id": "mXsrJ56ntnIG"
   },
   "outputs": [],
   "source": [
    "# Grafico de y = x**3\n",
    "\n",
    "plt.plot(x, y2)\n",
    "plt.show()"
   ]
  },
  {
   "cell_type": "markdown",
   "metadata": {
    "id": "03i814uLuu5S"
   },
   "source": [
    "Ahora bien, observe lo que ocurre en el siguiente código:"
   ]
  },
  {
   "cell_type": "code",
   "execution_count": null,
   "metadata": {
    "id": "X2teXQZOuimM"
   },
   "outputs": [],
   "source": [
    "# Gráfico de ambas funciones\n",
    "plt.plot(x, y1)\n",
    "plt.plot(x, y2)\n",
    "plt.show()"
   ]
  },
  {
   "cell_type": "markdown",
   "metadata": {
    "id": "AbV5ni2wu7Cp"
   },
   "source": [
    "Ya que se colocaron dos funciones `.plot()` en secuencia, el gráfico dibujará ambas en ella. Es decir, se graficará todo lo que se coloque antes de la función `.show()`.\n",
    "\n",
    "Sin embargo, a pesar de que de manera automática Matplotlib nos coloreó las curvas, no podemos indentificar en ellas cuál es la que corresponde al cuadrado y cuál es la que corresponde al cubo. Por lo tanto, debemos incluir etiquetas a los datos, y especificar que se visualice la leyenda:"
   ]
  },
  {
   "cell_type": "code",
   "execution_count": null,
   "metadata": {
    "id": "52Q7i_NOu4XM"
   },
   "outputs": [],
   "source": [
    "# Mejoremos el gráfico anterior\n",
    "\n",
    "plt.plot(x, y1, label='Cuadrado')\n",
    "plt.plot(x, y2, label='Cubo')\n",
    "plt.legend()\n",
    "plt.show()"
   ]
  },
  {
   "cell_type": "markdown",
   "metadata": {
    "id": "yj73qOe1vlq9"
   },
   "source": [
    "Excelente. Sin embargo, si no estamos conforme con los colores de las líneas y su estilo, podemos modificarlos también a partir de los argumentos de la función `.plot()`. Veamos:"
   ]
  },
  {
   "cell_type": "code",
   "execution_count": null,
   "metadata": {
    "id": "KpUppbk2vaqD"
   },
   "outputs": [],
   "source": [
    "# Nuevas mejoras al gráfico\n",
    "\n",
    "plt.plot(x, y1, 'b-', label='Cuadrado') # 'b-' significa azul (blue) con linea continua -\n",
    "plt.plot(x, y2, 'r--', label='Cubo') # 'r--' significa rojo (red) con linea discontinua --\n",
    "plt.legend()\n",
    "plt.show()"
   ]
  },
  {
   "cell_type": "markdown",
   "metadata": {
    "id": "tNDdBVMkwIOF"
   },
   "source": [
    "Todo gráfico debe llevar los nombres de los respectivos ejes, así que vamos a incorporarlos:"
   ]
  },
  {
   "cell_type": "code",
   "execution_count": null,
   "metadata": {
    "id": "UlAYMZNnv1Ga"
   },
   "outputs": [],
   "source": [
    "# Agreguemos nombres de los ejes\n",
    "\n",
    "plt.plot(x, y1, 'b-', label='Cuadrado') # 'b-' significa azul (blue) con linea continua -\n",
    "plt.plot(x, y2, 'r--', label='Cubo') # 'r--' significa rojo (red) con linea discontinua --\n",
    "plt.xlabel('$x$') # Se coloca entre $ para que lo muestre como ecuacion matematica\n",
    "plt.ylabel('$y=f(x)$')\n",
    "plt.legend()\n",
    "plt.show()"
   ]
  },
  {
   "cell_type": "markdown",
   "metadata": {
    "id": "rqMTmiG6wjdM"
   },
   "source": [
    "Si no se está satisfecho con la ubicación de la legenda, es posible moverla de posición en el gráfico. Vamos a colocarla mejor en la esquina inferior derecha:"
   ]
  },
  {
   "cell_type": "code",
   "execution_count": null,
   "metadata": {
    "id": "0XUlcBW1wV9Y"
   },
   "outputs": [],
   "source": [
    "# Movamos la leyenda de sitio\n",
    "\n",
    "plt.plot(x, y1, 'b-', label='Cuadrado') # 'b-' significa azul (blue) con linea continua -\n",
    "plt.plot(x, y2, 'r--', label='Cubo') # 'r--' significa rojo (red) con linea discontinua --\n",
    "plt.xlabel('$x$') # Se coloca entre $ para que lo muestre como ecuacion matematica\n",
    "plt.ylabel('$y=f(x)$')\n",
    "plt.legend(loc = 'lower right') # loc se refiere a location = ubicacion\n",
    "plt.show()"
   ]
  },
  {
   "cell_type": "markdown",
   "metadata": {
    "id": "jWly5Y55wzb4"
   },
   "source": [
    "Por último, vamos a agregarle el respectivo título al gráfico:"
   ]
  },
  {
   "cell_type": "code",
   "execution_count": null,
   "metadata": {
    "id": "ODNpuTRSwvBs"
   },
   "outputs": [],
   "source": [
    "# Agregamos el titulo\n",
    "\n",
    "plt.plot(x, y1, 'b-', label='Cuadrado') # 'b-' significa azul (blue) con linea continua -\n",
    "plt.plot(x, y2, 'r--', label='Cubo') # 'r--' significa rojo (red) con linea discontinua --\n",
    "plt.xlabel('$x$') # Se coloca entre $ para que lo muestre como ecuacion matematica\n",
    "plt.ylabel('$y=f(x)$')\n",
    "plt.legend(loc = 'lower right') # loc se refiere a location = ubicacion\n",
    "plt.title('Funciones $x^2$ y $x^3$')\n",
    "plt.show()"
   ]
  },
  {
   "cell_type": "markdown",
   "metadata": {
    "id": "A4oHYqiZxyBl"
   },
   "source": [
    "Como pudimos ver, de una manera incremental y sencilla fuimos capaces de producir un gráfico con excelente calidad. En términos generales, para producir cualquier otro tipo de gráfico con Matplotlib se puede seguir el mismo proceso de construcción de un gráfico, modificando a su vez los distintos parámetros de acorde a las necesidades de visualización que se tenga. Supongamos, por ejemplo, que necesitamos graficar la misma información anterior pero no como dos gráficos en uno, sino como dos gráficos separados. En ese caso, podemos recurrir a la función `subplot()`:"
   ]
  },
  {
   "cell_type": "code",
   "execution_count": null,
   "metadata": {
    "id": "I-891ZNmxAlv"
   },
   "outputs": [],
   "source": [
    "# Gráficos separados con subplot\n",
    "\n",
    "fig, axs = plt.subplots(2,1) # Los argumentos se refiere a que nuestro grafico tendra 2 filas y 1 columna\n",
    "axs[0].plot(x, y1, 'b-', label='Cuadrado')\n",
    "axs[0].legend(loc = 'lower right')\n",
    "axs[1].plot(x, y2, 'r--', label='Cubo')\n",
    "axs[1].legend(loc = 'lower right')\n",
    "plt.show()"
   ]
  },
  {
   "cell_type": "markdown",
   "metadata": {
    "id": "ff0GMQhd31TR"
   },
   "source": [
    "En este caso, sin embargo, deben definirse la variable que corresponde a la figura que se está creando `fig`, así como los \"ejes\" del gráfico `axs`. Estos ejes hacen referencia a cuál gráfico será colocado en cuál parte. En el caso anterior, se observa que en el `axs[0]` se colocó el gráfico de la función cuadrado, mientras que en el `axs[1]` el de la función cubo. Esto podría modificarse, así como si graficar en filas o columnas:"
   ]
  },
  {
   "cell_type": "code",
   "execution_count": null,
   "metadata": {
    "id": "nO_iJ7XjymCN"
   },
   "outputs": [],
   "source": [
    "# Graficos en columnas\n",
    "\n",
    "fig, axs = plt.subplots(1,2) # Los argumentos se refiere a que nuestro grafico tendra 1 fila y 2 columna2\n",
    "axs[1].plot(x, y1, 'b-', label='Cuadrado')\n",
    "axs[1].legend(loc = 'lower right')\n",
    "axs[0].plot(x, y2, 'r--', label='Cubo')\n",
    "axs[0].legend(loc = 'lower right')\n",
    "plt.show()"
   ]
  },
  {
   "cell_type": "markdown",
   "metadata": {
    "id": "FoGmeoLf5tNr"
   },
   "source": [
    "Del mismo modo que antes, podemos agregar los nombres de los ejes y el título a cada `axs[]` por separado:"
   ]
  },
  {
   "cell_type": "code",
   "execution_count": null,
   "metadata": {
    "id": "pbu3-tBt4k6y"
   },
   "outputs": [],
   "source": [
    "# Incorporando elementos por ejes\n",
    "\n",
    "fig, axs = plt.subplots(1,2) # Los argumentos se refiere a que nuestro grafico tendra 1 fila y 2 columna2\n",
    "axs[0].plot(x, y2, 'r--', label='Cubo')\n",
    "axs[0].legend(loc = 'lower right')\n",
    "axs[0].set_xlabel('$x$')\n",
    "axs[0].set_ylabel('$y=f(x)$')\n",
    "axs[0].set_title('Función Cubo')\n",
    "axs[1].plot(x, y1, 'b-', label='Cuadrado')\n",
    "axs[1].legend(loc = 'lower right')\n",
    "axs[1].set_xlabel('$x$')\n",
    "axs[1].set_title('Función Cuadrado')\n",
    "plt.show()"
   ]
  },
  {
   "cell_type": "markdown",
   "metadata": {
    "id": "sH3fZfVS9tn-"
   },
   "source": [
    "Sin embargo, tal vez no deseamos que tanto los ejes como el título tengan nombres repetidos, sino que aparezca como ejes únicos de ambas gráficas. Para ello, podemos incorporar entonces funciones y parámetros más avanzados:"
   ]
  },
  {
   "cell_type": "code",
   "execution_count": null,
   "metadata": {
    "id": "Bf0noltJ71zn"
   },
   "outputs": [],
   "source": [
    "# Mejoremos el último gráfico en columnas\n",
    "\n",
    "fig, axs = plt.subplots(1,2, sharey=True) #sharey = True significa que ambos graficos comparten la escala y\n",
    "axs[0].plot(x, y2, 'r--', label='Cubo')\n",
    "axs[0].legend(loc = 'lower right')\n",
    "axs[1].plot(x, y1, 'b-', label='Cuadrado')\n",
    "axs[1].legend(loc = 'lower right')\n",
    "fig.text(0.5, 0, 'Valores $x$', ha='center', va='center')\n",
    "fig.text(0.05, 0.5, 'Función $y=f(x)$', ha='center', va='center', rotation='vertical')\n",
    "fig.text(0.5, 0.95, 'Funciones Cubo y Cuadrado', ha='center', va='center', fontdict={'size': 12, 'weight': 'bold'})\n",
    "plt.show()"
   ]
  },
  {
   "cell_type": "markdown",
   "metadata": {
    "id": "8cGUH_xFAjs8"
   },
   "source": [
    "En este punto, haga el experimiento de variar los valores de los parámetros de las funciones `.text()` anterior y observe el efecto sobre el gráfico. ¿Puede comprender la función de cada parámetros y cómo se ubican y establecen en el gráfico?\n",
    "\n",
    "Si está satisfecho con el gráfico dibujado y desea guardarlo como un archivo de imagen, basta usar la función `savefig()`:"
   ]
  },
  {
   "cell_type": "code",
   "execution_count": null,
   "metadata": {
    "id": "4c228XzI98EQ"
   },
   "outputs": [],
   "source": [
    "# Guardemos la figura realizada al final\n",
    "\n",
    "fig, axs = plt.subplots(1,2, sharey=True) #sharey = True significa que ambos graficos comparten la escala y\n",
    "axs[0].plot(x, y2, 'r--', label='Cubo')\n",
    "axs[0].legend(loc = 'lower right')\n",
    "axs[1].plot(x, y1, 'b-', label='Cuadrado')\n",
    "axs[1].legend(loc = 'lower right')\n",
    "fig.text(0.5, 0, 'Valores $x$', ha='center', va='center')\n",
    "fig.text(0.05, 0.5, 'Función $y=f(x)$', ha='center', va='center', rotation='vertical')\n",
    "fig.text(0.5, 0.95, 'Funciones Cubo y Cuadrado', ha='center', va='center', fontdict={'size': 12, 'weight': 'bold'})\n",
    "plt.savefig('MiGrafico.jpg', dpi=300)\n",
    "plt.show()"
   ]
  },
  {
   "cell_type": "code",
   "execution_count": null,
   "metadata": {
    "id": "QIrOWpb9BvSO"
   },
   "outputs": [],
   "source": [
    "# Ahora vamos a descargar la figura de Google Colab\n",
    "from google.colab import files\n",
    "files.download('MiGrafico.jpg')"
   ]
  },
  {
   "cell_type": "markdown",
   "metadata": {
    "id": "HDfYliAZDnFF"
   },
   "source": [
    "A modo de ejercicio, veamos un segundo ejemplo de graficación con Matplotlib:"
   ]
  },
  {
   "cell_type": "code",
   "execution_count": null,
   "metadata": {
    "id": "ZoeSLw2RCOQn"
   },
   "outputs": [],
   "source": [
    "import math\n",
    "\n",
    "# Definamos el conjunto de x entre -5Pi y 5Pi\n",
    "x = np.linspace(-5*math.pi, 5*math.pi, 100)\n",
    "\n",
    "# Definamos el conjunto y1 como la funcion sin(x)/x\n",
    "y1 = np.sin(x)/x\n",
    "\n",
    "# Creemos un vector y2 de la misma dimension de y1 y que tiene valores generados\n",
    "# al azar entre -0.1 y 0.1\n",
    "y2 = [np.random.uniform(-0.1, 0.1) for x in range(len(y1))]\n",
    "\n",
    "# Creemos un vector y3 que es igual a la suma de y1+y2, es decir, es tomar\n",
    "# el resultado de y1 y agregarle ruido al azar entre -0.1 y 0.1\n",
    "y3 = y1+y2\n",
    "\n",
    "# Ahora, grafiquemos en una misma grafica ambas curvas con colores y marcadores\n",
    "# diferentes\n",
    "\n",
    "plt.plot(x, y1, 'k-', label='Función Sinc', linewidth=1.5)\n",
    "plt.scatter(x, y3, marker='x', color='red', s=12, label='Sinc con Ruido') # Se usa la funcion\n",
    "# scatter en vez de plot porque se desean graficar son los puntos y no las lineas\n",
    "plt.legend()\n",
    "plt.xlabel('Valores $x$')\n",
    "plt.ylabel(r'$\\frac{sin(x)}{x}$', fontsize=16)\n",
    "plt.title('Función Sinc con y sin ruido aleatorio', fontdict={'size': 14, 'weight':'bold'})\n",
    "plt.show()"
   ]
  },
  {
   "cell_type": "markdown",
   "metadata": {
    "id": "Fg8TewA6IWHy"
   },
   "source": [
    "Como podemos ver, el resultado obtenido es de gran calidad visual y altamente personalizable.\n",
    "\n",
    "Como ejercicio final de esta parte, repita el gráfico anterior pero colocando cada curva en dos gráficos separados en filas (1 columna y 2 filas, uno encima del otro) y modifique los parámetros de tal manera que compartan el eje x, y tengan una sola etiqueta en común para cada eje y un solo título."
   ]
  },
  {
   "cell_type": "markdown",
   "metadata": {
    "id": "7DB27GpOyssj"
   },
   "source": [
    "# Ejercicio práctico #2\n",
    "\n",
    "En primer lugar, importe la librería NumPy y luego defina un vector `x` que vaya desde -3 a 3 y que tenga 100 componentes en total."
   ]
  },
  {
   "cell_type": "code",
   "execution_count": null,
   "metadata": {
    "id": "u64wW25Cz0No"
   },
   "outputs": [],
   "source": [
    "# Importe libreria numpy como np\n",
    "\n",
    "# Defina vector x\n"
   ]
  },
  {
   "cell_type": "markdown",
   "metadata": {
    "id": "2QO9ivC30H9k"
   },
   "source": [
    "Ahora defina un vector `y` que vaya desde -4 a 4 y tenga 100 componentes en total."
   ]
  },
  {
   "cell_type": "code",
   "execution_count": null,
   "metadata": {
    "id": "3rW9MNOr0Q_8"
   },
   "outputs": [],
   "source": [
    "# Defina vector y\n"
   ]
  },
  {
   "cell_type": "markdown",
   "metadata": {
    "id": "bPhfucIM0a7t"
   },
   "source": [
    "Ahora, defina una matriz `M` de ceros cuyas dimensiones sean 100 filas y 100 columnas."
   ]
  },
  {
   "cell_type": "code",
   "execution_count": null,
   "metadata": {
    "id": "_7f-nvEM0hlT"
   },
   "outputs": [],
   "source": [
    "# Defina matriz M de ceros 100x100\n"
   ]
  },
  {
   "cell_type": "markdown",
   "metadata": {
    "id": "i7xMzAH81X_E"
   },
   "source": [
    "Ahora, cada posicion $(i,j)$ de esa matriz, donde las $i$ son las filas y las $j$ son las columnas, le va a asignar el valor de la componente respectiva de los vectores `x` y `y` de tal manera que $M_{i,j}=x_j \\exp({-x_{j}^2-y_{i}^2})$ (recuerde que la matriz `M` tiene 100 filas y 100 columnas)."
   ]
  },
  {
   "cell_type": "code",
   "execution_count": null,
   "metadata": {
    "id": "BXFLnxdA2M7y"
   },
   "outputs": [],
   "source": [
    "# Importamos math para usar la funcion exp()\n",
    "import math\n",
    "\n",
    "# Complete la matriz M como se describe en la ecuacion\n"
   ]
  },
  {
   "cell_type": "markdown",
   "metadata": {
    "id": "xwE2CCiC_ZO9"
   },
   "source": [
    "Ahora, vamos a observar la forma que tienen los elementos de dicha matriz. Para ello, usando las funciones de Matplotlib, haga una gráfica que contenga:\n",
    "- Todas las columnas de la fila 30 de la matriz M.\n",
    "- Todas las columnas de la fila 40 de la matriz M.\n",
    "- Todas las columnas de la fila 50 de la matriz M.\n",
    "\n",
    "Ayuda: recuerde que puede seleccionar *subsets* de matrices a partir de sus índices, por ejemplo, `S[10][:]`."
   ]
  },
  {
   "cell_type": "code",
   "execution_count": null,
   "metadata": {
    "id": "yZG6qtvdA3Lj"
   },
   "outputs": [],
   "source": [
    "# Importe la libreria matplotlib.pyplot como plt\n",
    "\n",
    "# Haga la grafica correspondiente y agregue titulo, leyenda y etiquetas a los ejes\n"
   ]
  },
  {
   "cell_type": "markdown",
   "metadata": {
    "id": "aJ7uD7D8A-x7"
   },
   "source": [
    "Observe la gráfica que se obtiene si ejecuta el siguiente código:"
   ]
  },
  {
   "cell_type": "code",
   "execution_count": null,
   "metadata": {
    "id": "i-JiXth5BwQF"
   },
   "outputs": [],
   "source": [
    "# Grafica de contorno de la matriz M\n",
    "plt.contour(M, 10)\n",
    "plt.xlim([20, 80])\n",
    "plt.ylim([20, 80])\n",
    "plt.show()"
   ]
  },
  {
   "cell_type": "markdown",
   "metadata": {
    "id": "uC71xJQCB52h"
   },
   "source": [
    "Y cuando se ejecuta lo siguiente:"
   ]
  },
  {
   "cell_type": "code",
   "execution_count": null,
   "metadata": {
    "id": "vOQpCQqkB8R9"
   },
   "outputs": [],
   "source": [
    "# Grafica de superficie de la matriz M\n",
    "plt.imshow(M, cmap='viridis')\n",
    "plt.xlim([20, 80])\n",
    "plt.ylim([20, 80])\n",
    "plt.show()"
   ]
  },
  {
   "cell_type": "markdown",
   "metadata": {
    "id": "ciHy_nnJCK_3"
   },
   "source": [
    "Realice una nueva gráfica que incorpore los tres tipos en forma de filas o columnas y ajuste los parámetros de los ejes (nombre de ejes, título, legendas, tamaño e letra, etc) de manera de generar el mejor resultado posible según su preferencia. "
   ]
  },
  {
   "cell_type": "markdown",
   "metadata": {
    "id": "MVJvRnGOB9MM"
   },
   "source": [
    "# Librería Pandas\n",
    "\n",
    "La librería *Pandas*, que proviene del término *panel-data*, es una de las librerías de Python más utilizadas para el análisis, limpieza, manipulación, graficación y modelado de datos. Como funcionalidad principal de la librería está la de poder construir con ella un tipo de dato conocido como *Dataframe*, el cual no es más que un tipo de dato similar a una matriz pero que puede contener en cada una de sus columnas variables con un tipo de dato distinto (es decir, combinar enteros con decimales, fechas, datos categóricos, booleanos, entre otros), cosa que no es posible con las matrices.\n",
    "Una de las ventajas de pandas, como veremos más adelante, es que permite leer un archivo, por ejemplo, en formato .csv (comma separated values, o archivos separados por coma) y almacenarlo directamente con la estructura del dataframe listo para usarse en un análisis de datos.\n",
    "\n",
    "A fin de entender mejor el concepto de dataframe, vamos a estudiar primero cómo se pueden crear dataframes desde cero, y luego cómo pueden cargarse archivos .csv para luego trabajar con ellos.\n"
   ]
  },
  {
   "cell_type": "markdown",
   "metadata": {
    "id": "zlttNqzEFdDy"
   },
   "source": [
    "En primer lugar, vamos a importar la librería pandas y asignarle el alias por convención 'pd':"
   ]
  },
  {
   "cell_type": "code",
   "execution_count": null,
   "metadata": {
    "id": "HI00hQYVFjxi"
   },
   "outputs": [],
   "source": [
    "# Importamos pandas\n",
    "import pandas as pd"
   ]
  },
  {
   "cell_type": "markdown",
   "metadata": {
    "id": "fzh6dcFMFnIk"
   },
   "source": [
    "Ahora, para crear un dataframe podemos, por ejemplo, partir de un diccionario que contenga definidos una serie de datos:"
   ]
  },
  {
   "cell_type": "code",
   "execution_count": null,
   "metadata": {
    "id": "h7RqNDp_B-sp"
   },
   "outputs": [],
   "source": [
    "# Diccionario con informacion de cantidad de frutas\n",
    "\n",
    "frutas = {'Naranjas':[2, 5, 4, 1],\n",
    "          'Limones':[3, 0, 2, 1],\n",
    "          'Peras':[0, 0, 5, 6],\n",
    "          'Manzanas':[1, 1, 0, 5]}\n",
    "\n",
    "print(frutas)"
   ]
  },
  {
   "cell_type": "markdown",
   "metadata": {
    "id": "K0rxEfXsFvEY"
   },
   "source": [
    "Una vez que se cuenta con el diccionario, podemos pasarlo como argumento a la función que crea el dataframe dentro de pandas:"
   ]
  },
  {
   "cell_type": "code",
   "execution_count": null,
   "metadata": {
    "id": "v6Jz_QvXFWJ0"
   },
   "outputs": [],
   "source": [
    "# Creamos el dataframe a partir del diccionario\n",
    "\n",
    "compras = pd.DataFrame(frutas)\n",
    "print(compras)"
   ]
  },
  {
   "cell_type": "markdown",
   "metadata": {
    "id": "C89sMMkOGAQj"
   },
   "source": [
    "Nótese que al imprimir el dataframe, obtenemos cada uno de los datos escritos en forma de columnas, y automáticamente pandas asocia una columna de 'índices' a cada fila, que si bien no forman parte del conjunto de datos original, sirve como una referencia para las filas que se trabajan.\n",
    "\n",
    "Por ejemplo, al momento de construir el dataframe podríamos asociar nombres a dichas filas, de la siguiente manera:"
   ]
  },
  {
   "cell_type": "code",
   "execution_count": null,
   "metadata": {
    "id": "KWSjURCsF7gZ"
   },
   "outputs": [],
   "source": [
    "# Dataframe con nombres en las filas\n",
    "\n",
    "compras = pd.DataFrame(frutas, index=['Jose', 'Patricia', 'Maria', 'Victor'])\n",
    "print(compras)"
   ]
  },
  {
   "cell_type": "markdown",
   "metadata": {
    "id": "3eRk-lgUGuhT"
   },
   "source": [
    "En este caso, cada fila tiene un nombre asociado, y podríamos pensar entonces en este dataframe como un registro de la cantidad de frutas que compraron una serie de clientes de una tienda (la estructura de un dataframe es similar a la que puede tener una base de datos).\n",
    "\n",
    "De esta manera, pandas nos permite, por ejemplo, ubicar las compras de un cliente a partir de su nombre, usando la función `.loc` (por **loc**ate):"
   ]
  },
  {
   "cell_type": "code",
   "execution_count": null,
   "metadata": {
    "id": "MFXHRa2kGqfe"
   },
   "outputs": [],
   "source": [
    "# Ubicamos los datos por nombre de la fila\n",
    "\n",
    "compras.loc[['Patricia']]"
   ]
  },
  {
   "cell_type": "markdown",
   "metadata": {
    "id": "zgQy_TQEHoat"
   },
   "source": [
    "Obsérvese que la función devuelve los valores de la fila que corresponde solo a Patricia e indica la cantidad de frutas que compró de cada una.\n",
    "**Nota:** al colocar doble corchetes en la función .loc el resultado devolverá un dataframe, mientras que si se coloca un solo corchete, devolverá dato tipo *Series*, que es similar a un dataframe de una sola dimensión. Por ejemplo:"
   ]
  },
  {
   "cell_type": "code",
   "execution_count": null,
   "metadata": {
    "id": "gqRQcGnAHfP8"
   },
   "outputs": [],
   "source": [
    "compras.loc['Patricia']"
   ]
  },
  {
   "cell_type": "markdown",
   "metadata": {
    "id": "TKFtRs_FJW__"
   },
   "source": [
    "Se recomienda, sin embargo, trabajar siempre con el doble corchete a efectos de mantener la estructura del dataframe así como obtener una mejor visualización de los datos:"
   ]
  },
  {
   "cell_type": "code",
   "execution_count": null,
   "metadata": {
    "id": "j9HjWaC0IRaj"
   },
   "outputs": [],
   "source": [
    "# Selección de múltiples columnas\n",
    "\n",
    "compras.loc[['Jose', 'Victor']]"
   ]
  },
  {
   "cell_type": "markdown",
   "metadata": {
    "id": "AJR-fbYaJojq"
   },
   "source": [
    "Ahora bien, en la mayoría de los casos, los datos a analizar se obtendrán a partir de un archivo externo que puede tener la forma de un .csv (también .xls, .txt u otros formatos). Para cargar datos de un archivo .csv externo se hace uso de la función `read_csv()` de pandas. En general, es recomendable que el archivo .csv se encuentre copiado en la misma carpeta donde esté el Notebook .ipynb que se esté trabajando, o bien se incorpore la ruta del archivo dentro del argumento de la función `read_csv()`. En nuestro caso, vamos a cargar el archivo de una dirección electrónica donde esté alojado dicho archivo.\n",
    "\n",
    "El archivo a cargar será el conocido dataset **Iris**, el cual es un conjunto de datos muy famoso que contiene información de 50 medidas de tres especies de la flor Iris (más información en [Conjunto de datos Iris](https://es.wikipedia.org/wiki/Conjunto_de_datos_flor_iris) )."
   ]
  },
  {
   "cell_type": "code",
   "execution_count": null,
   "metadata": {
    "id": "h2-QAj6-JkGw"
   },
   "outputs": [],
   "source": [
    "# Cargamos un archivo .csv en un dataframe a partir de una dirección web\n",
    "\n",
    "# Establecemos la direccion url del archivo en una variable\n",
    "url = 'https://raw.githubusercontent.com/uiuc-cse/data-fa14/gh-pages/data/iris.csv'\n",
    "\n",
    "# Cargamos el dataset a partir de la variable y lo imprimimos en pantalla\n",
    "data = pd.read_csv(url)\n",
    "data"
   ]
  },
  {
   "cell_type": "markdown",
   "metadata": {
    "id": "eJhbxH_6NRud"
   },
   "source": [
    "Como puede verse en la salida, el conjunto de datos tiene 150 filas con 5 columnas. Estas columnas son:\n",
    "- Longitud del Sépalo.\n",
    "- Ancho del Sépalo.\n",
    "- Longitud del Pétalo.\n",
    "- Ancho del Pétalo.\n",
    "- Especie de la Flor (setosa, versicolor y virginica).\n",
    "\n",
    "En este caso las filas no tienen nombres ya que corresponden a observaciones de un conjunto de medidas.\n",
    "\n",
    "Una vez contamos con un dataframe definido, entonces podemos empezar a usar las funciones de pandas para observar, manipular y analizar los datos. Por ejemplo, si tenemos un conjunto de datos muy extenso y queremos observar el aspecto de solo los primeros o últimos valores, podemos usar las funciones `.head()` y `.tail()`:"
   ]
  },
  {
   "cell_type": "code",
   "execution_count": null,
   "metadata": {
    "id": "acGT24L_LQ-r"
   },
   "outputs": [],
   "source": [
    "# Inspeccionamos las primeras filas de datos\n",
    "\n",
    "data.head()"
   ]
  },
  {
   "cell_type": "code",
   "execution_count": null,
   "metadata": {
    "id": "6mv3SiZsOfwV"
   },
   "outputs": [],
   "source": [
    "# Inspeccionamos las ultimas filas de datos\n",
    "\n",
    "data.tail()"
   ]
  },
  {
   "cell_type": "markdown",
   "metadata": {
    "id": "2XXLgAoAOkKj"
   },
   "source": [
    "Podemos indicar además la cantidad de datos que queremos inspeccionar en el argumento de la función. Por ejemplo, si queremos observar los 15 primeros datos:"
   ]
  },
  {
   "cell_type": "code",
   "execution_count": null,
   "metadata": {
    "id": "Iqm1hxYqOjCg"
   },
   "outputs": [],
   "source": [
    "data.head(15)"
   ]
  },
  {
   "cell_type": "markdown",
   "metadata": {
    "id": "dw5bws4KO8bk"
   },
   "source": [
    "Si deseamos obtener una descripción estadística general de los datos, podemos emplear la función `.describe()`:"
   ]
  },
  {
   "cell_type": "code",
   "execution_count": null,
   "metadata": {
    "id": "FmJ0ufnnOtXo"
   },
   "outputs": [],
   "source": [
    "# Descripción estadística de los datos\n",
    "\n",
    "data.describe()"
   ]
  },
  {
   "cell_type": "markdown",
   "metadata": {
    "id": "0yX1AkOXPGEu"
   },
   "source": [
    "Como podemos ver, de manera automática la función nos devuelve, para cada columna numérica, la candidad de datos (count), el promedio (mean), la desviación estándar (std), el valos mínimo (min), los *cuartiles* de los datos (25, 50 y 75) así como el valor máximo (max), lo cual puede resultar muy útil si deseamos hacer un análisis estadístico de un gran conjunto de datos.\n",
    "\n",
    "Además, con pandas podemos realizar manipulaciones a los datos, como por ejemplo:"
   ]
  },
  {
   "cell_type": "code",
   "execution_count": null,
   "metadata": {
    "id": "aNHB8QqUPEiD"
   },
   "outputs": [],
   "source": [
    "# Transpuesta de los datos\n",
    "\n",
    "data.T"
   ]
  },
  {
   "cell_type": "code",
   "execution_count": null,
   "metadata": {
    "id": "ksIiErKUQEmX"
   },
   "outputs": [],
   "source": [
    "# Ordenar por indices de filas\n",
    "\n",
    "# axis = 0 se refiere a que el orden se hara por las filas\n",
    "# ascending = True se refiere a que se ordena de manera descendente por el índice de la fila\n",
    "data.sort_index(axis=0, ascending=True)"
   ]
  },
  {
   "cell_type": "code",
   "execution_count": null,
   "metadata": {
    "id": "XmS2fYZPQU5F"
   },
   "outputs": [],
   "source": [
    "# En el caso descendente por filas\n",
    "data.sort_index(axis=0, ascending=False)"
   ]
  },
  {
   "cell_type": "code",
   "execution_count": null,
   "metadata": {
    "id": "VbwqyV4OQ1mf"
   },
   "outputs": [],
   "source": [
    "# Ordenar por valores de columnas\n",
    "\n",
    "# by = se refiere a cual columna se considera para ordenar\n",
    "# ascending = True a que se hará en orden descendente para la columna seleccionada\n",
    "data.sort_values(by='sepal_length', ascending=True)"
   ]
  },
  {
   "cell_type": "code",
   "execution_count": null,
   "metadata": {
    "id": "143x0KIWRNk0"
   },
   "outputs": [],
   "source": [
    "# En orden descendente por otra columna\n",
    "data.sort_values(by='petal_width', ascending=False)"
   ]
  },
  {
   "cell_type": "code",
   "execution_count": null,
   "metadata": {
    "id": "qTyqD-2zTFb0"
   },
   "outputs": [],
   "source": [
    "# Ordenar por múltiples columnas\n",
    "data.sort_values(by=['sepal_width','petal_width'], ascending=True)"
   ]
  },
  {
   "cell_type": "markdown",
   "metadata": {
    "id": "rBmFPbCNT2PE"
   },
   "source": [
    "De una manera similar a cuando se trabajaba con arreglos, con los dataframe es posible seleccionar datos a partir de columnas, o bien seleccionar subconjuntos de datos a partir de los índices del dataframe. Veamos algunos ejemplos:"
   ]
  },
  {
   "cell_type": "code",
   "execution_count": null,
   "metadata": {
    "id": "iPuLYUtMTToQ"
   },
   "outputs": [],
   "source": [
    "# Seleccion de una columna por su nombre\n",
    "\n",
    "data[['sepal_length']]"
   ]
  },
  {
   "cell_type": "markdown",
   "metadata": {
    "id": "nWQZdizYUODc"
   },
   "source": [
    "Si lo necesitásemos, podríamos crear un dataframe a partir de una o varias columnas seleccionadas:"
   ]
  },
  {
   "cell_type": "code",
   "execution_count": null,
   "metadata": {
    "id": "qceYOMElUGhb"
   },
   "outputs": [],
   "source": [
    "# Seleccion de los datos del ancho del petalo\n",
    "\n",
    "ancho_petalo = data[['petal_width']]\n",
    "ancho_petalo"
   ]
  },
  {
   "cell_type": "markdown",
   "metadata": {
    "id": "d_Nb88VjUdWA"
   },
   "source": [
    "Nótese que en este caso, la variable `ancho_petalo` es un nuevo dataframe que solo contiene esa columna.\n",
    "\n",
    "Pero podríamos seleccionar un conjunto del dataframe original usando los índices, por ejemplo:"
   ]
  },
  {
   "cell_type": "code",
   "execution_count": null,
   "metadata": {
    "id": "p50_pI_gUat-"
   },
   "outputs": [],
   "source": [
    "# Seleccion de un subconjunto por indices\n",
    "data[3:14]"
   ]
  },
  {
   "cell_type": "markdown",
   "metadata": {
    "id": "eYzzekuVU7NM"
   },
   "source": [
    "O incluso seleccionar un conjunto de datos por sus índices y por los nombres de las columnas usando `.loc`:"
   ]
  },
  {
   "cell_type": "code",
   "execution_count": null,
   "metadata": {
    "id": "r8ZiqKfSUvfV"
   },
   "outputs": [],
   "source": [
    "# Seleccion por indices y por columnas\n",
    "data.loc[5:10, ['sepal_length', 'petal_length']]"
   ]
  },
  {
   "cell_type": "markdown",
   "metadata": {
    "id": "qXQGKaSyVeAs"
   },
   "source": [
    "O bien acceder al valor numérico de alguna de las variables con la función `.at` (también se puede emplear `.loc`):"
   ]
  },
  {
   "cell_type": "code",
   "execution_count": null,
   "metadata": {
    "id": "xqftJ36EVJdE"
   },
   "outputs": [],
   "source": [
    "# Seleccion del valor numerico especifico de una variable\n",
    "variable = data.at[10, 'sepal_width']\n",
    "variable"
   ]
  },
  {
   "cell_type": "markdown",
   "metadata": {
    "id": "D-T4WpGQV6iz"
   },
   "source": [
    "Podemos, también, seleccionar por posiciones específicas de índices y columnas usando la función `.iloc`:"
   ]
  },
  {
   "cell_type": "code",
   "execution_count": null,
   "metadata": {
    "id": "8gbkVz-CVzzM"
   },
   "outputs": [],
   "source": [
    "# Seleccion por posicion de indices y columnas\n",
    "\n",
    "data.iloc[[0, 2, 3, 6], [0, 2]] # Seleccionamos solo las filas 0,2,3 y 6 y las columnas 0 y 2"
   ]
  },
  {
   "cell_type": "markdown",
   "metadata": {
    "id": "FtlQiBc5WUOc"
   },
   "source": [
    "Y del mismo modo, podemos acceder a un valor por índices con la función `iat`:"
   ]
  },
  {
   "cell_type": "code",
   "execution_count": null,
   "metadata": {
    "id": "bk1ndFxJWKM8"
   },
   "outputs": [],
   "source": [
    "# Seleccion de un valor por sus indices\n",
    "\n",
    "valor = data.iat[8, 2]\n",
    "valor"
   ]
  },
  {
   "cell_type": "markdown",
   "metadata": {
    "id": "OIyaO7-qXJpW"
   },
   "source": [
    "Adicionalmente, también podemos hacer selección de subconjuntos a partir de condiciones booleanas, es decir, tomar solo los datos que cumplan una condición. Veamos:"
   ]
  },
  {
   "cell_type": "code",
   "execution_count": null,
   "metadata": {
    "id": "KwcklwtXWizK"
   },
   "outputs": [],
   "source": [
    "# Seleccionar solo los datos que sean mayores que un valor\n",
    "\n",
    "data[data.sepal_length > 4.5]"
   ]
  },
  {
   "cell_type": "markdown",
   "metadata": {
    "id": "OlmqBgiYYjSY"
   },
   "source": [
    "En este caso, puede leerse la condición como: seleccionar los datos del dataframe *data* solo donde los valores de la columna 'sepal_length' sea mayor que 4.5. Nótese que bajo esta condición, solo se seleccionan 145 filas."
   ]
  },
  {
   "cell_type": "code",
   "execution_count": null,
   "metadata": {
    "id": "VPCHlJivYdfI"
   },
   "outputs": [],
   "source": [
    "# Selección por múltiples condiciones\n",
    "\n",
    "data[(data.sepal_width > 3.6) & (data.petal_length < 1.9)]"
   ]
  },
  {
   "cell_type": "markdown",
   "metadata": {
    "id": "GzOrLLGPZE12"
   },
   "source": [
    "En este caso, la condición es: seleccionar los datos cuyos valores de 'sepal_length' sean mayores que 3.6 **y** que los valores de 'petal_length' sean menores que 1.9. El símbolo **&** representa la condición **y**. En este caso, la seleccion tiene 12 filas.\n",
    "\n",
    "Por supuesto, las mostradas son apenas algunas de las funcionalidades de inspección y manipulación de datos que pueden realizarse sobre dataframes con la librería pandas.\n",
    "\n",
    "A continuación, veremos otras funciones útiles para visualizar datos contenidos en un dataframe:"
   ]
  },
  {
   "cell_type": "code",
   "execution_count": null,
   "metadata": {
    "id": "a6fQZmJcY7Yb"
   },
   "outputs": [],
   "source": [
    "# Importamos matplotlib\n",
    "import matplotlib.pyplot as plt\n",
    "\n",
    "# Graficar todos los datos numéricos presentes en el dataframe\n",
    "data.plot()\n",
    "plt.show();"
   ]
  },
  {
   "cell_type": "markdown",
   "metadata": {
    "id": "nNmubG1d7o5u"
   },
   "source": [
    "En este caso, al aplicar la función `.plot()` al dataframe directamente se generará una gráfica para cada una de las columnas del conjunto de datos como puede observarse en la figura. Si quieremos incorporar información al gráfico, podemos hacerlo aplicando las funciones de `matplotlib` ya conocidas:\n"
   ]
  },
  {
   "cell_type": "code",
   "execution_count": null,
   "metadata": {
    "id": "f-f4i6Nt7Ek4"
   },
   "outputs": [],
   "source": [
    "# Mejoremos la grafica\n",
    "\n",
    "data.plot()\n",
    "plt.title('Conjunto de Datos Iris')\n",
    "plt.xlabel('Observación')\n",
    "plt.ylabel('Valor')\n",
    "plt.legend(loc = 'lower right')\n",
    "plt.show();"
   ]
  },
  {
   "cell_type": "markdown",
   "metadata": {
    "id": "z1wEzJ__8iek"
   },
   "source": [
    "Sin embargo, a efectos del análisis de los datos, esta gráfica no nos da mayor información sobre la estructura y características de los datos presentes en el conjunto Iris. Para ello, por ejemplo, podría resultar interesante estudiar las relaciones que existen entre cada una de las columnas (es decir, relaciones ancho y longitud de las flores).\n",
    "\n",
    "Una gráfica que podemos realizar a partir del propio dataframe es el de la longitud de los sépalos vs. el ancho de los sépalos. Pero ya que se tratan de puntos de datos independientes, hagamos un *scatter plot* o gráfico de dispersión:"
   ]
  },
  {
   "cell_type": "code",
   "execution_count": null,
   "metadata": {
    "id": "lwyCHDEd8Ij1"
   },
   "outputs": [],
   "source": [
    "# Grafico sepal_length vs. sepal_width\n",
    "\n",
    "data.plot.scatter(x='sepal_width', y='sepal_length')\n",
    "plt.xlabel('Ancho Sépalo')\n",
    "plt.ylabel('Longitud Sépalo')\n",
    "plt.title('Gráfico de Dispersión Ancho Sépalo vs. Longitud Sépalo')\n",
    "plt.show();"
   ]
  },
  {
   "cell_type": "markdown",
   "metadata": {
    "id": "cyBNgsoQ9oVj"
   },
   "source": [
    "Obsérvese que, en efecto, con la función `.plot.scatter()` podemos crear un gráfico de dispersión directamente del dataframe, y asignar qué columnas queremos graficar en cada caso usando los argumentos (x, y). En el gráfico podemos ver las relaciones existentes entre cada variable, pero todavía podemos obtener mayor información del gráfico. Por ejemplo, ¿qué ocurre si coloreamos cada punto en función de especie a la que pertenece cada flor?:"
   ]
  },
  {
   "cell_type": "code",
   "execution_count": null,
   "metadata": {
    "id": "6Ng8yy5r9Gnc"
   },
   "outputs": [],
   "source": [
    "# Necesitamos numpy para definir los colores segun las especies\n",
    "import numpy as np\n",
    "\n",
    "# Creamos un arreglo que tomara los valores r, g o b dependiendo del nombre de cada clase en el dataframe\n",
    "colors = np.where(data['species']=='setosa','r', '-')\n",
    "colors[data['species']=='virginica'] = 'g'\n",
    "colors[data['species']=='versicolor'] = 'b'\n",
    "\n",
    "# Creamos el scatterplot y asignamos los colores segun el arreglo colors\n",
    "data.plot.scatter(x='sepal_width', y='sepal_length', c=colors)\n",
    "plt.xlabel('Ancho Sépalo')\n",
    "plt.ylabel('Longitud Sépalo')\n",
    "plt.title('Gráfico de Dispersión Ancho Sépalo vs. Longitud Sépalo')\n",
    "plt.show();"
   ]
  },
  {
   "cell_type": "markdown",
   "metadata": {
    "id": "bKWS_3uMBT3B"
   },
   "source": [
    "Se puede observar que, en efecto, dependiendo de la especie existen agrupamientos y correlaciones entre estas variables. ¿Qué ocurre ahora si graficamos, por ejemplo, la longitud del sépalo en función de la longitud del pétalo?:"
   ]
  },
  {
   "cell_type": "code",
   "execution_count": null,
   "metadata": {
    "id": "mLAQwumi-iHt"
   },
   "outputs": [],
   "source": [
    "# Gráfica de longitud del sepalo vs. logitud del petalo\n",
    "\n",
    "data.plot.scatter(x='petal_length', y='sepal_length', c=colors)\n",
    "plt.xlabel('Longitud Pétalo')\n",
    "plt.ylabel('Longitud Sépalo')\n",
    "plt.title('Gráfico de Dispersión Longitud Petalo vs. Longitud Sépalo')\n",
    "plt.show();"
   ]
  },
  {
   "cell_type": "markdown",
   "metadata": {
    "id": "LSgwBQeiByrx"
   },
   "source": [
    "Podemos observar cómo se hace evidente con mucha mayor claridad la relación que existe entre estas variables y la especie a la que pertenece cada una. Esto quiere decir que cada especie de flor iris podría reconocerse o clasificarse según la relación de dimensiones entre longitud y ancho de pétalos y sépalos (algoritmos de agrupamiento como K-medios generan buenos resultados de clasificación en este conjunto de datos). Esta clase de información no es evidente a simple vista cuando se observa el dataset original pero vemos que al explorar y graficar de esta manera los datos, podemos extraer información relevante.\n",
    "\n",
    "Otro gráfico que es posible obtener a partir del dataframe y que ofrece mucha información es el *histograma*, pues nos permite conocer cómo están distribuidos los datos en un conjunto. Por ejemplo:"
   ]
  },
  {
   "cell_type": "code",
   "execution_count": null,
   "metadata": {
    "id": "5I-b9nm_BiZV"
   },
   "outputs": [],
   "source": [
    "# Histograma del dataframe original\n",
    "\n",
    "data.plot.hist(bins=20)\n",
    "plt.xlabel('Valor')\n",
    "plt.ylabel('Frecuencia')\n",
    "plt.title('Histograma del dataset Iris')\n",
    "plt.show();"
   ]
  },
  {
   "cell_type": "markdown",
   "metadata": {
    "id": "c39cP3aHDLt4"
   },
   "source": [
    "De esta manera podemos observar claramente el cómo se distribuyen los distintos valores para cada columna y cuán diferentes son los rangos y frecuencias de ellos. Podríamos, por supuesto, graficar los histogramas para cada columna por sepadado:"
   ]
  },
  {
   "cell_type": "code",
   "execution_count": null,
   "metadata": {
    "id": "FIfDtc6YCyBk"
   },
   "outputs": [],
   "source": [
    "# Histograma de columnas por separado\n",
    "\n",
    "data['sepal_length'].plot.hist(bins=20, color = 'steelblue')\n",
    "plt.xlabel('Valor')\n",
    "plt.ylabel('Frecuencia')\n",
    "plt.title('Histograma para columna \"Sepal Length\"')\n",
    "plt.show();\n",
    "\n",
    "data['sepal_width'].plot.hist(bins=20, color = 'orange')\n",
    "plt.xlabel('Valor')\n",
    "plt.ylabel('Frecuencia')\n",
    "plt.title('Histograma para columna \"Sepal Width\"')\n",
    "plt.show();\n",
    "\n",
    "data['petal_length'].plot.hist(bins=20, color = 'green')\n",
    "plt.xlabel('Valor')\n",
    "plt.ylabel('Frecuencia')\n",
    "plt.title('Histograma para columna \"Petal Length\"')\n",
    "plt.show();\n",
    "\n",
    "data['petal_width'].plot.hist(bins=20, color = 'red')\n",
    "plt.xlabel('Valor')\n",
    "plt.ylabel('Frecuencia')\n",
    "plt.title('Histograma para columna \"Petal Width\"')\n",
    "plt.show();"
   ]
  },
  {
   "cell_type": "markdown",
   "metadata": {
    "id": "v1RV0MucFGWP"
   },
   "source": [
    "Y, a efectos de visualizar y conocer distribuciones de datos, también podemos hacer gráficas de *boxplot* de la siguiente manera:"
   ]
  },
  {
   "cell_type": "code",
   "execution_count": null,
   "metadata": {
    "id": "eLISBpibDlTY"
   },
   "outputs": [],
   "source": [
    "# Boxplot del dataset Iris\n",
    "\n",
    "data.plot.box()\n",
    "plt.ylabel('Valor')\n",
    "plt.xlabel('Variable')\n",
    "plt.title('Boxplot del conjunto Iris')\n",
    "plt.show();"
   ]
  },
  {
   "cell_type": "markdown",
   "metadata": {
    "id": "BzwLWSRiFe_p"
   },
   "source": [
    "En este caso, el boxplot es un tipo de gráfico que muestra en el centro de la caja (líneas de color verde) la mediana de la distribución, la caja (en azul) representa los cuartiles Q1 y Q3, y los bigotes (líneas extendidas) representan 1.5 veces el rango intercuartílico (mayor información en este [link](https://es.wikipedia.org/wiki/Diagrama_de_caja))\n",
    "\n",
    "De esta manera, podemos ver una muestra del tipo de funcionalidades que están incorporadas como parte de la librería *Pandas* y que permiten, en efecto, realizar análisis, manipulaciones y exploraciones de datos que facilitan la obtención de información de tales datos de una manera más intuitiva y evidente que si sólo observásemos una tabla con valores numéricos."
   ]
  },
  {
   "cell_type": "markdown",
   "metadata": {
    "id": "TRZM9rM3J7fH"
   },
   "source": [
    "## Análisis de Datos Exploratorio - Conjunto MTCARS\n",
    "\n",
    "A manera de ejemplo de la utilidad de esta librería, vamos a realizar lo conocido como Análisis de Datos Exploratorio (también conocido como EDA, o Exploratory Data Analysis), de un conjunto de datos muy famoso dentro de la Ciencia de Datos y que se usa con frecuencia como datos de prueba para aprendizaje. Este conjunto se conoce como MTCARS y contiene, como veremos, información técnica sobre ciertas marcas y modelos de carros.\n",
    "\n",
    "Así que, en primer lugar, vamos a cargar en un dataframe el conjunto de datos MTCARS a partir de un url web:\n"
   ]
  },
  {
   "cell_type": "code",
   "execution_count": null,
   "metadata": {
    "id": "z2nj0f1uKjI4"
   },
   "outputs": [],
   "source": [
    "# Cargamos los datos MTCARS\n",
    "\n",
    "# Definimos la variable donde almacenamos la direccion web\n",
    "url = 'https://gist.githubusercontent.com/seankross/a412dfbd88b3db70b74b/raw/5f23f993cd87c283ce766e7ac6b329ee7cc2e1d1/mtcars.csv'\n",
    "\n",
    "# Cargamos el archivo y lo guardamos en el dataframe mtcars\n",
    "mtcars = pd.read_csv(url)"
   ]
  },
  {
   "cell_type": "markdown",
   "metadata": {
    "id": "ntPoSBhuK0HW"
   },
   "source": [
    "Una vez cargado el dataframe, vamos a comenzar la exploración de los datos. Primero, vamos a echarle un vistazo a la cantidad de filas y columnas que tiene el dataset, así como los primeros valores del conjunto de datos:"
   ]
  },
  {
   "cell_type": "code",
   "execution_count": null,
   "metadata": {
    "id": "d51krHxhKorU"
   },
   "outputs": [],
   "source": [
    "# Veamos el tamano y forma del dataset\n",
    "\n",
    "# Tamano del dataset con la funcion .shape\n",
    "mtcars.shape"
   ]
  },
  {
   "cell_type": "markdown",
   "metadata": {
    "id": "DUVZqZCfL5VM"
   },
   "source": [
    "Como se puede ver, el dataset contiene 32 filas y 12 columnas. Observemos los primeros datos usando la función `.head()`:"
   ]
  },
  {
   "cell_type": "code",
   "execution_count": null,
   "metadata": {
    "id": "G22Wea3oK_Qh"
   },
   "outputs": [],
   "source": [
    "# Observemos los primeros datos\n",
    "mtcars.head()"
   ]
  },
  {
   "cell_type": "markdown",
   "metadata": {
    "id": "aNFCJ2EYMmmw"
   },
   "source": [
    "Como podemos ver, las columnas de este dataset hacen referencia a una serie de características técnicas de los vehículos (millas por galon, cilindros, desplazamiento, caballos de fuerza, etc), mientras que cada fila es una marca y modelo específico de un vehículo.\n",
    "\n",
    "A efectos del ejemplo, el análisis no lo vamos a realizar sobre todas las columnas presentes en el dataset, por lo que vamos a crear un segundo dataset donde guardaremos solo aquellas columnas de interés. Esas columnas serán: model, mpg, cyl, disp, hp y gear (modelo, millas por galón, cilindros, desplazamiento, caballos de fuerza y cantidad de velocidades):"
   ]
  },
  {
   "cell_type": "code",
   "execution_count": null,
   "metadata": {
    "id": "DzJ9CV-JL-kX"
   },
   "outputs": [],
   "source": [
    "# Guardamos en un nuevo dataset solo las columnas que nos interesan\n",
    "\n",
    "carros = mtcars.loc[:, ['model', 'mpg', 'cyl', 'disp', 'hp', 'gear']]\n",
    "carros.head()"
   ]
  },
  {
   "cell_type": "markdown",
   "metadata": {
    "id": "YbiBUG5COCf0"
   },
   "source": [
    "Obsérvese que, en efecto, reducimos la cantidad de columnas del nuevo dataset a aquellas que seleccionamos usando la función `.loc[]`.\n",
    "\n",
    "Algo que podemos hacer enseguida es una descripción estadística del dataset:"
   ]
  },
  {
   "cell_type": "code",
   "execution_count": null,
   "metadata": {
    "id": "3V-IVdnrN9fw"
   },
   "outputs": [],
   "source": [
    "# Usemos la funcion describe\n",
    "\n",
    "carros.describe()"
   ]
  },
  {
   "cell_type": "markdown",
   "metadata": {
    "id": "ibFTEBXcWzgi"
   },
   "source": [
    "Sin embargo, en este caso hay que tener en cuenta algo importante: a efectos de las variables que forman parte del dataset, las únicas que podemos considerar como variables contínuas son mpg, disp y hp, ya que representan cantidades numéricas que describen la capacidad de millas por galón, desplazamiento y caballos de fuerza de cada vehículo. Por otro lado, tanto la cyl como gear, la cantidad de cilindros y la cantidad de velocidades, son siempre números discretos (enteros), por lo que no tiene mucho sentido hablar de valores promedios o desviaciones estándar para dichas variables. En este caso, tanto cyl como gear se pueden considerar variables \"categóricas\", es decir, que representan categorías dentro de un conjunto de datos y que no necesariamente su número representa una secuencialidad de valores. De cualquier modo, la función `.describe()` nos permite realizar una inspección rápida de la estadística de los datos, cosa que nos serviría, por ejemplo, para conocer el rango de las variables, existencia de \"outliers\", entre otros.\n",
    "\n",
    "Dada la naturaleza del dataset, algo que sí podemos hacer es graficar los histogramas de las variables mpg y disp, para conocer sus distribuciones en los datos:"
   ]
  },
  {
   "cell_type": "code",
   "execution_count": null,
   "metadata": {
    "id": "zWNgeB0AWvmn"
   },
   "outputs": [],
   "source": [
    "# Histograma de mpg\n",
    "\n",
    "carros['mpg'].plot.hist(bins=10, color = 'steelblue')\n",
    "plt.xlabel('Valor')\n",
    "plt.ylabel('Frecuencia')\n",
    "plt.title('Histograma para variable \"mpg\"')\n",
    "plt.show();"
   ]
  },
  {
   "cell_type": "markdown",
   "metadata": {
    "id": "KWkznMm9YUDW"
   },
   "source": [
    "En este caso, vemos que la mayoría de los vehículos presentes en el dataset tienen una valoración de millas por galón entre 15 y 20. Para el desplazamiento tenemos:"
   ]
  },
  {
   "cell_type": "code",
   "execution_count": null,
   "metadata": {
    "id": "YrEiSQMlYHtz"
   },
   "outputs": [],
   "source": [
    "# Histograma del disp\n",
    "\n",
    "carros['disp'].plot.hist(bins=10, color = 'steelblue')\n",
    "plt.xlabel('Valor')\n",
    "plt.ylabel('Frecuencia')\n",
    "plt.title('Histograma para variable \"disp\"')\n",
    "plt.show();"
   ]
  },
  {
   "cell_type": "markdown",
   "metadata": {
    "id": "W9ET0A51Yr2C"
   },
   "source": [
    "Para esta variable la distribución no lleva una forma Gaussiana, y existen picos de valores de desplazamiento a lo largo de todo el rango de valores.\n",
    "\n",
    "Veamos lo que se obtiene al hacer un histograma de la variable hp:"
   ]
  },
  {
   "cell_type": "code",
   "execution_count": null,
   "metadata": {
    "id": "6W1aMmvEYiM4"
   },
   "outputs": [],
   "source": [
    "# Histograma de hp\n",
    "\n",
    "carros['hp'].plot.hist(bins=10, color = 'steelblue')\n",
    "plt.xlabel('Valor')\n",
    "plt.ylabel('Frecuencia')\n",
    "plt.title('Histograma para variable \"hp\"')\n",
    "plt.show();"
   ]
  },
  {
   "cell_type": "markdown",
   "metadata": {
    "id": "T_CICzFSZDnB"
   },
   "source": [
    "En este caso se obtiene que la mayoría de vehículos tienen una cantidad de caballos de fuerza entre 50 a 125 aproximadamente, y muy pocos carros tienen hp mayor a 300.\n",
    "\n",
    "Ahora bien, ¿qué obtendremos en el caso de los histogramas para las variables discretas como cyl y gear? Veamos:\n",
    "\n"
   ]
  },
  {
   "cell_type": "code",
   "execution_count": null,
   "metadata": {
    "id": "q7y6-V4OZCIW"
   },
   "outputs": [],
   "source": [
    "# Histograma de cyl\n",
    "\n",
    "carros['cyl'].plot.hist(bins=5, color = 'red')\n",
    "plt.xlabel('Valor')\n",
    "plt.ylabel('Frecuencia')\n",
    "plt.title('Histograma para variable \"cyl\"')\n",
    "plt.show();"
   ]
  },
  {
   "cell_type": "code",
   "execution_count": null,
   "metadata": {
    "id": "o2u2QwWiZiN3"
   },
   "outputs": [],
   "source": [
    "# Histograma de gear\n",
    "\n",
    "carros['gear'].plot.hist(bins=5, color = 'orange')\n",
    "plt.xlabel('Valor')\n",
    "plt.ylabel('Frecuencia')\n",
    "plt.title('Histograma para variable \"gear\"')\n",
    "plt.show();"
   ]
  },
  {
   "cell_type": "markdown",
   "metadata": {
    "id": "j-kisa2hZ6QM"
   },
   "source": [
    "Ya que las variables son discretas, vemos que para la cantidad de cilindros obtenemos picos en 4, 6 y 8 que, de hecho, representan los únicos valores distintos que existen en esa variable del dataset. El histograma en este caso nos dice que la mayoría de los carros presentes tienen 8 cilindros, luego 4, y por último 6.\n",
    "\n",
    "En el caso de la cantidad de velocidades ocurre algo similar: la mayoría de los vehículos tiene 3 velocidades, luego 4 y luego 5.\n",
    "\n",
    "En vista de esto, para variables discretas un histograma no necesariamente es la mejor opción a fin de visualizar la distribución de los datos. En ese caso es preferible hacer un gráfico de barras en donde el eje X sean, por ejemplo, la cantidad de cilindros o la cantidad de velocidades, y el eje Y el total presente para cada caso en todo el dataset.\n",
    "\n",
    "Para lograr graficar esto, podemos hacer uso de la función `.plot.bar()`, pero antes debemos calcular de alguna manera cuál es la frecuencia de cada una de las variables en cada caso (lo que correspondería a colocar en el eje Y). Esto se logra con la función `.value_counts()`:"
   ]
  },
  {
   "cell_type": "code",
   "execution_count": null,
   "metadata": {
    "id": "j50T3yM5ZxyO"
   },
   "outputs": [],
   "source": [
    "# Vamos a graficar la variable categórica cyl\n",
    "\n",
    "# Primero, calculamos la cantidad de ocurrencias que hay para cada uno de los valores diferentes de cyl\n",
    "# Luego le colocamos nombre a la variable de dicha cuenta 'cyl' con .rename_axis()\n",
    "# Despues reiniciamos el indice y le colocamos el nombre 'count' a la columna con .reset_index\n",
    "n_cyl = carros['cyl'].value_counts().rename_axis('cyl').reset_index(name='count')\n",
    "\n",
    "# Esto nos genera como salida el siguiente dataframe\n",
    "n_cyl"
   ]
  },
  {
   "cell_type": "markdown",
   "metadata": {
    "id": "sNJ7KdXKenUR"
   },
   "source": [
    "Ahora, podemos graficar este dataframe como un gráfico de barras:"
   ]
  },
  {
   "cell_type": "code",
   "execution_count": null,
   "metadata": {
    "id": "qJYEbi2RbBK4"
   },
   "outputs": [],
   "source": [
    "# Grafico de barras del dataframe anterior\n",
    "\n",
    "n_cyl.plot.bar(x='cyl', y='count')\n",
    "plt.xlabel('Numero de Cilindros')\n",
    "plt.ylabel('Frecuencia')\n",
    "plt.title('Frecuencia de la variable \"cyl\" en dataset')\n",
    "plt.legend('')\n",
    "plt.show();"
   ]
  },
  {
   "cell_type": "markdown",
   "metadata": {
    "id": "LKge4RBHFwVs"
   },
   "source": [
    "Del mismo modo, podemos hacer algo equivalente para la variable gear:"
   ]
  },
  {
   "cell_type": "code",
   "execution_count": null,
   "metadata": {
    "id": "3C4Cd-p0Eces"
   },
   "outputs": [],
   "source": [
    "# Grafiquemos la variable gear como grafico de barras\n",
    "\n",
    "# Primero, calculemos la frecuencia por cada cantidad de velocidades\n",
    "n_gear = carros['gear'].value_counts().rename_axis('gear').reset_index(name='count')\n",
    "\n",
    "# Ahora grafiquemos\n",
    "n_gear.plot.bar(x='gear', y='count', color='orange')\n",
    "plt.xlabel('Numero de Velocidades')\n",
    "plt.ylabel('Frecuencia')\n",
    "plt.title('Frecuencia de la variable \"gear\" en dataset')\n",
    "plt.legend('')\n",
    "plt.show();"
   ]
  },
  {
   "cell_type": "markdown",
   "metadata": {
    "id": "Q-3hbv9PGSmG"
   },
   "source": [
    "En definitiva, con estas gráficas podemos ver cuáles son los marcajes de cilindrada y número de velocidades que tienen los vehículos que forman parte del dataset original, y cuántos de estos aparecen en el mismo.\n",
    "\n",
    "Ahora bien, volviendo al dataset 'carros' que filtramos:"
   ]
  },
  {
   "cell_type": "code",
   "execution_count": null,
   "metadata": {
    "id": "vC7NBfxiGJA6"
   },
   "outputs": [],
   "source": [
    "# Dataset carros\n",
    "\n",
    "carros.head()"
   ]
  },
  {
   "cell_type": "markdown",
   "metadata": {
    "id": "Dx_QMVaoGt8Z"
   },
   "source": [
    "Ya que conocemos las distribuciones y frecuencias de cada una de las variables que forman parte del conjunto de datos, algo interesante de explorar son las relaciones que existen o pueden existir entre tales variables. Por ejemplo, antes de realizar el análisis, podríamos hacernos las siguientes preguntas: ¿Existe alguna relación entre las millas por galón de un vehículo y el desplazamiento producido por el mismo? ¿O entre el mpg y los caballos de fuerza que posee? Estas relaciones podemos conocerlas a partir de gráficos de dispersión como ya vimos antes:"
   ]
  },
  {
   "cell_type": "code",
   "execution_count": null,
   "metadata": {
    "id": "Gls8k8zAGtAD"
   },
   "outputs": [],
   "source": [
    "# Relacion entre las mpg y el disp\n",
    "\n",
    "carros.plot.scatter(x='mpg', y='disp', s=30)\n",
    "plt.xlabel('MPG')\n",
    "plt.ylabel('Desplazamiento')\n",
    "plt.title('Gráfica disp vs. mpg')\n",
    "plt.show();"
   ]
  },
  {
   "cell_type": "markdown",
   "metadata": {
    "id": "n727truzJ3tE"
   },
   "source": [
    "En este caso, a partir de la gráfica podemos ver que la relación entre el desplazamiento y las millas por galón es inversamente proporcional: a medida que aumentan las mpg del vehículo, disminuye el desplazamiento que posee el motor. Esto tiene sentido si consideramos que a medida que un carro es más eficiente, es decir, capaz de producir mayor cantidad de millas por galón, entonces su consumo de gasolina debería disminuir y, por lo tanto, su desplazamiento. Podemos decir también que un vehículo con mucha potencia y, por lo tanto, mucho desplazamiento, recorrerá pocas millas por galón. Veamos la relación entre mpg y los hp:"
   ]
  },
  {
   "cell_type": "code",
   "execution_count": null,
   "metadata": {
    "id": "RggNy1ZxHgCq"
   },
   "outputs": [],
   "source": [
    "# Relación entre las mpg y los hp\n",
    "\n",
    "carros.plot.scatter(x='mpg', y='hp', color='orange', s=30)\n",
    "plt.xlabel('MPG')\n",
    "plt.ylabel('Caballos de Fuerza')\n",
    "plt.title('Gráfica hp vs. mpg')\n",
    "plt.show();"
   ]
  },
  {
   "cell_type": "markdown",
   "metadata": {
    "id": "sQcOSwUAKqXv"
   },
   "source": [
    "De nuevo, tenemos una relación inversa: mientras más caballos de fuerza tenga un vehículo, menos será su eficiencia y, por lo tanto, menos sus mpg.\n",
    "\n",
    "A partir de estos resultados, podemos hacer la siguiente suposición: aquellos carros con mayor desplazamiento de gasolina tendrán mayores caballos de fuerza. Veamos si nuestra afirmación es cierta:"
   ]
  },
  {
   "cell_type": "code",
   "execution_count": null,
   "metadata": {
    "id": "KSVNAiJOKno1"
   },
   "outputs": [],
   "source": [
    "# Gráfica de hp vs. disp\n",
    "\n",
    "carros.plot.scatter(x='hp', y='disp', color='red', s=30)\n",
    "plt.xlabel('HP')\n",
    "plt.ylabel('Desplazamiento')\n",
    "plt.title('Gráfica hp vs. disp')\n",
    "plt.show();"
   ]
  },
  {
   "cell_type": "markdown",
   "metadata": {
    "id": "lo3xrHjtLqG_"
   },
   "source": [
    "De manera evidente se observa que, en efecto, en este caso la relación es directamente proporcional: mientrás más caballos de fuerza tenga un vehículo, mayor será la cantidad de gasolina que desplaza su motor.\n",
    "\n",
    "Como podemos ver, es a partir del análisis de los datos y la generación de este tipo de gráficas lo que nos permite obtener información que, en algún caso, podría ser desconocida o no muy evidente si no se realiza el trabajo exploratorio.\n",
    "\n",
    "Para finalizar este breve análisis y con el fin de introducir otra de las funcionalidades que ofrecen los dataframe y la librería *Pandas*, está la capacidad de realizar cálculos sobre datos 'agrupados'. Por ejemplo, en base al dataset MTCARS, vimos que el conjunto de datos tiene, por ejemplo, variables categóricas como la cantidad de velocidades o el número de cilindros, y a su vez variables contínuas como las millas por galón o los caballos de fuerza.\n",
    "\n",
    "Algo que podría ser interesante saber es el valor promedio de mpg en función de la cantidad de cilindros o velocidades, o bien el valor promedio de caballos de fuerza en función de las mismas variables.\n",
    "\n",
    "Este tipo de resultados es posible obtenerlo haciendo uso de la función `.groupby()`:"
   ]
  },
  {
   "cell_type": "code",
   "execution_count": null,
   "metadata": {
    "id": "d0Q2YLXQLFpq"
   },
   "outputs": [],
   "source": [
    "# Ejemplo de agrupamiento de datos con pandas\n",
    "\n",
    "carros.groupby('cyl')[['mpg', 'disp', 'hp']].mean()"
   ]
  },
  {
   "cell_type": "markdown",
   "metadata": {
    "id": "OHpHThV_P-QU"
   },
   "source": [
    "En este caso, la instrucción ejecutada puede leerse como: toma el dataframe carros, agrúpalo por la variable 'cyl', y sólamente a las columnas mpg, disp y hp, le vas a calcular el promedio (mean) entre todos los datos presentes. Como se observa, la salida que se obtiene es el valor promedio de mpg, disp y hp para cada uno de las diferentes cilindradas del dataset.\n",
    "\n",
    "Del mismo modo, podemos hacer el cálculo para el número de velocidades:"
   ]
  },
  {
   "cell_type": "code",
   "execution_count": null,
   "metadata": {
    "id": "a9PM-SB4Oj-x"
   },
   "outputs": [],
   "source": [
    "# Agrupamiento y cálculo de promedios para la variable gear\n",
    "\n",
    "carros.groupby('gear')[['mpg', 'disp', 'hp']].mean()"
   ]
  },
  {
   "cell_type": "markdown",
   "metadata": {
    "id": "R8r48I9DUSwd"
   },
   "source": [
    "Este tipo de resultados puede ofrecernos información particular como, por ejemplo, según la tabla anterior vemos que los vehículos con 4 velocidades son los que, en promedio, tienen menor cantidad de caballos de fuerza.\n",
    "\n",
    "En el caso de la tabla del agrupamiento por cilindros, vemos que mientras más cilindros se tengan, en promedio mayor será la cantidad de caballos de fuerza.\n",
    "\n",
    "Podríamos, por último, realizar una gráfica de esto:"
   ]
  },
  {
   "cell_type": "code",
   "execution_count": null,
   "metadata": {
    "id": "eN8lsj2uT1P2"
   },
   "outputs": [],
   "source": [
    "# Relación de cantidad de cilindros y hp promedios\n",
    "\n",
    "# Agrupamos por cilindros\n",
    "cyl_mean = carros.groupby('cyl')[['mpg', 'disp', 'hp']].mean()\n",
    "\n",
    "# Graficamos hp promedio vs. cyl\n",
    "cyl_mean.plot.bar(y='hp')\n",
    "plt.xlabel('Cilindros')\n",
    "plt.ylabel('HP Promedio')\n",
    "plt.title('Dependencia del HP Promedio con el número de Cilindros')\n",
    "plt.legend('')\n",
    "plt.show();"
   ]
  },
  {
   "cell_type": "markdown",
   "metadata": {
    "id": "zjnr11Ueb1MI"
   },
   "source": [
    "De modo que el contar datos almacenados y cargados en forma de un dataframe permite (entre una gran cantidad de otras funcionalidades que a efectos de un curso introductorio no se mencionan), realizar análisis de datos exploratorios, manipulación, limpieza y graficación de datos de una manera sencilla y que ofrece la posibilidad de extraer información que no podría conocerse de otra manera."
   ]
  },
  {
   "cell_type": "markdown",
   "metadata": {
    "id": "QCst3s4ecNlD"
   },
   "source": [
    "# Proyecto de Análisis de Datos\n",
    "\n",
    "Para finalizar el presente curso, se plantea a continuación un proyecto de exploración de datos a fin de que el participante ejercite todo lo relacionado con la librería pandas, y la graficación con matplotlib. La idea es realizar un análisis de un dataset conocido, pero la invitación al participante es que, por su cuenta, explore las funcionalidades de pandas y sea capaz de extraer cualquier tipo de información adicional que él desee a partir del conjunto de datos propuesto.\n",
    "\n",
    "El dataset a trabajar es el conocido como \"Movie Industry\", el cual contiene información histórica sobre películas de Hollywood a lo largo de los años.\n",
    "\n",
    "Este dataset se cargará directamente de un archivo .csv que está almacenado en mi dirección de Google Drive, por lo que primero se colocan las rutinas para cargarlo, y que no debería dar ningún problema si se cuenta con una conexión a internet estable (en caso de presentar algún problema con la carga del archivo, notificarlo a rdelgado@abae.gob.ve):"
   ]
  },
  {
   "cell_type": "code",
   "execution_count": null,
   "metadata": {
    "id": "zPeD9WDga7Jo"
   },
   "outputs": [],
   "source": [
    "# Carga del dataset Movie Industry almacenado en Google Drive externo\n",
    "import pandas as pd\n",
    "import requests\n",
    "from io import StringIO\n",
    "\n",
    "orig_url='https://drive.google.com/file/d/1qk0BqJd8VhyBUGrE8cYLrBZddecnWduV/view?usp=sharing'\n",
    "\n",
    "file_id = orig_url.split('/')[-2]\n",
    "dwn_url='https://drive.google.com/uc?export=download&id=' + file_id\n",
    "url = requests.get(dwn_url).text\n",
    "csv_raw = StringIO(url)\n",
    "movies = pd.read_csv(csv_raw)"
   ]
  },
  {
   "cell_type": "markdown",
   "metadata": {
    "id": "cYeGmFcSfdcv"
   },
   "source": [
    "Una vez cargado el archivo, podemos inspeccionar las primeras líneas:"
   ]
  },
  {
   "cell_type": "code",
   "execution_count": null,
   "metadata": {
    "id": "bils0R3cfogB"
   },
   "outputs": [],
   "source": [
    "# Aspecto del dataset\n",
    "\n",
    "movies.head()"
   ]
  },
  {
   "cell_type": "markdown",
   "metadata": {
    "id": "iBeFcrDPfwD6"
   },
   "source": [
    "Como se observa, las columnas de este conjunto de datos representan:\n",
    "- budget: el presupuesto empleado para hacer la película.\n",
    "- company: la compañía productora.\n",
    "- director: quién dirigió la película.\n",
    "- genre: a cuál género pertenece la película.\n",
    "- gross: las recaudación de la película en USD.\n",
    "- name: el nombre de la película.\n",
    "- rating: la censura de la película.\n",
    "- released: la fecha de estreno de la película.\n",
    "- runtime: la duración de la película.\n",
    "- score: el rating o valoración que los espectadores le dieron a la película.\n",
    "- star: actor o actriz protagonista.\n",
    "- votes: la cantidad de personas que valoraron la película.\n",
    "- writer: escritor o escritora de la película.\n",
    "- year: el año de producción de la película.\n",
    "\n",
    "Ahora bien, antes de establecer los objetivos del análisis, vamos a incorporar una nueva columna a este dataset. Esta nueva columna se llamará 'profit' y se refiere a las ganancias que obtuvo cada película, es decir, la diferencia entre la recaudación (gross) y el presupuesto (budget). Para crear esta nueva columna, hacemos lo siguiente:"
   ]
  },
  {
   "cell_type": "code",
   "execution_count": null,
   "metadata": {
    "id": "QJDAp_LYg2QU"
   },
   "outputs": [],
   "source": [
    "# Incorporamos las ganancias de cada pelicula\n",
    "\n",
    "movies['profit'] = movies['gross']-movies['budget']\n",
    "movies.head()"
   ]
  },
  {
   "cell_type": "markdown",
   "metadata": {
    "id": "F1uWVXJ9mSk_"
   },
   "source": [
    "Nótese que, en efecto, al final del dataframe se agregó la columna 'profit' que muestra las ganancias de cada película en USD.\n",
    "\n",
    "Ya que el dataset está listo, dejamos de parte del participante que realice como guste un Análisis de Datos Exploratorio, pero como principales objetivos del análisis deberá responder las siguientes preguntas:\n",
    "\n",
    "- ¿Cuántas películas (filas) forman parte del dataset?\n",
    "- ¿Cómo se distribuyen los datos de presupuesto, recaudación, ganancias y valoración de la audiencia?\n",
    "- ¿Cuáles son las 3 películas más costosas de hacer?\n",
    "- ¿Cuáles son las 3 películas que mayor recaudación tuvieron?\n",
    "- ¿Cuáles son las 3 películas que mayores ganancias tuvieron?\n",
    "- ¿Cuáles son las 3 películas mejor valoradas por los espectadores?\n",
    "- ¿Cuáles son las 3 películas peor valoradas por los espectadores?\n",
    "- ¿Cuáles son las 3 películas con menor recaudación?\n",
    "- ¿Hubo películas que tuvieron pérdidas en lugar de ganancias?\n",
    "- ¿Existe alguna relación entre el presupuesto de una película y su recaudación?\n",
    "- ¿Existe alguna relación entre el presupuesto de una película y sus ganancias?\n",
    "- ¿Las películas más caras de hacer obtienen mejores valoraciones de los espectadores?\n",
    "- ¿Las películas con mayores ganancias obtienen mejores valoraciones de los espectadores?\n",
    "- En promedio, ¿qué género (genre) de películas tiene mayor presupuesto?\n",
    "- En promedio, ¿qué género (genre) de películas tiene mayores ganancias?\n",
    "- En promedio, ¿qué género (genre) de películas obtiene mayor valoración de la audiencia?\n",
    "- ¿Existe alguna relación entre el género de una película y la valoración promedio de la audiencia?\n",
    "- ¿A lo largo de los años, las películas se han hecho cada vez más caras?\n",
    "- ¿A lo largo de los años, las películas obtienen mayores ganancias?\n",
    "- ¿Las películas más recientes obtienen mejor valoración de la audiencia que las películas más viejas?\n",
    "- ¿Cuál es la relación entre la duración de una película y la valoración de la audiencia?\n",
    "- ¿Cuál director de cine es, en promedio, el mejor valorado por la audiencia?\n",
    "- ¿Cuál director de cine es, en promedio, el que películas con mayores ganancias ha producido?\n",
    "- ¿Qué otros datos de interés puede obtener a partir del dataset presentado?"
   ]
  },
  {
   "cell_type": "markdown",
   "metadata": {
    "id": "iIoEHTgCqFHF"
   },
   "source": [
    "# Conclusiones\n",
    "\n",
    "Con esto, finaliza el Curso Introductorio de Programación en Python. Por supuesto, lo presentado a lo largo del curso no agota el tema, pues lo que se mostró apenas representan algunas de las principales funcionalidades del lenguaje de programación, así como de algunas de las librerías más populares que existen. Además, en el curso no se mencionó nada relacionado con la programación orientada a objetos (OOP) y la definición y el trabajo con clases en Python, aspectos avanzados que pueden ser de utilidad para quien desea profundizar en el tema.\n",
    "\n",
    "En este sentido, la invitación para los interesados es a investigar sobre librerías como 'OpenCV' (visión por computadora y procesamiento digital de imágenes), 'Requests' (librería para trabajar con peticiones HTTP), 'SciPy' (librería para cálculo científico), 'Scikit-learn', 'Keras', 'Tensorflow' y 'PyTorch' (librerías para machine learning e inteligencia artificial), 'SQLAlchemy' (librería para bases de datos), 'Rasterio' y 'GDAL' (librerías para procesar imágenes satelitales), 'Seaborn' (librería para graficación avanzada), entre muchas otras existentes y que, sin duda, podrían ser de utilidad para resolver una infinidad de problemas en distintas áreas del conocimiento.\n",
    "\n",
    "Para aquellos que siguieron el curso y les resultó interesante y provechoso, espero lo aprendido pueda servirles como una herramienta profesional (y personal) adicional y poderosa para enfrentar cualquier tarea que se les presente.\n",
    "\n",
    "Termino entonces, con una interesante frase de Francois Chollet, investigador de Google y creador de la librería 'Keras':\n",
    "\n",
    "\"Podrás destacar en prácticamente cualquier oficio si llevas contigo una mentalidad científica\"."
   ]
  }
 ],
 "metadata": {
  "colab": {
   "collapsed_sections": [],
   "name": "Curso_Introductorio_Python_v1_2.ipynb",
   "provenance": [],
   "toc_visible": true
  },
  "kernelspec": {
   "display_name": "Python 3 (ipykernel)",
   "language": "python",
   "name": "python3"
  },
  "language_info": {
   "codemirror_mode": {
    "name": "ipython",
    "version": 3
   },
   "file_extension": ".py",
   "mimetype": "text/x-python",
   "name": "python",
   "nbconvert_exporter": "python",
   "pygments_lexer": "ipython3",
   "version": "3.9.7"
  }
 },
 "nbformat": 4,
 "nbformat_minor": 1
}
